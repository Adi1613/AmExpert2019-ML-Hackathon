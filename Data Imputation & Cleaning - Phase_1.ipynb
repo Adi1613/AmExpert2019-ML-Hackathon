{
 "cells": [
  {
   "cell_type": "code",
   "execution_count": 1,
   "metadata": {},
   "outputs": [],
   "source": [
    "# Modules :\n",
    "\n",
    "from pyforest import *\n",
    "from tqdm import tqdm\n",
    "import warnings\n",
    "from IPython.display import Image\n",
    "import re\n",
    "from sklearn.linear_model import LogisticRegression\n",
    "from sklearn.neighbors import KNeighborsClassifier\n",
    "from sklearn.svm import SVC\n",
    "from prettytable import PrettyTable\n",
    "warnings.filterwarnings(\"ignore\")\n",
    "%matplotlib inline"
   ]
  },
  {
   "cell_type": "markdown",
   "metadata": {},
   "source": [
    "![title](Merchant_Banking.png)"
   ]
  },
  {
   "cell_type": "markdown",
   "metadata": {},
   "source": [
    "# AmExpert 2019 – Machine Learning Hackathon\n",
    "\n",
    "\n",
    "## Introduction\n",
    "American Express and Analytics Vidhya presents “AmExpert 2019 – Machine Learning Hackathon”. An amazing opportunity to showcase your analytical abilities and talent.\n",
    "\n",
    "Get a taste of the kind of challenges we face here at American Express on day to day basis.\n",
    "\n",
    "Exciting prizes up for grabs! Best performers also get a chance to get interviewed by American Express for analytics roles!\n",
    "\n",
    "Don’t hold on to the buzzing ideas in your mind. Just wear your thinking hats and display the spectrum of your creativity!\n",
    "\n",
    "\n",
    "# Problem Statement\n",
    "\n",
    "## Predicting Coupon Redemption\n",
    "\n",
    "XYZ Credit Card company regularly helps it’s merchants understand their data better and take key business decisions accurately by providing machine learning and analytics consulting. ABC is an established Brick & Mortar retailer that frequently conducts marketing campaigns for its diverse product range. As a merchant of XYZ, they have sought XYZ to assist them in their discount marketing process using the power of machine learning. Can you wear the AmExpert hat and help out ABC?\n",
    "\n",
    " \n",
    "Discount marketing and coupon usage are very widely used promotional techniques to attract new customers and to retain & reinforce loyalty of existing customers. The measurement of a consumer’s propensity towards coupon usage and the prediction of the redemption behaviour are crucial parameters in assessing the effectiveness of a marketing campaign.\n",
    "\n",
    " \n",
    "ABC’s promotions are shared across various channels including email, notifications, etc. A number of these campaigns include coupon discounts that are offered for a specific product/range of products. The retailer would like the ability to predict whether customers redeem the coupons received across channels, which will enable the retailer’s marketing team to accurately design coupon construct, and develop more precise and targeted marketing strategies.\n",
    "\n",
    " \n",
    "The data available in this problem contains the following information, including the details of a sample of campaigns and coupons used in previous campaigns -\n",
    "\n",
    "**User Demographic Details**\n",
    "\n",
    "**Campaign and coupon Details**\n",
    "\n",
    "**Product details**\n",
    "\n",
    "**Previous transactions**\n",
    "\n",
    "\n",
    "Based on previous transaction & performance data from the last 18 campaigns, predict the probability for the next 10 campaigns in the test set for each coupon and customer combination, whether the customer will redeem the coupon or not?\n",
    "\n",
    " \n",
    "\n",
    "### Dataset Description\n",
    "\n",
    "Here is the schema for the different data tables available. The detailed data dictionary is provided next.\n",
    "\n",
    "![title](amex19.png)\n",
    "\n",
    "You are provided with the following files in train.zip:\n",
    "\n",
    "**train.csv:** Train data containing the coupons offered to the given customers under the 18 campaigns\n",
    "\n",
    "|Variable |Definition |\n",
    "|----|----|\n",
    "|id\t|Unique id for coupon customer impression|\n",
    "|campaign_id\t|Unique id for a discount campaign|\n",
    "|coupon_id\t|Unique id for a discount coupon|\n",
    "|customer_id\t|Unique id for a customer|\n",
    "|redemption_status|\t(target) (0 - Coupon not redeemed, 1 - Coupon redeemed) |\n",
    "\n",
    "\n",
    "**campaign_data.csv:** Campaign information for each of the 28 campaigns\n",
    "\n",
    "|Variable|\tDefinition|\n",
    "|----|----|\n",
    "|campaign_id\t|Unique id for a discount campaign|\n",
    "|campaign_type\t|Anonymised Campaign Type (X/Y)|\n",
    "|start_date\t|Campaign Start Date|\n",
    "|end_date\t|Campaign End Date |\n",
    "\n",
    "\n",
    "**coupon_item_mapping.csv:** Mapping of coupon and items valid for discount under that coupon\n",
    "\n",
    "|Variable|\tDefinition|\n",
    "|----|----|\n",
    "|coupon_id\t|Unique id for a discount coupon (no order)|\n",
    "|item_id\t|Unique id for items for which given coupon is valid (no order) |\n",
    "\n",
    "\n",
    "**customer_demographics.csv:** Customer demographic information for some customers\n",
    "\n",
    "|Variable\t|Definition|\n",
    "|----|----|\n",
    "|customer_id\t|Unique id for a customer|\n",
    "|age_range\t|Age range of customer family in years|\n",
    "|marital_status|\tMarried/Single|\n",
    "|rented|\t0 - not rented accommodation, 1 - rented accommodation|\n",
    "|family_size|\tNumber of family members|\n",
    "|no_of_children\t|Number of children in the family|\n",
    "|income_bracket|\tLabel Encoded Income Bracket (Higher income corresponds to higher number) |\n",
    "\n",
    "\n",
    "**customer_transaction_data.csv:** Transaction data for all customers for duration of campaigns in the train data\n",
    "\n",
    "|Variable\t|Definition|\n",
    "|----|----|\n",
    "|date\t|Date of Transaction|\n",
    "|customer_id|Unique id for a customer|\n",
    "|item_id|\tUnique id for item|\n",
    "|quantity\t|quantity of item bought|\n",
    "|selling_price\t|Sales value of the transaction|\n",
    "|other_discount|\tDiscount from other sources such as manufacturer coupon/loyalty card|\n",
    "|coupon_discount|\tDiscount availed from retailer coupon |\n",
    "\n",
    "\n",
    "**item_data.csv:** Item information for each item sold by the retailer\n",
    "\n",
    "|Variable|\tDefinition|\n",
    "|----|----|\n",
    "|item_id|\tUnique id for itemv\n",
    "|brand\t|Unique id for item brand|\n",
    "|brand_type\t|Brand Type (local/Established)|\n",
    "|category\t|Item Category |\n",
    "\n",
    "\n",
    "**test.csv:** Contains the coupon customer combination for which redemption status is to be predicted\n",
    "\n",
    "|Variable|\tDefinition|\n",
    "|----|----|\n",
    "|id\t|Unique id for coupon customer impression|\n",
    "|campaign_id\t|Unique id for a discount campaign|\n",
    "|coupon_id\t|Unique id for a discount coupon|\n",
    "|customer_id\t|Unique id for a customer |\n",
    "\n",
    "*Campaign, coupon and customer data for test set is also contained in train.zip *\n",
    "\n",
    "**sample_submission.csv:** This file contains the format in which you have to submit your predictions.\n",
    "\n",
    "To summarise the entire process:\n",
    "\n",
    "* Customers receive coupons under various campaigns and may choose to redeem it.\n",
    "* They can redeem the given coupon for any valid product for that coupon as per coupon item mapping within the duration between campaign start date and end date\n",
    "* Next, the customer will redeem the coupon for an item at the retailer store and that will reflect in the transaction table in the column coupon_discount.\n",
    " \n",
    "### Evaluation Metric\n",
    "Submissions are evaluated on area under the ROC curve between the predicted probability and the observed target.\n",
    " \n",
    "\n",
    "### Public and Private Split\n",
    "* Test data is further randomly divided into Public (40%) and Private data (60%)\n",
    "* Your initial responses will be checked and scored on the Public data.\n",
    "* The final rankings would be based on your private score which will be published once the competition is over."
   ]
  },
  {
   "cell_type": "code",
   "execution_count": 2,
   "metadata": {},
   "outputs": [],
   "source": [
    "# Importing Datasets :\n",
    "\n",
    "campaign_data = pd.read_csv(r'D:\\MOOCs & Material\\Data Science & ML\\Data Modelling - Datasets\\American Express (AmExpert) - Analytics vidhya\\Datasets\\campaign_data.csv')\n",
    "coupon_item_mapping = pd.read_csv(r'D:\\MOOCs & Material\\Data Science & ML\\Data Modelling - Datasets\\American Express (AmExpert) - Analytics vidhya\\Datasets\\coupon_item_mapping.csv')\n",
    "customer_demographs = pd.read_csv(r'D:\\MOOCs & Material\\Data Science & ML\\Data Modelling - Datasets\\American Express (AmExpert) - Analytics vidhya\\Datasets\\customer_demographics.csv')\n",
    "customer_transaction_data = pd.read_csv(r'D:\\MOOCs & Material\\Data Science & ML\\Data Modelling - Datasets\\American Express (AmExpert) - Analytics vidhya\\Datasets\\customer_transaction_data.csv')\n",
    "item_data = pd.read_csv(r'D:\\MOOCs & Material\\Data Science & ML\\Data Modelling - Datasets\\American Express (AmExpert) - Analytics vidhya\\Datasets\\item_data.csv')\n",
    "train = pd.read_csv(r'D:\\MOOCs & Material\\Data Science & ML\\Data Modelling - Datasets\\American Express (AmExpert) - Analytics vidhya\\Datasets\\train.csv')\n",
    "test = pd.read_csv(r'D:\\MOOCs & Material\\Data Science & ML\\Data Modelling - Datasets\\American Express (AmExpert) - Analytics vidhya\\Datasets\\test.csv')"
   ]
  },
  {
   "cell_type": "markdown",
   "metadata": {},
   "source": [
    "<h2>OBJECTIVE :</h2>\n",
    "\n",
    "Based on previous transaction & performance data from the last **18** campaigns, predict the probability for the next **10** campaigns in the test set for each coupon and customer combination, whether the customer will redeem the coupon or not?"
   ]
  },
  {
   "cell_type": "markdown",
   "metadata": {},
   "source": [
    "<h2>Performing EDA for </h2>\n",
    "\n",
    "+ Campaign_Data\n",
    "+ Coupon_Item_Mapping\n",
    "+ Item_data\n",
    "+ Customer_Transaction_Data "
   ]
  },
  {
   "cell_type": "markdown",
   "metadata": {},
   "source": [
    "### *Campaign Data :* "
   ]
  },
  {
   "cell_type": "code",
   "execution_count": 3,
   "metadata": {},
   "outputs": [
    {
     "data": {
      "text/html": [
       "<div>\n",
       "<style scoped>\n",
       "    .dataframe tbody tr th:only-of-type {\n",
       "        vertical-align: middle;\n",
       "    }\n",
       "\n",
       "    .dataframe tbody tr th {\n",
       "        vertical-align: top;\n",
       "    }\n",
       "\n",
       "    .dataframe thead th {\n",
       "        text-align: right;\n",
       "    }\n",
       "</style>\n",
       "<table border=\"1\" class=\"dataframe\">\n",
       "  <thead>\n",
       "    <tr style=\"text-align: right;\">\n",
       "      <th></th>\n",
       "      <th>campaign_id</th>\n",
       "      <th>campaign_type</th>\n",
       "      <th>start_date</th>\n",
       "      <th>end_date</th>\n",
       "    </tr>\n",
       "  </thead>\n",
       "  <tbody>\n",
       "    <tr>\n",
       "      <td>0</td>\n",
       "      <td>24</td>\n",
       "      <td>Y</td>\n",
       "      <td>21/10/13</td>\n",
       "      <td>20/12/13</td>\n",
       "    </tr>\n",
       "    <tr>\n",
       "      <td>1</td>\n",
       "      <td>25</td>\n",
       "      <td>Y</td>\n",
       "      <td>21/10/13</td>\n",
       "      <td>22/11/13</td>\n",
       "    </tr>\n",
       "    <tr>\n",
       "      <td>2</td>\n",
       "      <td>20</td>\n",
       "      <td>Y</td>\n",
       "      <td>07/09/13</td>\n",
       "      <td>16/11/13</td>\n",
       "    </tr>\n",
       "    <tr>\n",
       "      <td>3</td>\n",
       "      <td>23</td>\n",
       "      <td>Y</td>\n",
       "      <td>08/10/13</td>\n",
       "      <td>15/11/13</td>\n",
       "    </tr>\n",
       "    <tr>\n",
       "      <td>4</td>\n",
       "      <td>21</td>\n",
       "      <td>Y</td>\n",
       "      <td>16/09/13</td>\n",
       "      <td>18/10/13</td>\n",
       "    </tr>\n",
       "  </tbody>\n",
       "</table>\n",
       "</div>"
      ],
      "text/plain": [
       "   campaign_id campaign_type start_date  end_date\n",
       "0           24             Y   21/10/13  20/12/13\n",
       "1           25             Y   21/10/13  22/11/13\n",
       "2           20             Y   07/09/13  16/11/13\n",
       "3           23             Y   08/10/13  15/11/13\n",
       "4           21             Y   16/09/13  18/10/13"
      ]
     },
     "execution_count": 3,
     "metadata": {},
     "output_type": "execute_result"
    }
   ],
   "source": [
    "campaign_data.head()"
   ]
  },
  {
   "cell_type": "code",
   "execution_count": 4,
   "metadata": {},
   "outputs": [
    {
     "name": "stdout",
     "output_type": "stream",
     "text": [
      "<class 'pandas.core.frame.DataFrame'>\n",
      "RangeIndex: 28 entries, 0 to 27\n",
      "Data columns (total 4 columns):\n",
      "campaign_id      28 non-null int64\n",
      "campaign_type    28 non-null object\n",
      "start_date       28 non-null object\n",
      "end_date         28 non-null object\n",
      "dtypes: int64(1), object(3)\n",
      "memory usage: 1.0+ KB\n"
     ]
    }
   ],
   "source": [
    "campaign_data.info()"
   ]
  },
  {
   "cell_type": "code",
   "execution_count": 5,
   "metadata": {},
   "outputs": [
    {
     "data": {
      "text/plain": [
       "28"
      ]
     },
     "execution_count": 5,
     "metadata": {},
     "output_type": "execute_result"
    }
   ],
   "source": [
    "len(campaign_data)"
   ]
  },
  {
   "cell_type": "code",
   "execution_count": 6,
   "metadata": {},
   "outputs": [
    {
     "data": {
      "text/plain": [
       "28"
      ]
     },
     "execution_count": 6,
     "metadata": {},
     "output_type": "execute_result"
    }
   ],
   "source": [
    "# Total no of unique campaign ids :\n",
    "\n",
    "campaign_data.campaign_id.nunique()"
   ]
  },
  {
   "cell_type": "code",
   "execution_count": 7,
   "metadata": {},
   "outputs": [
    {
     "name": "stdout",
     "output_type": "stream",
     "text": [
      "count_by_train :  18\n",
      "count_by_test :  10\n"
     ]
    }
   ],
   "source": [
    "# For train set, there are 18 campaign_ids and therefore we need to predict for 10 campigns of the test set :\n",
    "\n",
    "count_by_train = 0\n",
    "\n",
    "for each in train.campaign_id.unique():\n",
    "    if each in campaign_data.campaign_id.unique():\n",
    "        count_by_train+=1\n",
    "        \n",
    "print('count_by_train : ', count_by_train)\n",
    "\n",
    "count_by_test = 0\n",
    "\n",
    "for each in test.campaign_id.unique():\n",
    "    if each in campaign_data.campaign_id.unique():\n",
    "        count_by_test+=1\n",
    "        \n",
    "print('count_by_test : ', count_by_test)"
   ]
  },
  {
   "cell_type": "code",
   "execution_count": 8,
   "metadata": {},
   "outputs": [
    {
     "name": "stdout",
     "output_type": "stream",
     "text": [
      "Unique No of campaign_type : 2\n",
      "Types No of campaign_type : ['Y' 'X']\n"
     ]
    }
   ],
   "source": [
    "# FEATURE - Campaign_Type :\n",
    "\n",
    "print('Unique No of campaign_type :', campaign_data.campaign_type.nunique())\n",
    "print('Types No of campaign_type :', campaign_data.campaign_type.unique())"
   ]
  },
  {
   "cell_type": "code",
   "execution_count": 9,
   "metadata": {},
   "outputs": [],
   "source": [
    "# Converting to datetime for the 'start_date' and the 'end_date' of the campaigns :\n",
    "\n",
    "campaign_data.start_date = pd.to_datetime(campaign_data.start_date)\n",
    "campaign_data.end_date = pd.to_datetime(campaign_data.end_date)"
   ]
  },
  {
   "cell_type": "code",
   "execution_count": 10,
   "metadata": {},
   "outputs": [
    {
     "data": {
      "text/html": [
       "<div>\n",
       "<style scoped>\n",
       "    .dataframe tbody tr th:only-of-type {\n",
       "        vertical-align: middle;\n",
       "    }\n",
       "\n",
       "    .dataframe tbody tr th {\n",
       "        vertical-align: top;\n",
       "    }\n",
       "\n",
       "    .dataframe thead th {\n",
       "        text-align: right;\n",
       "    }\n",
       "</style>\n",
       "<table border=\"1\" class=\"dataframe\">\n",
       "  <thead>\n",
       "    <tr style=\"text-align: right;\">\n",
       "      <th></th>\n",
       "      <th>campaign_id</th>\n",
       "      <th>campaign_type</th>\n",
       "      <th>start_date</th>\n",
       "      <th>end_date</th>\n",
       "    </tr>\n",
       "  </thead>\n",
       "  <tbody>\n",
       "    <tr>\n",
       "      <td>0</td>\n",
       "      <td>24</td>\n",
       "      <td>Y</td>\n",
       "      <td>2013-10-21</td>\n",
       "      <td>2013-12-20</td>\n",
       "    </tr>\n",
       "    <tr>\n",
       "      <td>1</td>\n",
       "      <td>25</td>\n",
       "      <td>Y</td>\n",
       "      <td>2013-10-21</td>\n",
       "      <td>2013-11-22</td>\n",
       "    </tr>\n",
       "    <tr>\n",
       "      <td>2</td>\n",
       "      <td>20</td>\n",
       "      <td>Y</td>\n",
       "      <td>2013-07-09</td>\n",
       "      <td>2013-11-16</td>\n",
       "    </tr>\n",
       "    <tr>\n",
       "      <td>3</td>\n",
       "      <td>23</td>\n",
       "      <td>Y</td>\n",
       "      <td>2013-08-10</td>\n",
       "      <td>2013-11-15</td>\n",
       "    </tr>\n",
       "    <tr>\n",
       "      <td>4</td>\n",
       "      <td>21</td>\n",
       "      <td>Y</td>\n",
       "      <td>2013-09-16</td>\n",
       "      <td>2013-10-18</td>\n",
       "    </tr>\n",
       "  </tbody>\n",
       "</table>\n",
       "</div>"
      ],
      "text/plain": [
       "   campaign_id campaign_type start_date   end_date\n",
       "0           24             Y 2013-10-21 2013-12-20\n",
       "1           25             Y 2013-10-21 2013-11-22\n",
       "2           20             Y 2013-07-09 2013-11-16\n",
       "3           23             Y 2013-08-10 2013-11-15\n",
       "4           21             Y 2013-09-16 2013-10-18"
      ]
     },
     "execution_count": 10,
     "metadata": {},
     "output_type": "execute_result"
    }
   ],
   "source": [
    "campaign_data.head()"
   ]
  },
  {
   "cell_type": "markdown",
   "metadata": {},
   "source": [
    "## *Train Data:*"
   ]
  },
  {
   "cell_type": "code",
   "execution_count": 11,
   "metadata": {},
   "outputs": [
    {
     "name": "stdout",
     "output_type": "stream",
     "text": [
      "<class 'pandas.core.frame.DataFrame'>\n",
      "RangeIndex: 78369 entries, 0 to 78368\n",
      "Data columns (total 5 columns):\n",
      "id                   78369 non-null int64\n",
      "campaign_id          78369 non-null int64\n",
      "coupon_id            78369 non-null int64\n",
      "customer_id          78369 non-null int64\n",
      "redemption_status    78369 non-null int64\n",
      "dtypes: int64(5)\n",
      "memory usage: 3.0 MB\n"
     ]
    }
   ],
   "source": [
    "train.info()"
   ]
  },
  {
   "cell_type": "code",
   "execution_count": 12,
   "metadata": {},
   "outputs": [
    {
     "data": {
      "text/html": [
       "<div>\n",
       "<style scoped>\n",
       "    .dataframe tbody tr th:only-of-type {\n",
       "        vertical-align: middle;\n",
       "    }\n",
       "\n",
       "    .dataframe tbody tr th {\n",
       "        vertical-align: top;\n",
       "    }\n",
       "\n",
       "    .dataframe thead th {\n",
       "        text-align: right;\n",
       "    }\n",
       "</style>\n",
       "<table border=\"1\" class=\"dataframe\">\n",
       "  <thead>\n",
       "    <tr style=\"text-align: right;\">\n",
       "      <th></th>\n",
       "      <th>id</th>\n",
       "      <th>campaign_id</th>\n",
       "      <th>coupon_id</th>\n",
       "      <th>customer_id</th>\n",
       "      <th>redemption_status</th>\n",
       "    </tr>\n",
       "  </thead>\n",
       "  <tbody>\n",
       "    <tr>\n",
       "      <td>0</td>\n",
       "      <td>1</td>\n",
       "      <td>13</td>\n",
       "      <td>27</td>\n",
       "      <td>1053</td>\n",
       "      <td>0</td>\n",
       "    </tr>\n",
       "    <tr>\n",
       "      <td>1</td>\n",
       "      <td>2</td>\n",
       "      <td>13</td>\n",
       "      <td>116</td>\n",
       "      <td>48</td>\n",
       "      <td>0</td>\n",
       "    </tr>\n",
       "    <tr>\n",
       "      <td>2</td>\n",
       "      <td>6</td>\n",
       "      <td>9</td>\n",
       "      <td>635</td>\n",
       "      <td>205</td>\n",
       "      <td>0</td>\n",
       "    </tr>\n",
       "    <tr>\n",
       "      <td>3</td>\n",
       "      <td>7</td>\n",
       "      <td>13</td>\n",
       "      <td>644</td>\n",
       "      <td>1050</td>\n",
       "      <td>0</td>\n",
       "    </tr>\n",
       "    <tr>\n",
       "      <td>4</td>\n",
       "      <td>9</td>\n",
       "      <td>8</td>\n",
       "      <td>1017</td>\n",
       "      <td>1489</td>\n",
       "      <td>0</td>\n",
       "    </tr>\n",
       "  </tbody>\n",
       "</table>\n",
       "</div>"
      ],
      "text/plain": [
       "   id  campaign_id  coupon_id  customer_id  redemption_status\n",
       "0   1           13         27         1053                  0\n",
       "1   2           13        116           48                  0\n",
       "2   6            9        635          205                  0\n",
       "3   7           13        644         1050                  0\n",
       "4   9            8       1017         1489                  0"
      ]
     },
     "execution_count": 12,
     "metadata": {},
     "output_type": "execute_result"
    }
   ],
   "source": [
    "train.head()"
   ]
  },
  {
   "cell_type": "code",
   "execution_count": 13,
   "metadata": {},
   "outputs": [
    {
     "data": {
      "text/plain": [
       "78369"
      ]
     },
     "execution_count": 13,
     "metadata": {},
     "output_type": "execute_result"
    }
   ],
   "source": [
    "len(train)"
   ]
  },
  {
   "cell_type": "code",
   "execution_count": 14,
   "metadata": {},
   "outputs": [
    {
     "data": {
      "text/html": [
       "<div>\n",
       "<style scoped>\n",
       "    .dataframe tbody tr th:only-of-type {\n",
       "        vertical-align: middle;\n",
       "    }\n",
       "\n",
       "    .dataframe tbody tr th {\n",
       "        vertical-align: top;\n",
       "    }\n",
       "\n",
       "    .dataframe thead th {\n",
       "        text-align: right;\n",
       "    }\n",
       "</style>\n",
       "<table border=\"1\" class=\"dataframe\">\n",
       "  <thead>\n",
       "    <tr style=\"text-align: right;\">\n",
       "      <th></th>\n",
       "      <th>customer_id</th>\n",
       "    </tr>\n",
       "    <tr>\n",
       "      <th>customer_id</th>\n",
       "      <th></th>\n",
       "    </tr>\n",
       "  </thead>\n",
       "  <tbody>\n",
       "    <tr>\n",
       "      <td>1</td>\n",
       "      <td>94</td>\n",
       "    </tr>\n",
       "    <tr>\n",
       "      <td>3</td>\n",
       "      <td>42</td>\n",
       "    </tr>\n",
       "    <tr>\n",
       "      <td>4</td>\n",
       "      <td>23</td>\n",
       "    </tr>\n",
       "    <tr>\n",
       "      <td>5</td>\n",
       "      <td>52</td>\n",
       "    </tr>\n",
       "    <tr>\n",
       "      <td>6</td>\n",
       "      <td>32</td>\n",
       "    </tr>\n",
       "  </tbody>\n",
       "</table>\n",
       "</div>"
      ],
      "text/plain": [
       "             customer_id\n",
       "customer_id             \n",
       "1                     94\n",
       "3                     42\n",
       "4                     23\n",
       "5                     52\n",
       "6                     32"
      ]
     },
     "execution_count": 14,
     "metadata": {},
     "output_type": "execute_result"
    }
   ],
   "source": [
    "# More than one data points of each customer(customer_id) :\n",
    "\n",
    "train.groupby('customer_id').agg({'customer_id':'count'}).head() # COUNT "
   ]
  },
  {
   "cell_type": "markdown",
   "metadata": {},
   "source": [
    ">   In train data, more than 1 data point is present for the same customer_id\n",
    "\n",
    ">   More than one type of coupon is applied by each customer over the campaigns"
   ]
  },
  {
   "cell_type": "markdown",
   "metadata": {},
   "source": [
    "## *Customer Transaction Data:*"
   ]
  },
  {
   "cell_type": "code",
   "execution_count": 15,
   "metadata": {},
   "outputs": [
    {
     "data": {
      "text/html": [
       "<div>\n",
       "<style scoped>\n",
       "    .dataframe tbody tr th:only-of-type {\n",
       "        vertical-align: middle;\n",
       "    }\n",
       "\n",
       "    .dataframe tbody tr th {\n",
       "        vertical-align: top;\n",
       "    }\n",
       "\n",
       "    .dataframe thead th {\n",
       "        text-align: right;\n",
       "    }\n",
       "</style>\n",
       "<table border=\"1\" class=\"dataframe\">\n",
       "  <thead>\n",
       "    <tr style=\"text-align: right;\">\n",
       "      <th></th>\n",
       "      <th>date</th>\n",
       "      <th>customer_id</th>\n",
       "      <th>item_id</th>\n",
       "      <th>quantity</th>\n",
       "      <th>selling_price</th>\n",
       "      <th>other_discount</th>\n",
       "      <th>coupon_discount</th>\n",
       "    </tr>\n",
       "  </thead>\n",
       "  <tbody>\n",
       "    <tr>\n",
       "      <td>0</td>\n",
       "      <td>2012-01-02</td>\n",
       "      <td>1501</td>\n",
       "      <td>26830</td>\n",
       "      <td>1</td>\n",
       "      <td>35.26</td>\n",
       "      <td>-10.69</td>\n",
       "      <td>0.0</td>\n",
       "    </tr>\n",
       "    <tr>\n",
       "      <td>1</td>\n",
       "      <td>2012-01-02</td>\n",
       "      <td>1501</td>\n",
       "      <td>54253</td>\n",
       "      <td>1</td>\n",
       "      <td>53.43</td>\n",
       "      <td>-13.89</td>\n",
       "      <td>0.0</td>\n",
       "    </tr>\n",
       "    <tr>\n",
       "      <td>2</td>\n",
       "      <td>2012-01-02</td>\n",
       "      <td>1501</td>\n",
       "      <td>31962</td>\n",
       "      <td>1</td>\n",
       "      <td>106.50</td>\n",
       "      <td>-14.25</td>\n",
       "      <td>0.0</td>\n",
       "    </tr>\n",
       "    <tr>\n",
       "      <td>3</td>\n",
       "      <td>2012-01-02</td>\n",
       "      <td>1501</td>\n",
       "      <td>33647</td>\n",
       "      <td>1</td>\n",
       "      <td>67.32</td>\n",
       "      <td>0.00</td>\n",
       "      <td>0.0</td>\n",
       "    </tr>\n",
       "    <tr>\n",
       "      <td>4</td>\n",
       "      <td>2012-01-02</td>\n",
       "      <td>1501</td>\n",
       "      <td>48199</td>\n",
       "      <td>1</td>\n",
       "      <td>71.24</td>\n",
       "      <td>-28.14</td>\n",
       "      <td>0.0</td>\n",
       "    </tr>\n",
       "  </tbody>\n",
       "</table>\n",
       "</div>"
      ],
      "text/plain": [
       "         date  customer_id  item_id  quantity  selling_price  other_discount  \\\n",
       "0  2012-01-02         1501    26830         1          35.26          -10.69   \n",
       "1  2012-01-02         1501    54253         1          53.43          -13.89   \n",
       "2  2012-01-02         1501    31962         1         106.50          -14.25   \n",
       "3  2012-01-02         1501    33647         1          67.32            0.00   \n",
       "4  2012-01-02         1501    48199         1          71.24          -28.14   \n",
       "\n",
       "   coupon_discount  \n",
       "0              0.0  \n",
       "1              0.0  \n",
       "2              0.0  \n",
       "3              0.0  \n",
       "4              0.0  "
      ]
     },
     "execution_count": 15,
     "metadata": {},
     "output_type": "execute_result"
    }
   ],
   "source": [
    "customer_transaction_data.head()"
   ]
  },
  {
   "cell_type": "code",
   "execution_count": 16,
   "metadata": {},
   "outputs": [
    {
     "data": {
      "text/html": [
       "<div>\n",
       "<style scoped>\n",
       "    .dataframe tbody tr th:only-of-type {\n",
       "        vertical-align: middle;\n",
       "    }\n",
       "\n",
       "    .dataframe tbody tr th {\n",
       "        vertical-align: top;\n",
       "    }\n",
       "\n",
       "    .dataframe thead th {\n",
       "        text-align: right;\n",
       "    }\n",
       "</style>\n",
       "<table border=\"1\" class=\"dataframe\">\n",
       "  <thead>\n",
       "    <tr style=\"text-align: right;\">\n",
       "      <th></th>\n",
       "      <th>customer_id</th>\n",
       "    </tr>\n",
       "    <tr>\n",
       "      <th>customer_id</th>\n",
       "      <th></th>\n",
       "    </tr>\n",
       "  </thead>\n",
       "  <tbody>\n",
       "    <tr>\n",
       "      <td>1</td>\n",
       "      <td>1048</td>\n",
       "    </tr>\n",
       "    <tr>\n",
       "      <td>2</td>\n",
       "      <td>419</td>\n",
       "    </tr>\n",
       "    <tr>\n",
       "      <td>3</td>\n",
       "      <td>705</td>\n",
       "    </tr>\n",
       "    <tr>\n",
       "      <td>4</td>\n",
       "      <td>220</td>\n",
       "    </tr>\n",
       "    <tr>\n",
       "      <td>5</td>\n",
       "      <td>792</td>\n",
       "    </tr>\n",
       "  </tbody>\n",
       "</table>\n",
       "</div>"
      ],
      "text/plain": [
       "             customer_id\n",
       "customer_id             \n",
       "1                   1048\n",
       "2                    419\n",
       "3                    705\n",
       "4                    220\n",
       "5                    792"
      ]
     },
     "execution_count": 16,
     "metadata": {},
     "output_type": "execute_result"
    }
   ],
   "source": [
    "# More than one data points of each customer(customer_id) :\n",
    "\n",
    "customer_transaction_data.groupby('customer_id').agg({'customer_id':'count'}).head() # COUNT "
   ]
  },
  {
   "cell_type": "markdown",
   "metadata": {},
   "source": [
    ">   In customer_transaction_data, more than 1 data point is present for the same customer_id.\n",
    "\n",
    ">   More than one transaction has been performed by each customer over the campaigns."
   ]
  },
  {
   "cell_type": "code",
   "execution_count": 17,
   "metadata": {},
   "outputs": [],
   "source": [
    "# Aggregrating transaction featurs for each customer_id(customer) :\n",
    "\n",
    "# More than one data points of each customer(customer_id) :\n",
    "\n",
    "customer_transaction_data_groupBy = customer_transaction_data.groupby('customer_id').agg({'selling_price':['mean', 'max', 'min', 'sum'],\n",
    "                                                     'other_discount':['mean', 'max', 'min', 'sum'],\n",
    "                                                      'coupon_discount':['mean', 'max', 'min', 'sum']})  "
   ]
  },
  {
   "cell_type": "code",
   "execution_count": 18,
   "metadata": {},
   "outputs": [
    {
     "data": {
      "text/html": [
       "<div>\n",
       "<style scoped>\n",
       "    .dataframe tbody tr th:only-of-type {\n",
       "        vertical-align: middle;\n",
       "    }\n",
       "\n",
       "    .dataframe tbody tr th {\n",
       "        vertical-align: top;\n",
       "    }\n",
       "\n",
       "    .dataframe thead tr th {\n",
       "        text-align: left;\n",
       "    }\n",
       "</style>\n",
       "<table border=\"1\" class=\"dataframe\">\n",
       "  <thead>\n",
       "    <tr>\n",
       "      <th></th>\n",
       "      <th>customer_id</th>\n",
       "      <th colspan=\"4\" halign=\"left\">selling_price</th>\n",
       "      <th colspan=\"4\" halign=\"left\">other_discount</th>\n",
       "      <th colspan=\"4\" halign=\"left\">coupon_discount</th>\n",
       "    </tr>\n",
       "    <tr>\n",
       "      <th></th>\n",
       "      <th></th>\n",
       "      <th>mean</th>\n",
       "      <th>max</th>\n",
       "      <th>min</th>\n",
       "      <th>sum</th>\n",
       "      <th>mean</th>\n",
       "      <th>max</th>\n",
       "      <th>min</th>\n",
       "      <th>sum</th>\n",
       "      <th>mean</th>\n",
       "      <th>max</th>\n",
       "      <th>min</th>\n",
       "      <th>sum</th>\n",
       "    </tr>\n",
       "  </thead>\n",
       "  <tbody>\n",
       "    <tr>\n",
       "      <td>0</td>\n",
       "      <td>1</td>\n",
       "      <td>94.001842</td>\n",
       "      <td>445.25</td>\n",
       "      <td>12.11</td>\n",
       "      <td>98513.93</td>\n",
       "      <td>-16.250382</td>\n",
       "      <td>0.0</td>\n",
       "      <td>-372.23</td>\n",
       "      <td>-17030.40</td>\n",
       "      <td>-2.019876</td>\n",
       "      <td>0.0</td>\n",
       "      <td>-106.86</td>\n",
       "      <td>-2116.83</td>\n",
       "    </tr>\n",
       "    <tr>\n",
       "      <td>1</td>\n",
       "      <td>2</td>\n",
       "      <td>102.864033</td>\n",
       "      <td>640.80</td>\n",
       "      <td>14.25</td>\n",
       "      <td>43100.03</td>\n",
       "      <td>-16.830430</td>\n",
       "      <td>0.0</td>\n",
       "      <td>-312.03</td>\n",
       "      <td>-7051.95</td>\n",
       "      <td>-0.595084</td>\n",
       "      <td>0.0</td>\n",
       "      <td>-89.05</td>\n",
       "      <td>-249.34</td>\n",
       "    </tr>\n",
       "    <tr>\n",
       "      <td>2</td>\n",
       "      <td>3</td>\n",
       "      <td>103.617404</td>\n",
       "      <td>862.00</td>\n",
       "      <td>8.90</td>\n",
       "      <td>73050.27</td>\n",
       "      <td>-22.714227</td>\n",
       "      <td>0.0</td>\n",
       "      <td>-463.06</td>\n",
       "      <td>-16013.53</td>\n",
       "      <td>-3.091546</td>\n",
       "      <td>0.0</td>\n",
       "      <td>-142.48</td>\n",
       "      <td>-2179.54</td>\n",
       "    </tr>\n",
       "    <tr>\n",
       "      <td>3</td>\n",
       "      <td>4</td>\n",
       "      <td>154.423727</td>\n",
       "      <td>1330.05</td>\n",
       "      <td>14.25</td>\n",
       "      <td>33973.22</td>\n",
       "      <td>-13.305409</td>\n",
       "      <td>0.0</td>\n",
       "      <td>-390.04</td>\n",
       "      <td>-2927.19</td>\n",
       "      <td>-0.404773</td>\n",
       "      <td>0.0</td>\n",
       "      <td>-89.05</td>\n",
       "      <td>-89.05</td>\n",
       "    </tr>\n",
       "    <tr>\n",
       "      <td>4</td>\n",
       "      <td>5</td>\n",
       "      <td>130.827146</td>\n",
       "      <td>1485.35</td>\n",
       "      <td>12.11</td>\n",
       "      <td>103615.10</td>\n",
       "      <td>-13.657917</td>\n",
       "      <td>0.0</td>\n",
       "      <td>-216.21</td>\n",
       "      <td>-10817.07</td>\n",
       "      <td>-0.114684</td>\n",
       "      <td>0.0</td>\n",
       "      <td>-71.24</td>\n",
       "      <td>-90.83</td>\n",
       "    </tr>\n",
       "  </tbody>\n",
       "</table>\n",
       "</div>"
      ],
      "text/plain": [
       "  customer_id selling_price                            other_discount       \\\n",
       "                       mean      max    min        sum           mean  max   \n",
       "0           1     94.001842   445.25  12.11   98513.93     -16.250382  0.0   \n",
       "1           2    102.864033   640.80  14.25   43100.03     -16.830430  0.0   \n",
       "2           3    103.617404   862.00   8.90   73050.27     -22.714227  0.0   \n",
       "3           4    154.423727  1330.05  14.25   33973.22     -13.305409  0.0   \n",
       "4           5    130.827146  1485.35  12.11  103615.10     -13.657917  0.0   \n",
       "\n",
       "                    coupon_discount                        \n",
       "      min       sum            mean  max     min      sum  \n",
       "0 -372.23 -17030.40       -2.019876  0.0 -106.86 -2116.83  \n",
       "1 -312.03  -7051.95       -0.595084  0.0  -89.05  -249.34  \n",
       "2 -463.06 -16013.53       -3.091546  0.0 -142.48 -2179.54  \n",
       "3 -390.04  -2927.19       -0.404773  0.0  -89.05   -89.05  \n",
       "4 -216.21 -10817.07       -0.114684  0.0  -71.24   -90.83  "
      ]
     },
     "execution_count": 18,
     "metadata": {},
     "output_type": "execute_result"
    }
   ],
   "source": [
    "customer_transaction_data_groupBy.reset_index(inplace=True)\n",
    "customer_transaction_data_groupBy.head()"
   ]
  },
  {
   "cell_type": "markdown",
   "metadata": {},
   "source": [
    "## *Customer Demographs:*"
   ]
  },
  {
   "cell_type": "code",
   "execution_count": 19,
   "metadata": {},
   "outputs": [
    {
     "data": {
      "text/html": [
       "<div>\n",
       "<style scoped>\n",
       "    .dataframe tbody tr th:only-of-type {\n",
       "        vertical-align: middle;\n",
       "    }\n",
       "\n",
       "    .dataframe tbody tr th {\n",
       "        vertical-align: top;\n",
       "    }\n",
       "\n",
       "    .dataframe thead th {\n",
       "        text-align: right;\n",
       "    }\n",
       "</style>\n",
       "<table border=\"1\" class=\"dataframe\">\n",
       "  <thead>\n",
       "    <tr style=\"text-align: right;\">\n",
       "      <th></th>\n",
       "      <th>customer_id</th>\n",
       "      <th>age_range</th>\n",
       "      <th>marital_status</th>\n",
       "      <th>rented</th>\n",
       "      <th>family_size</th>\n",
       "      <th>no_of_children</th>\n",
       "      <th>income_bracket</th>\n",
       "    </tr>\n",
       "  </thead>\n",
       "  <tbody>\n",
       "    <tr>\n",
       "      <td>0</td>\n",
       "      <td>1</td>\n",
       "      <td>70+</td>\n",
       "      <td>Married</td>\n",
       "      <td>0</td>\n",
       "      <td>2</td>\n",
       "      <td>NaN</td>\n",
       "      <td>4</td>\n",
       "    </tr>\n",
       "    <tr>\n",
       "      <td>1</td>\n",
       "      <td>6</td>\n",
       "      <td>46-55</td>\n",
       "      <td>Married</td>\n",
       "      <td>0</td>\n",
       "      <td>2</td>\n",
       "      <td>NaN</td>\n",
       "      <td>5</td>\n",
       "    </tr>\n",
       "    <tr>\n",
       "      <td>2</td>\n",
       "      <td>7</td>\n",
       "      <td>26-35</td>\n",
       "      <td>NaN</td>\n",
       "      <td>0</td>\n",
       "      <td>3</td>\n",
       "      <td>1</td>\n",
       "      <td>3</td>\n",
       "    </tr>\n",
       "    <tr>\n",
       "      <td>3</td>\n",
       "      <td>8</td>\n",
       "      <td>26-35</td>\n",
       "      <td>NaN</td>\n",
       "      <td>0</td>\n",
       "      <td>4</td>\n",
       "      <td>2</td>\n",
       "      <td>6</td>\n",
       "    </tr>\n",
       "    <tr>\n",
       "      <td>4</td>\n",
       "      <td>10</td>\n",
       "      <td>46-55</td>\n",
       "      <td>Single</td>\n",
       "      <td>0</td>\n",
       "      <td>1</td>\n",
       "      <td>NaN</td>\n",
       "      <td>5</td>\n",
       "    </tr>\n",
       "  </tbody>\n",
       "</table>\n",
       "</div>"
      ],
      "text/plain": [
       "   customer_id age_range marital_status  rented family_size no_of_children  \\\n",
       "0            1       70+        Married       0           2            NaN   \n",
       "1            6     46-55        Married       0           2            NaN   \n",
       "2            7     26-35            NaN       0           3              1   \n",
       "3            8     26-35            NaN       0           4              2   \n",
       "4           10     46-55         Single       0           1            NaN   \n",
       "\n",
       "   income_bracket  \n",
       "0               4  \n",
       "1               5  \n",
       "2               3  \n",
       "3               6  \n",
       "4               5  "
      ]
     },
     "execution_count": 19,
     "metadata": {},
     "output_type": "execute_result"
    }
   ],
   "source": [
    "customer_demographs.head()"
   ]
  },
  {
   "cell_type": "code",
   "execution_count": 20,
   "metadata": {},
   "outputs": [
    {
     "name": "stdout",
     "output_type": "stream",
     "text": [
      "<class 'pandas.core.frame.DataFrame'>\n",
      "RangeIndex: 760 entries, 0 to 759\n",
      "Data columns (total 7 columns):\n",
      "customer_id       760 non-null int64\n",
      "age_range         760 non-null object\n",
      "marital_status    431 non-null object\n",
      "rented            760 non-null int64\n",
      "family_size       760 non-null object\n",
      "no_of_children    222 non-null object\n",
      "income_bracket    760 non-null int64\n",
      "dtypes: int64(3), object(4)\n",
      "memory usage: 41.7+ KB\n"
     ]
    }
   ],
   "source": [
    "customer_demographs.info()"
   ]
  },
  {
   "cell_type": "code",
   "execution_count": 21,
   "metadata": {},
   "outputs": [
    {
     "data": {
      "text/plain": [
       "<matplotlib.axes._subplots.AxesSubplot at 0xed5455e5c8>"
      ]
     },
     "execution_count": 21,
     "metadata": {},
     "output_type": "execute_result"
    },
    {
     "data": {
      "image/png": "[encoded data removed]",
      "text/plain": [
       "<Figure size 1080x288 with 2 Axes>"
      ]
     },
     "metadata": {
      "needs_background": "light"
     },
     "output_type": "display_data"
    }
   ],
   "source": [
    "plt.figure(figsize=(15, 4))\n",
    "sns.heatmap(customer_demographs.isnull(), cmap='viridis')  # Nulls "
   ]
  },
  {
   "cell_type": "markdown",
   "metadata": {},
   "source": [
    "> Nulls in feature <i>**'no_of_childres'**</i> & <i>***'marital_status'***</i> "
   ]
  },
  {
   "cell_type": "markdown",
   "metadata": {},
   "source": [
    "**Imputation - 'no_of_children' & 'marital_status'**"
   ]
  },
  {
   "cell_type": "code",
   "execution_count": 22,
   "metadata": {},
   "outputs": [
    {
     "name": "stdout",
     "output_type": "stream",
     "text": [
      "<class 'pandas.core.frame.DataFrame'>\n",
      "RangeIndex: 760 entries, 0 to 759\n",
      "Data columns (total 7 columns):\n",
      "customer_id       760 non-null int64\n",
      "age_range         760 non-null object\n",
      "marital_status    431 non-null object\n",
      "rented            760 non-null int64\n",
      "family_size       760 non-null object\n",
      "no_of_children    222 non-null object\n",
      "income_bracket    760 non-null int64\n",
      "dtypes: int64(3), object(4)\n",
      "memory usage: 41.7+ KB\n"
     ]
    }
   ],
   "source": [
    "customer_demographs.info()"
   ]
  },
  {
   "cell_type": "code",
   "execution_count": 23,
   "metadata": {},
   "outputs": [],
   "source": [
    "# Replacing the 'NaN' with string 'NaN' for analysing distributions :\n",
    "\n",
    "customer_demographs['no_of_children'] = customer_demographs['no_of_children'].apply(lambda x:'NaN' if str(x)=='nan' else x)\n",
    "customer_demographs['marital_status'] = customer_demographs['marital_status'].apply(lambda x:'NaN' if str(x)=='nan' else x)"
   ]
  },
  {
   "cell_type": "code",
   "execution_count": 24,
   "metadata": {},
   "outputs": [
    {
     "data": {
      "text/plain": [
       "<matplotlib.axes._subplots.AxesSubplot at 0xed5700bec8>"
      ]
     },
     "execution_count": 24,
     "metadata": {},
     "output_type": "execute_result"
    },
    {
     "data": {
      "image/png": "[encoded data removed]",
      "text/plain": [
       "<Figure size 1440x720 with 4 Axes>"
      ]
     },
     "metadata": {
      "needs_background": "light"
     },
     "output_type": "display_data"
    }
   ],
   "source": [
    "plt.figure(figsize=(20, 10))\n",
    "\n",
    "plt.subplot(2,2,1)\n",
    "sns.countplot(data=customer_demographs, x='no_of_children', hue='marital_status')\n",
    "\n",
    "plt.subplot(2,2,2)\n",
    "sns.countplot(data=customer_demographs, x='no_of_children', hue='family_size')\n",
    "\n",
    "plt.subplot(2,2,3)\n",
    "sns.countplot(data=customer_demographs, x='no_of_children', hue='rented')\n",
    "\n",
    "plt.subplot(2,2,4)\n",
    "sns.countplot(data=customer_demographs, x='no_of_children', hue='income_bracket')"
   ]
  },
  {
   "cell_type": "markdown",
   "metadata": {},
   "source": [
    "From the 2nd plot, we infer that as no_of_children increases, family size increases"
   ]
  },
  {
   "cell_type": "code",
   "execution_count": 25,
   "metadata": {},
   "outputs": [
    {
     "data": {
      "text/plain": [
       "0"
      ]
     },
     "execution_count": 25,
     "metadata": {},
     "output_type": "execute_result"
    }
   ],
   "source": [
    "# NaN in both the features :\n",
    "\n",
    "len(customer_demographs[(customer_demographs['no_of_children'].isnull()) & (customer_demographs['marital_status'].isnull())])"
   ]
  },
  {
   "cell_type": "code",
   "execution_count": 26,
   "metadata": {},
   "outputs": [
    {
     "data": {
      "text/plain": [
       "0"
      ]
     },
     "execution_count": 26,
     "metadata": {},
     "output_type": "execute_result"
    }
   ],
   "source": [
    "len(customer_demographs[customer_demographs['no_of_children'].isnull()])"
   ]
  },
  {
   "cell_type": "code",
   "execution_count": 27,
   "metadata": {},
   "outputs": [
    {
     "data": {
      "text/plain": [
       "0"
      ]
     },
     "execution_count": 27,
     "metadata": {},
     "output_type": "execute_result"
    }
   ],
   "source": [
    "len(customer_demographs[customer_demographs['marital_status'].isnull()])"
   ]
  },
  {
   "cell_type": "markdown",
   "metadata": {},
   "source": [
    "<font color='darkblue'><b><i>We shall impute these Nulls using ML model itself later as the no of data points are too less to impute by any logic </i></b></font>"
   ]
  },
  {
   "cell_type": "code",
   "execution_count": 28,
   "metadata": {},
   "outputs": [
    {
     "data": {
      "text/plain": [
       "1428"
      ]
     },
     "execution_count": 28,
     "metadata": {},
     "output_type": "execute_result"
    }
   ],
   "source": [
    "# unique customer_ids in train set:\n",
    "\n",
    "train.customer_id.nunique()"
   ]
  },
  {
   "cell_type": "code",
   "execution_count": 29,
   "metadata": {},
   "outputs": [
    {
     "data": {
      "text/plain": [
       "760"
      ]
     },
     "execution_count": 29,
     "metadata": {},
     "output_type": "execute_result"
    }
   ],
   "source": [
    "# unique customer_ids in customer_demographs set:\n",
    "\n",
    "customer_demographs.customer_id.nunique()"
   ]
  },
  {
   "cell_type": "code",
   "execution_count": 30,
   "metadata": {},
   "outputs": [
    {
     "name": "stdout",
     "output_type": "stream",
     "text": [
      "No of common customer_ids for data points : 703\n",
      "No of customer_ids present in train but not in customer_demographs : 725\n"
     ]
    }
   ],
   "source": [
    "# Check for no of 'customer_ids' in 'train' set to exist in the 'customer_demographs' set :\n",
    "\n",
    "no_of_common_cust_ids = 0\n",
    "\n",
    "for each_cust_id in train.customer_id.unique():\n",
    "    \n",
    "    if each_cust_id in customer_demographs.customer_id.unique():\n",
    "        no_of_common_cust_ids+=1\n",
    "\n",
    "print('No of common customer_ids for data points :', no_of_common_cust_ids)\n",
    "print('No of customer_ids present in train but not in customer_demographs :', train.customer_id.nunique() - no_of_common_cust_ids)"
   ]
  },
  {
   "cell_type": "code",
   "execution_count": 31,
   "metadata": {},
   "outputs": [],
   "source": [
    "# Replacing the 'NaN' with string 'NaN' for analysing distributions :\n",
    "\n",
    "customer_demographs['no_of_children'] = customer_demographs['no_of_children'].apply(lambda x:np.NaN if str(x)=='NaN' else x)\n",
    "customer_demographs['marital_status'] = customer_demographs['marital_status'].apply(lambda x:np.NaN if str(x)=='NaN' else x)"
   ]
  },
  {
   "cell_type": "markdown",
   "metadata": {},
   "source": [
    "### *Item_Data :*"
   ]
  },
  {
   "cell_type": "code",
   "execution_count": 32,
   "metadata": {},
   "outputs": [
    {
     "data": {
      "text/html": [
       "<div>\n",
       "<style scoped>\n",
       "    .dataframe tbody tr th:only-of-type {\n",
       "        vertical-align: middle;\n",
       "    }\n",
       "\n",
       "    .dataframe tbody tr th {\n",
       "        vertical-align: top;\n",
       "    }\n",
       "\n",
       "    .dataframe thead th {\n",
       "        text-align: right;\n",
       "    }\n",
       "</style>\n",
       "<table border=\"1\" class=\"dataframe\">\n",
       "  <thead>\n",
       "    <tr style=\"text-align: right;\">\n",
       "      <th></th>\n",
       "      <th>item_id</th>\n",
       "      <th>brand</th>\n",
       "      <th>brand_type</th>\n",
       "      <th>category</th>\n",
       "    </tr>\n",
       "  </thead>\n",
       "  <tbody>\n",
       "    <tr>\n",
       "      <td>0</td>\n",
       "      <td>1</td>\n",
       "      <td>1</td>\n",
       "      <td>Established</td>\n",
       "      <td>Grocery</td>\n",
       "    </tr>\n",
       "    <tr>\n",
       "      <td>1</td>\n",
       "      <td>2</td>\n",
       "      <td>1</td>\n",
       "      <td>Established</td>\n",
       "      <td>Miscellaneous</td>\n",
       "    </tr>\n",
       "    <tr>\n",
       "      <td>2</td>\n",
       "      <td>3</td>\n",
       "      <td>56</td>\n",
       "      <td>Local</td>\n",
       "      <td>Bakery</td>\n",
       "    </tr>\n",
       "    <tr>\n",
       "      <td>3</td>\n",
       "      <td>4</td>\n",
       "      <td>56</td>\n",
       "      <td>Local</td>\n",
       "      <td>Grocery</td>\n",
       "    </tr>\n",
       "    <tr>\n",
       "      <td>4</td>\n",
       "      <td>5</td>\n",
       "      <td>56</td>\n",
       "      <td>Local</td>\n",
       "      <td>Grocery</td>\n",
       "    </tr>\n",
       "  </tbody>\n",
       "</table>\n",
       "</div>"
      ],
      "text/plain": [
       "   item_id  brand   brand_type       category\n",
       "0        1      1  Established        Grocery\n",
       "1        2      1  Established  Miscellaneous\n",
       "2        3     56        Local         Bakery\n",
       "3        4     56        Local        Grocery\n",
       "4        5     56        Local        Grocery"
      ]
     },
     "execution_count": 32,
     "metadata": {},
     "output_type": "execute_result"
    }
   ],
   "source": [
    "item_data.head()"
   ]
  },
  {
   "cell_type": "code",
   "execution_count": 33,
   "metadata": {},
   "outputs": [
    {
     "data": {
      "text/plain": [
       "(74066, 4)"
      ]
     },
     "execution_count": 33,
     "metadata": {},
     "output_type": "execute_result"
    }
   ],
   "source": [
    "item_data.shape"
   ]
  },
  {
   "cell_type": "code",
   "execution_count": 34,
   "metadata": {},
   "outputs": [
    {
     "name": "stdout",
     "output_type": "stream",
     "text": [
      "<class 'pandas.core.frame.DataFrame'>\n",
      "RangeIndex: 74066 entries, 0 to 74065\n",
      "Data columns (total 4 columns):\n",
      "item_id       74066 non-null int64\n",
      "brand         74066 non-null int64\n",
      "brand_type    74066 non-null object\n",
      "category      74066 non-null object\n",
      "dtypes: int64(2), object(2)\n",
      "memory usage: 2.3+ MB\n"
     ]
    }
   ],
   "source": [
    "item_data.info()"
   ]
  },
  {
   "cell_type": "code",
   "execution_count": 35,
   "metadata": {},
   "outputs": [
    {
     "data": {
      "text/html": [
       "<div>\n",
       "<style scoped>\n",
       "    .dataframe tbody tr th:only-of-type {\n",
       "        vertical-align: middle;\n",
       "    }\n",
       "\n",
       "    .dataframe tbody tr th {\n",
       "        vertical-align: top;\n",
       "    }\n",
       "\n",
       "    .dataframe thead tr th {\n",
       "        text-align: left;\n",
       "    }\n",
       "\n",
       "    .dataframe thead tr:last-of-type th {\n",
       "        text-align: right;\n",
       "    }\n",
       "</style>\n",
       "<table border=\"1\" class=\"dataframe\">\n",
       "  <thead>\n",
       "    <tr>\n",
       "      <th></th>\n",
       "      <th>brand_type</th>\n",
       "    </tr>\n",
       "    <tr>\n",
       "      <th></th>\n",
       "      <th>count</th>\n",
       "    </tr>\n",
       "    <tr>\n",
       "      <th>brand_type</th>\n",
       "      <th></th>\n",
       "    </tr>\n",
       "  </thead>\n",
       "  <tbody>\n",
       "    <tr>\n",
       "      <td>Established</td>\n",
       "      <td>62842</td>\n",
       "    </tr>\n",
       "    <tr>\n",
       "      <td>Local</td>\n",
       "      <td>11224</td>\n",
       "    </tr>\n",
       "  </tbody>\n",
       "</table>\n",
       "</div>"
      ],
      "text/plain": [
       "            brand_type\n",
       "                 count\n",
       "brand_type            \n",
       "Established      62842\n",
       "Local            11224"
      ]
     },
     "execution_count": 35,
     "metadata": {},
     "output_type": "execute_result"
    }
   ],
   "source": [
    "item_data.groupby('brand_type').agg({'brand_type':['count']})"
   ]
  },
  {
   "cell_type": "code",
   "execution_count": 36,
   "metadata": {},
   "outputs": [
    {
     "data": {
      "text/html": [
       "<div>\n",
       "<style scoped>\n",
       "    .dataframe tbody tr th:only-of-type {\n",
       "        vertical-align: middle;\n",
       "    }\n",
       "\n",
       "    .dataframe tbody tr th {\n",
       "        vertical-align: top;\n",
       "    }\n",
       "\n",
       "    .dataframe thead th {\n",
       "        text-align: right;\n",
       "    }\n",
       "</style>\n",
       "<table border=\"1\" class=\"dataframe\">\n",
       "  <thead>\n",
       "    <tr style=\"text-align: right;\">\n",
       "      <th></th>\n",
       "      <th>brand_type</th>\n",
       "    </tr>\n",
       "    <tr>\n",
       "      <th>category</th>\n",
       "      <th></th>\n",
       "    </tr>\n",
       "  </thead>\n",
       "  <tbody>\n",
       "    <tr>\n",
       "      <td>Alcohol</td>\n",
       "      <td>303</td>\n",
       "    </tr>\n",
       "    <tr>\n",
       "      <td>Bakery</td>\n",
       "      <td>1679</td>\n",
       "    </tr>\n",
       "    <tr>\n",
       "      <td>Dairy, Juices &amp; Snacks</td>\n",
       "      <td>2425</td>\n",
       "    </tr>\n",
       "    <tr>\n",
       "      <td>Flowers &amp; Plants</td>\n",
       "      <td>664</td>\n",
       "    </tr>\n",
       "    <tr>\n",
       "      <td>Fuel</td>\n",
       "      <td>14</td>\n",
       "    </tr>\n",
       "    <tr>\n",
       "      <td>Garden</td>\n",
       "      <td>102</td>\n",
       "    </tr>\n",
       "    <tr>\n",
       "      <td>Grocery</td>\n",
       "      <td>32448</td>\n",
       "    </tr>\n",
       "    <tr>\n",
       "      <td>Meat</td>\n",
       "      <td>2080</td>\n",
       "    </tr>\n",
       "    <tr>\n",
       "      <td>Miscellaneous</td>\n",
       "      <td>385</td>\n",
       "    </tr>\n",
       "    <tr>\n",
       "      <td>Natural Products</td>\n",
       "      <td>2533</td>\n",
       "    </tr>\n",
       "    <tr>\n",
       "      <td>Packaged Meat</td>\n",
       "      <td>1966</td>\n",
       "    </tr>\n",
       "    <tr>\n",
       "      <td>Pharmaceutical</td>\n",
       "      <td>24471</td>\n",
       "    </tr>\n",
       "    <tr>\n",
       "      <td>Prepared Food</td>\n",
       "      <td>1880</td>\n",
       "    </tr>\n",
       "    <tr>\n",
       "      <td>Restauarant</td>\n",
       "      <td>78</td>\n",
       "    </tr>\n",
       "    <tr>\n",
       "      <td>Salads</td>\n",
       "      <td>40</td>\n",
       "    </tr>\n",
       "    <tr>\n",
       "      <td>Seafood</td>\n",
       "      <td>728</td>\n",
       "    </tr>\n",
       "    <tr>\n",
       "      <td>Skin &amp; Hair Care</td>\n",
       "      <td>2244</td>\n",
       "    </tr>\n",
       "    <tr>\n",
       "      <td>Travel</td>\n",
       "      <td>19</td>\n",
       "    </tr>\n",
       "    <tr>\n",
       "      <td>Vegetables (cut)</td>\n",
       "      <td>7</td>\n",
       "    </tr>\n",
       "  </tbody>\n",
       "</table>\n",
       "</div>"
      ],
      "text/plain": [
       "                        brand_type\n",
       "category                          \n",
       "Alcohol                        303\n",
       "Bakery                        1679\n",
       "Dairy, Juices & Snacks        2425\n",
       "Flowers & Plants               664\n",
       "Fuel                            14\n",
       "Garden                         102\n",
       "Grocery                      32448\n",
       "Meat                          2080\n",
       "Miscellaneous                  385\n",
       "Natural Products              2533\n",
       "Packaged Meat                 1966\n",
       "Pharmaceutical               24471\n",
       "Prepared Food                 1880\n",
       "Restauarant                     78\n",
       "Salads                          40\n",
       "Seafood                        728\n",
       "Skin & Hair Care              2244\n",
       "Travel                          19\n",
       "Vegetables (cut)                 7"
      ]
     },
     "execution_count": 36,
     "metadata": {},
     "output_type": "execute_result"
    }
   ],
   "source": [
    "item_data.groupby('category').agg({'brand_type':'count'})"
   ]
  },
  {
   "cell_type": "markdown",
   "metadata": {},
   "source": [
    "### *Coupon_item_mapping & Item_Data :*"
   ]
  },
  {
   "cell_type": "code",
   "execution_count": 37,
   "metadata": {},
   "outputs": [
    {
     "data": {
      "text/html": [
       "<div>\n",
       "<style scoped>\n",
       "    .dataframe tbody tr th:only-of-type {\n",
       "        vertical-align: middle;\n",
       "    }\n",
       "\n",
       "    .dataframe tbody tr th {\n",
       "        vertical-align: top;\n",
       "    }\n",
       "\n",
       "    .dataframe thead th {\n",
       "        text-align: right;\n",
       "    }\n",
       "</style>\n",
       "<table border=\"1\" class=\"dataframe\">\n",
       "  <thead>\n",
       "    <tr style=\"text-align: right;\">\n",
       "      <th></th>\n",
       "      <th>coupon_id</th>\n",
       "      <th>item_id</th>\n",
       "    </tr>\n",
       "  </thead>\n",
       "  <tbody>\n",
       "    <tr>\n",
       "      <td>0</td>\n",
       "      <td>105</td>\n",
       "      <td>37</td>\n",
       "    </tr>\n",
       "    <tr>\n",
       "      <td>1</td>\n",
       "      <td>107</td>\n",
       "      <td>75</td>\n",
       "    </tr>\n",
       "    <tr>\n",
       "      <td>2</td>\n",
       "      <td>494</td>\n",
       "      <td>76</td>\n",
       "    </tr>\n",
       "    <tr>\n",
       "      <td>3</td>\n",
       "      <td>522</td>\n",
       "      <td>77</td>\n",
       "    </tr>\n",
       "    <tr>\n",
       "      <td>4</td>\n",
       "      <td>518</td>\n",
       "      <td>77</td>\n",
       "    </tr>\n",
       "  </tbody>\n",
       "</table>\n",
       "</div>"
      ],
      "text/plain": [
       "   coupon_id  item_id\n",
       "0        105       37\n",
       "1        107       75\n",
       "2        494       76\n",
       "3        522       77\n",
       "4        518       77"
      ]
     },
     "execution_count": 37,
     "metadata": {},
     "output_type": "execute_result"
    }
   ],
   "source": [
    "coupon_item_mapping.head()"
   ]
  },
  {
   "cell_type": "code",
   "execution_count": 38,
   "metadata": {},
   "outputs": [
    {
     "data": {
      "text/html": [
       "<div>\n",
       "<style scoped>\n",
       "    .dataframe tbody tr th:only-of-type {\n",
       "        vertical-align: middle;\n",
       "    }\n",
       "\n",
       "    .dataframe tbody tr th {\n",
       "        vertical-align: top;\n",
       "    }\n",
       "\n",
       "    .dataframe thead th {\n",
       "        text-align: right;\n",
       "    }\n",
       "</style>\n",
       "<table border=\"1\" class=\"dataframe\">\n",
       "  <thead>\n",
       "    <tr style=\"text-align: right;\">\n",
       "      <th></th>\n",
       "      <th>item_id</th>\n",
       "      <th>brand</th>\n",
       "      <th>brand_type</th>\n",
       "      <th>category</th>\n",
       "    </tr>\n",
       "  </thead>\n",
       "  <tbody>\n",
       "    <tr>\n",
       "      <td>0</td>\n",
       "      <td>1</td>\n",
       "      <td>1</td>\n",
       "      <td>Established</td>\n",
       "      <td>Grocery</td>\n",
       "    </tr>\n",
       "    <tr>\n",
       "      <td>1</td>\n",
       "      <td>2</td>\n",
       "      <td>1</td>\n",
       "      <td>Established</td>\n",
       "      <td>Miscellaneous</td>\n",
       "    </tr>\n",
       "    <tr>\n",
       "      <td>2</td>\n",
       "      <td>3</td>\n",
       "      <td>56</td>\n",
       "      <td>Local</td>\n",
       "      <td>Bakery</td>\n",
       "    </tr>\n",
       "    <tr>\n",
       "      <td>3</td>\n",
       "      <td>4</td>\n",
       "      <td>56</td>\n",
       "      <td>Local</td>\n",
       "      <td>Grocery</td>\n",
       "    </tr>\n",
       "    <tr>\n",
       "      <td>4</td>\n",
       "      <td>5</td>\n",
       "      <td>56</td>\n",
       "      <td>Local</td>\n",
       "      <td>Grocery</td>\n",
       "    </tr>\n",
       "  </tbody>\n",
       "</table>\n",
       "</div>"
      ],
      "text/plain": [
       "   item_id  brand   brand_type       category\n",
       "0        1      1  Established        Grocery\n",
       "1        2      1  Established  Miscellaneous\n",
       "2        3     56        Local         Bakery\n",
       "3        4     56        Local        Grocery\n",
       "4        5     56        Local        Grocery"
      ]
     },
     "execution_count": 38,
     "metadata": {},
     "output_type": "execute_result"
    }
   ],
   "source": [
    "item_data.head()"
   ]
  },
  {
   "cell_type": "code",
   "execution_count": 39,
   "metadata": {},
   "outputs": [],
   "source": [
    "coup_MERGED_item = coupon_item_mapping.merge(item_data, how='inner', on='item_id')"
   ]
  },
  {
   "cell_type": "code",
   "execution_count": 40,
   "metadata": {},
   "outputs": [
    {
     "data": {
      "text/html": [
       "<div>\n",
       "<style scoped>\n",
       "    .dataframe tbody tr th:only-of-type {\n",
       "        vertical-align: middle;\n",
       "    }\n",
       "\n",
       "    .dataframe tbody tr th {\n",
       "        vertical-align: top;\n",
       "    }\n",
       "\n",
       "    .dataframe thead th {\n",
       "        text-align: right;\n",
       "    }\n",
       "</style>\n",
       "<table border=\"1\" class=\"dataframe\">\n",
       "  <thead>\n",
       "    <tr style=\"text-align: right;\">\n",
       "      <th></th>\n",
       "      <th>coupon_id</th>\n",
       "      <th>item_id</th>\n",
       "      <th>brand</th>\n",
       "      <th>brand_type</th>\n",
       "      <th>category</th>\n",
       "    </tr>\n",
       "  </thead>\n",
       "  <tbody>\n",
       "    <tr>\n",
       "      <td>0</td>\n",
       "      <td>105</td>\n",
       "      <td>37</td>\n",
       "      <td>56</td>\n",
       "      <td>Local</td>\n",
       "      <td>Grocery</td>\n",
       "    </tr>\n",
       "    <tr>\n",
       "      <td>1</td>\n",
       "      <td>6</td>\n",
       "      <td>37</td>\n",
       "      <td>56</td>\n",
       "      <td>Local</td>\n",
       "      <td>Grocery</td>\n",
       "    </tr>\n",
       "    <tr>\n",
       "      <td>2</td>\n",
       "      <td>22</td>\n",
       "      <td>37</td>\n",
       "      <td>56</td>\n",
       "      <td>Local</td>\n",
       "      <td>Grocery</td>\n",
       "    </tr>\n",
       "    <tr>\n",
       "      <td>3</td>\n",
       "      <td>31</td>\n",
       "      <td>37</td>\n",
       "      <td>56</td>\n",
       "      <td>Local</td>\n",
       "      <td>Grocery</td>\n",
       "    </tr>\n",
       "    <tr>\n",
       "      <td>4</td>\n",
       "      <td>107</td>\n",
       "      <td>75</td>\n",
       "      <td>56</td>\n",
       "      <td>Local</td>\n",
       "      <td>Grocery</td>\n",
       "    </tr>\n",
       "  </tbody>\n",
       "</table>\n",
       "</div>"
      ],
      "text/plain": [
       "   coupon_id  item_id  brand brand_type category\n",
       "0        105       37     56      Local  Grocery\n",
       "1          6       37     56      Local  Grocery\n",
       "2         22       37     56      Local  Grocery\n",
       "3         31       37     56      Local  Grocery\n",
       "4        107       75     56      Local  Grocery"
      ]
     },
     "execution_count": 40,
     "metadata": {},
     "output_type": "execute_result"
    }
   ],
   "source": [
    "coup_MERGED_item.head()"
   ]
  },
  {
   "cell_type": "code",
   "execution_count": 41,
   "metadata": {},
   "outputs": [
    {
     "data": {
      "text/plain": [
       "Established    78759\n",
       "Local          13904\n",
       "Name: brand_type, dtype: int64"
      ]
     },
     "execution_count": 41,
     "metadata": {},
     "output_type": "execute_result"
    }
   ],
   "source": [
    "coup_MERGED_item.brand_type.value_counts()"
   ]
  },
  {
   "cell_type": "code",
   "execution_count": 42,
   "metadata": {},
   "outputs": [
    {
     "data": {
      "text/plain": [
       "Grocery                   36466\n",
       "Pharmaceutical            25061\n",
       "Natural Products           6819\n",
       "Meat                       6218\n",
       "Packaged Meat              6144\n",
       "Skin & Hair Care           4924\n",
       "Seafood                    2227\n",
       "Flowers & Plants           1963\n",
       "Dairy, Juices & Snacks     1867\n",
       "Garden                      286\n",
       "Prepared Food               240\n",
       "Miscellaneous               184\n",
       "Bakery                      100\n",
       "Salads                      100\n",
       "Travel                       44\n",
       "Vegetables (cut)             19\n",
       "Restauarant                   1\n",
       "Name: category, dtype: int64"
      ]
     },
     "execution_count": 42,
     "metadata": {},
     "output_type": "execute_result"
    }
   ],
   "source": [
    "coup_MERGED_item.category.value_counts()"
   ]
  },
  {
   "cell_type": "code",
   "execution_count": 43,
   "metadata": {},
   "outputs": [
    {
     "data": {
      "text/html": [
       "<div>\n",
       "<style scoped>\n",
       "    .dataframe tbody tr th:only-of-type {\n",
       "        vertical-align: middle;\n",
       "    }\n",
       "\n",
       "    .dataframe tbody tr th {\n",
       "        vertical-align: top;\n",
       "    }\n",
       "\n",
       "    .dataframe thead th {\n",
       "        text-align: right;\n",
       "    }\n",
       "</style>\n",
       "<table border=\"1\" class=\"dataframe\">\n",
       "  <thead>\n",
       "    <tr style=\"text-align: right;\">\n",
       "      <th></th>\n",
       "      <th>coupon_id</th>\n",
       "      <th>category</th>\n",
       "    </tr>\n",
       "  </thead>\n",
       "  <tbody>\n",
       "    <tr>\n",
       "      <td>0</td>\n",
       "      <td>1</td>\n",
       "      <td>39</td>\n",
       "    </tr>\n",
       "    <tr>\n",
       "      <td>1</td>\n",
       "      <td>2</td>\n",
       "      <td>2</td>\n",
       "    </tr>\n",
       "    <tr>\n",
       "      <td>2</td>\n",
       "      <td>3</td>\n",
       "      <td>17</td>\n",
       "    </tr>\n",
       "    <tr>\n",
       "      <td>3</td>\n",
       "      <td>4</td>\n",
       "      <td>24</td>\n",
       "    </tr>\n",
       "    <tr>\n",
       "      <td>4</td>\n",
       "      <td>5</td>\n",
       "      <td>7</td>\n",
       "    </tr>\n",
       "  </tbody>\n",
       "</table>\n",
       "</div>"
      ],
      "text/plain": [
       "   coupon_id  category\n",
       "0          1        39\n",
       "1          2         2\n",
       "2          3        17\n",
       "3          4        24\n",
       "4          5         7"
      ]
     },
     "execution_count": 43,
     "metadata": {},
     "output_type": "execute_result"
    }
   ],
   "source": [
    "coup_MERGED_item_groupBy = coup_MERGED_item.groupby('coupon_id').agg({'category':'count'})\n",
    "coup_MERGED_item_groupBy.reset_index(inplace=True)\n",
    "coup_MERGED_item_groupBy.head()  # The 'coupon_id' being applied to how many 'category'of products"
   ]
  },
  {
   "cell_type": "markdown",
   "metadata": {},
   "source": [
    ">   One coupon (coupon_id) gets applied on more than one type of item_id and each item_id can have different **(brand_type+category)**"
   ]
  },
  {
   "cell_type": "markdown",
   "metadata": {},
   "source": [
    "### *Preparing the train set :* "
   ]
  },
  {
   "cell_type": "code",
   "execution_count": 44,
   "metadata": {},
   "outputs": [
    {
     "data": {
      "text/plain": [
       "(78369, 8)"
      ]
     },
     "execution_count": 44,
     "metadata": {},
     "output_type": "execute_result"
    }
   ],
   "source": [
    "# train_latest = train + campaign_data :\n",
    "\n",
    "train_MERGED_campaign_data = train.merge(campaign_data, how='left', on='campaign_id')\n",
    "train_MERGED_campaign_data.shape"
   ]
  },
  {
   "cell_type": "code",
   "execution_count": 45,
   "metadata": {},
   "outputs": [
    {
     "data": {
      "text/plain": [
       "id                   0\n",
       "campaign_id          0\n",
       "coupon_id            0\n",
       "customer_id          0\n",
       "redemption_status    0\n",
       "campaign_type        0\n",
       "start_date           0\n",
       "end_date             0\n",
       "dtype: int64"
      ]
     },
     "execution_count": 45,
     "metadata": {},
     "output_type": "execute_result"
    }
   ],
   "source": [
    "train_MERGED_campaign_data.isnull().sum()"
   ]
  },
  {
   "cell_type": "code",
   "execution_count": 46,
   "metadata": {},
   "outputs": [
    {
     "data": {
      "text/plain": [
       "(78369, 9)"
      ]
     },
     "execution_count": 46,
     "metadata": {},
     "output_type": "execute_result"
    }
   ],
   "source": [
    "# train_latest = train_latest + coup_merged_item\n",
    "train_MERGED_campaign_data_MERGED_coupon = train_MERGED_campaign_data.merge(coup_MERGED_item_groupBy, how='left', on='coupon_id') \n",
    "train_MERGED_campaign_data_MERGED_coupon.shape"
   ]
  },
  {
   "cell_type": "code",
   "execution_count": 47,
   "metadata": {},
   "outputs": [
    {
     "data": {
      "text/plain": [
       "id                   0\n",
       "campaign_id          0\n",
       "coupon_id            0\n",
       "customer_id          0\n",
       "redemption_status    0\n",
       "campaign_type        0\n",
       "start_date           0\n",
       "end_date             0\n",
       "category             0\n",
       "dtype: int64"
      ]
     },
     "execution_count": 47,
     "metadata": {},
     "output_type": "execute_result"
    }
   ],
   "source": [
    "train_MERGED_campaign_data_MERGED_coupon.isnull().sum()"
   ]
  },
  {
   "cell_type": "code",
   "execution_count": 48,
   "metadata": {},
   "outputs": [
    {
     "data": {
      "text/plain": [
       "(78369, 15)"
      ]
     },
     "execution_count": 48,
     "metadata": {},
     "output_type": "execute_result"
    }
   ],
   "source": [
    "# train_latest = train_latest + customer_dempgraphs\n",
    "train_MERGED_campaign_data_MERGED_coupon_MERGED_customer_demographics = train_MERGED_campaign_data_MERGED_coupon.merge(customer_demographs, \n",
    "                                                                                                                      how='left', on='customer_id')\n",
    "train_MERGED_campaign_data_MERGED_coupon_MERGED_customer_demographics.shape                                                                        "
   ]
  },
  {
   "cell_type": "code",
   "execution_count": 49,
   "metadata": {},
   "outputs": [
    {
     "data": {
      "text/plain": [
       "id                       0\n",
       "campaign_id              0\n",
       "coupon_id                0\n",
       "customer_id              0\n",
       "redemption_status        0\n",
       "campaign_type            0\n",
       "start_date               0\n",
       "end_date                 0\n",
       "category                 0\n",
       "age_range            34708\n",
       "marital_status       52975\n",
       "rented               34708\n",
       "family_size          34708\n",
       "no_of_children       64313\n",
       "income_bracket       34708\n",
       "dtype: int64"
      ]
     },
     "execution_count": 49,
     "metadata": {},
     "output_type": "execute_result"
    }
   ],
   "source": [
    "train_MERGED_campaign_data_MERGED_coupon_MERGED_customer_demographics.isnull().sum()"
   ]
  },
  {
   "cell_type": "code",
   "execution_count": 50,
   "metadata": {},
   "outputs": [
    {
     "data": {
      "text/plain": [
       "(78369, 27)"
      ]
     },
     "execution_count": 50,
     "metadata": {},
     "output_type": "execute_result"
    }
   ],
   "source": [
    "# train_latest = train_latest + customer_transaction_data_merged_item_data\n",
    "train_MERGED_campaign_data_MERGED_coupon_MERGED_customer_demographics_MERGED_customer_transaction_data = train_MERGED_campaign_data_MERGED_coupon_MERGED_customer_demographics.merge(customer_transaction_data_groupBy, \n",
    "                                                                                                                      how='left', \n",
    "                                                                                                                      on='customer_id')\n",
    "train_MERGED_campaign_data_MERGED_coupon_MERGED_customer_demographics_MERGED_customer_transaction_data.shape"
   ]
  },
  {
   "cell_type": "code",
   "execution_count": 51,
   "metadata": {},
   "outputs": [
    {
     "data": {
      "text/plain": [
       "id                             0\n",
       "campaign_id                    0\n",
       "coupon_id                      0\n",
       "customer_id                    0\n",
       "redemption_status              0\n",
       "campaign_type                  0\n",
       "start_date                     0\n",
       "end_date                       0\n",
       "category                       0\n",
       "age_range                  34708\n",
       "marital_status             52975\n",
       "rented                     34708\n",
       "family_size                34708\n",
       "no_of_children             64313\n",
       "income_bracket             34708\n",
       "(selling_price, mean)          0\n",
       "(selling_price, max)           0\n",
       "(selling_price, min)           0\n",
       "(selling_price, sum)           0\n",
       "(other_discount, mean)         0\n",
       "(other_discount, max)          0\n",
       "(other_discount, min)          0\n",
       "(other_discount, sum)          0\n",
       "(coupon_discount, mean)        0\n",
       "(coupon_discount, max)         0\n",
       "(coupon_discount, min)         0\n",
       "(coupon_discount, sum)         0\n",
       "dtype: int64"
      ]
     },
     "execution_count": 51,
     "metadata": {},
     "output_type": "execute_result"
    }
   ],
   "source": [
    "train_MERGED_campaign_data_MERGED_coupon_MERGED_customer_demographics_MERGED_customer_transaction_data.isnull().sum()"
   ]
  },
  {
   "cell_type": "code",
   "execution_count": 52,
   "metadata": {},
   "outputs": [
    {
     "data": {
      "text/plain": [
       "(78369, 27)"
      ]
     },
     "execution_count": 52,
     "metadata": {},
     "output_type": "execute_result"
    }
   ],
   "source": [
    "# final train_set :\n",
    "\n",
    "train_df = train_MERGED_campaign_data_MERGED_coupon_MERGED_customer_demographics_MERGED_customer_transaction_data\n",
    "train_df.shape"
   ]
  },
  {
   "cell_type": "code",
   "execution_count": 53,
   "metadata": {},
   "outputs": [
    {
     "data": {
      "text/plain": [
       "id                             0\n",
       "campaign_id                    0\n",
       "coupon_id                      0\n",
       "customer_id                    0\n",
       "redemption_status              0\n",
       "campaign_type                  0\n",
       "start_date                     0\n",
       "end_date                       0\n",
       "category                       0\n",
       "age_range                  34708\n",
       "marital_status             52975\n",
       "rented                     34708\n",
       "family_size                34708\n",
       "no_of_children             64313\n",
       "income_bracket             34708\n",
       "(selling_price, mean)          0\n",
       "(selling_price, max)           0\n",
       "(selling_price, min)           0\n",
       "(selling_price, sum)           0\n",
       "(other_discount, mean)         0\n",
       "(other_discount, max)          0\n",
       "(other_discount, min)          0\n",
       "(other_discount, sum)          0\n",
       "(coupon_discount, mean)        0\n",
       "(coupon_discount, max)         0\n",
       "(coupon_discount, min)         0\n",
       "(coupon_discount, sum)         0\n",
       "dtype: int64"
      ]
     },
     "execution_count": 53,
     "metadata": {},
     "output_type": "execute_result"
    }
   ],
   "source": [
    "train_df.isnull().sum()"
   ]
  },
  {
   "cell_type": "code",
   "execution_count": 54,
   "metadata": {},
   "outputs": [],
   "source": [
    "# Rectifying columns in train :\n",
    "feature_list_train = [str(each_train_col[0]+\"_\"+each_train_col[1]) if str(type(each_train_col))==\"<class 'tuple'>\" else each_train_col  for each_train_col in train_df.columns ]\n",
    "\n",
    "# rectifying column names :\n",
    "train_df.columns = feature_list_train"
   ]
  },
  {
   "cell_type": "code",
   "execution_count": 55,
   "metadata": {},
   "outputs": [
    {
     "data": {
      "text/html": [
       "<div>\n",
       "<style scoped>\n",
       "    .dataframe tbody tr th:only-of-type {\n",
       "        vertical-align: middle;\n",
       "    }\n",
       "\n",
       "    .dataframe tbody tr th {\n",
       "        vertical-align: top;\n",
       "    }\n",
       "\n",
       "    .dataframe thead th {\n",
       "        text-align: right;\n",
       "    }\n",
       "</style>\n",
       "<table border=\"1\" class=\"dataframe\">\n",
       "  <thead>\n",
       "    <tr style=\"text-align: right;\">\n",
       "      <th></th>\n",
       "      <th>id</th>\n",
       "      <th>campaign_id</th>\n",
       "      <th>coupon_id</th>\n",
       "      <th>customer_id</th>\n",
       "      <th>redemption_status</th>\n",
       "      <th>campaign_type</th>\n",
       "      <th>start_date</th>\n",
       "      <th>end_date</th>\n",
       "      <th>category</th>\n",
       "      <th>age_range</th>\n",
       "      <th>...</th>\n",
       "      <th>selling_price_min</th>\n",
       "      <th>selling_price_sum</th>\n",
       "      <th>other_discount_mean</th>\n",
       "      <th>other_discount_max</th>\n",
       "      <th>other_discount_min</th>\n",
       "      <th>other_discount_sum</th>\n",
       "      <th>coupon_discount_mean</th>\n",
       "      <th>coupon_discount_max</th>\n",
       "      <th>coupon_discount_min</th>\n",
       "      <th>coupon_discount_sum</th>\n",
       "    </tr>\n",
       "  </thead>\n",
       "  <tbody>\n",
       "    <tr>\n",
       "      <td>0</td>\n",
       "      <td>1</td>\n",
       "      <td>13</td>\n",
       "      <td>27</td>\n",
       "      <td>1053</td>\n",
       "      <td>0</td>\n",
       "      <td>X</td>\n",
       "      <td>2013-05-19</td>\n",
       "      <td>2013-05-07</td>\n",
       "      <td>125</td>\n",
       "      <td>46-55</td>\n",
       "      <td>...</td>\n",
       "      <td>17.45</td>\n",
       "      <td>57120.75</td>\n",
       "      <td>-33.168935</td>\n",
       "      <td>0.0</td>\n",
       "      <td>-890.50</td>\n",
       "      <td>-10282.37</td>\n",
       "      <td>-0.287258</td>\n",
       "      <td>0.0</td>\n",
       "      <td>-89.05</td>\n",
       "      <td>-89.05</td>\n",
       "    </tr>\n",
       "    <tr>\n",
       "      <td>1</td>\n",
       "      <td>2</td>\n",
       "      <td>13</td>\n",
       "      <td>116</td>\n",
       "      <td>48</td>\n",
       "      <td>0</td>\n",
       "      <td>X</td>\n",
       "      <td>2013-05-19</td>\n",
       "      <td>2013-05-07</td>\n",
       "      <td>3</td>\n",
       "      <td>36-45</td>\n",
       "      <td>...</td>\n",
       "      <td>7.12</td>\n",
       "      <td>90185.10</td>\n",
       "      <td>-27.699169</td>\n",
       "      <td>0.0</td>\n",
       "      <td>-372.23</td>\n",
       "      <td>-10664.18</td>\n",
       "      <td>-3.215039</td>\n",
       "      <td>0.0</td>\n",
       "      <td>-213.72</td>\n",
       "      <td>-1237.79</td>\n",
       "    </tr>\n",
       "    <tr>\n",
       "      <td>2</td>\n",
       "      <td>6</td>\n",
       "      <td>9</td>\n",
       "      <td>635</td>\n",
       "      <td>205</td>\n",
       "      <td>0</td>\n",
       "      <td>Y</td>\n",
       "      <td>2013-11-03</td>\n",
       "      <td>2013-12-04</td>\n",
       "      <td>67</td>\n",
       "      <td>46-55</td>\n",
       "      <td>...</td>\n",
       "      <td>17.45</td>\n",
       "      <td>117461.66</td>\n",
       "      <td>-17.795660</td>\n",
       "      <td>0.0</td>\n",
       "      <td>-468.05</td>\n",
       "      <td>-17261.79</td>\n",
       "      <td>-2.212082</td>\n",
       "      <td>0.0</td>\n",
       "      <td>-89.05</td>\n",
       "      <td>-2145.72</td>\n",
       "    </tr>\n",
       "    <tr>\n",
       "      <td>3</td>\n",
       "      <td>7</td>\n",
       "      <td>13</td>\n",
       "      <td>644</td>\n",
       "      <td>1050</td>\n",
       "      <td>0</td>\n",
       "      <td>X</td>\n",
       "      <td>2013-05-19</td>\n",
       "      <td>2013-05-07</td>\n",
       "      <td>4</td>\n",
       "      <td>NaN</td>\n",
       "      <td>...</td>\n",
       "      <td>13.89</td>\n",
       "      <td>23291.42</td>\n",
       "      <td>-16.655570</td>\n",
       "      <td>0.0</td>\n",
       "      <td>-312.03</td>\n",
       "      <td>-3947.37</td>\n",
       "      <td>-0.751477</td>\n",
       "      <td>0.0</td>\n",
       "      <td>-89.05</td>\n",
       "      <td>-178.10</td>\n",
       "    </tr>\n",
       "    <tr>\n",
       "      <td>4</td>\n",
       "      <td>9</td>\n",
       "      <td>8</td>\n",
       "      <td>1017</td>\n",
       "      <td>1489</td>\n",
       "      <td>0</td>\n",
       "      <td>X</td>\n",
       "      <td>2013-02-16</td>\n",
       "      <td>2013-05-04</td>\n",
       "      <td>32</td>\n",
       "      <td>46-55</td>\n",
       "      <td>...</td>\n",
       "      <td>8.90</td>\n",
       "      <td>67797.49</td>\n",
       "      <td>-20.524733</td>\n",
       "      <td>0.0</td>\n",
       "      <td>-320.22</td>\n",
       "      <td>-11534.90</td>\n",
       "      <td>-0.471548</td>\n",
       "      <td>0.0</td>\n",
       "      <td>-53.43</td>\n",
       "      <td>-265.01</td>\n",
       "    </tr>\n",
       "  </tbody>\n",
       "</table>\n",
       "<p>5 rows × 27 columns</p>\n",
       "</div>"
      ],
      "text/plain": [
       "   id  campaign_id  coupon_id  customer_id  redemption_status campaign_type  \\\n",
       "0   1           13         27         1053                  0             X   \n",
       "1   2           13        116           48                  0             X   \n",
       "2   6            9        635          205                  0             Y   \n",
       "3   7           13        644         1050                  0             X   \n",
       "4   9            8       1017         1489                  0             X   \n",
       "\n",
       "  start_date   end_date  category age_range  ... selling_price_min  \\\n",
       "0 2013-05-19 2013-05-07       125     46-55  ...             17.45   \n",
       "1 2013-05-19 2013-05-07         3     36-45  ...              7.12   \n",
       "2 2013-11-03 2013-12-04        67     46-55  ...             17.45   \n",
       "3 2013-05-19 2013-05-07         4       NaN  ...             13.89   \n",
       "4 2013-02-16 2013-05-04        32     46-55  ...              8.90   \n",
       "\n",
       "   selling_price_sum other_discount_mean other_discount_max  \\\n",
       "0           57120.75          -33.168935                0.0   \n",
       "1           90185.10          -27.699169                0.0   \n",
       "2          117461.66          -17.795660                0.0   \n",
       "3           23291.42          -16.655570                0.0   \n",
       "4           67797.49          -20.524733                0.0   \n",
       "\n",
       "   other_discount_min  other_discount_sum  coupon_discount_mean  \\\n",
       "0             -890.50           -10282.37             -0.287258   \n",
       "1             -372.23           -10664.18             -3.215039   \n",
       "2             -468.05           -17261.79             -2.212082   \n",
       "3             -312.03            -3947.37             -0.751477   \n",
       "4             -320.22           -11534.90             -0.471548   \n",
       "\n",
       "   coupon_discount_max  coupon_discount_min  coupon_discount_sum  \n",
       "0                  0.0               -89.05               -89.05  \n",
       "1                  0.0              -213.72             -1237.79  \n",
       "2                  0.0               -89.05             -2145.72  \n",
       "3                  0.0               -89.05              -178.10  \n",
       "4                  0.0               -53.43              -265.01  \n",
       "\n",
       "[5 rows x 27 columns]"
      ]
     },
     "execution_count": 55,
     "metadata": {},
     "output_type": "execute_result"
    }
   ],
   "source": [
    "train_df.head()"
   ]
  },
  {
   "cell_type": "code",
   "execution_count": 56,
   "metadata": {},
   "outputs": [],
   "source": [
    "# Feature engineering timedelta(days) from campaign_start and end_dates for train and test sets :\n",
    "\n",
    "train_df['Gap_days_campaign'] = train_df['end_date'] - train_df['start_date'] \n",
    "train_df['Gap_days_campaign'] = train_df['Gap_days_campaign'].apply(lambda timedelta:int(np.abs(timedelta.days)))"
   ]
  },
  {
   "cell_type": "markdown",
   "metadata": {},
   "source": [
    "### *Preparing the test set :* "
   ]
  },
  {
   "cell_type": "code",
   "execution_count": 57,
   "metadata": {},
   "outputs": [
    {
     "data": {
      "text/plain": [
       "(50226, 4)"
      ]
     },
     "execution_count": 57,
     "metadata": {},
     "output_type": "execute_result"
    }
   ],
   "source": [
    "test.shape"
   ]
  },
  {
   "cell_type": "code",
   "execution_count": 58,
   "metadata": {},
   "outputs": [
    {
     "data": {
      "text/plain": [
       "(50226, 26)"
      ]
     },
     "execution_count": 58,
     "metadata": {},
     "output_type": "execute_result"
    }
   ],
   "source": [
    "# test_latest = test + campaign_data \n",
    "\n",
    "test_MERGED_campaign_data = test.merge(campaign_data, how='left', on='campaign_id')\n",
    "test_MERGED_campaign_data.shape\n",
    "\n",
    "# test_latest = test_latest + coup_merged_item\n",
    "test_MERGED_campaign_data_MERGED_coupon = test_MERGED_campaign_data.merge(coup_MERGED_item_groupBy, how='left', on='coupon_id') \n",
    "# test_MERGED_campaign_data_MERGED_coupon.shape\n",
    "\n",
    "# test_latest = test_latest + customer_dempgraphs\n",
    "test_MERGED_campaign_data_MERGED_coupon_MERGED_customer_demographics = test_MERGED_campaign_data_MERGED_coupon.merge(customer_demographs, \n",
    "                                                                                                                      how='left', on='customer_id')\n",
    "test_MERGED_campaign_data_MERGED_coupon_MERGED_customer_demographics.shape                                                                        \n",
    "\n",
    "# test_latest = test_latest + customer_transaction_data_merged_item_data\n",
    "test_MERGED_campaign_data_MERGED_coupon_MERGED_customer_demographics_MERGED_customer_transaction_data = test_MERGED_campaign_data_MERGED_coupon_MERGED_customer_demographics.merge(customer_transaction_data_groupBy, \n",
    "                                                                                                                      how='left', \n",
    "                                                                                                                      on='customer_id')\n",
    "# test_MERGED_campaign_data_MERGED_coupon_MERGED_customer_demographics_MERGED_customer_transaction_data.shape\n",
    "\n",
    "# final test_set :\n",
    "\n",
    "test_df = test_MERGED_campaign_data_MERGED_coupon_MERGED_customer_demographics_MERGED_customer_transaction_data\n",
    "test_df.shape"
   ]
  },
  {
   "cell_type": "code",
   "execution_count": 59,
   "metadata": {},
   "outputs": [],
   "source": [
    "# Feature engineering timedelta(days) from campaign_start and end_dates for train and test sets :\n",
    "\n",
    "test_df['Gap_days_campaign'] = test_df['end_date'] - test_df['start_date'] \n",
    "test_df['Gap_days_campaign'] = test_df['Gap_days_campaign'].apply(lambda timedelta:int(np.abs(timedelta.days)))"
   ]
  },
  {
   "cell_type": "code",
   "execution_count": 60,
   "metadata": {},
   "outputs": [],
   "source": [
    "# Rectifying columns in test :\n",
    "\n",
    "feature_list_test = [str(each_test_col[0]+\"_\"+each_test_col[1]) if str(type(each_test_col))==\"<class 'tuple'>\" else each_test_col for each_test_col in test_df.columns]"
   ]
  },
  {
   "cell_type": "code",
   "execution_count": 61,
   "metadata": {},
   "outputs": [],
   "source": [
    "# Assigning proper columns names :\n",
    "\n",
    "test_df.columns = feature_list_test"
   ]
  },
  {
   "cell_type": "code",
   "execution_count": 62,
   "metadata": {},
   "outputs": [],
   "source": [
    "# Eliminating irrelvant features in the test set :\n",
    "\n",
    "del test_df['id']\n",
    "del test_df['campaign_id']\n",
    "del test_df['customer_id']\n",
    "del test_df['coupon_id']\n",
    "del test_df['start_date']\n",
    "del test_df['end_date']"
   ]
  },
  {
   "cell_type": "code",
   "execution_count": 63,
   "metadata": {},
   "outputs": [
    {
     "data": {
      "text/plain": [
       "campaign_type               0\n",
       "category                    0\n",
       "age_range               19287\n",
       "marital_status          32144\n",
       "rented                  19287\n",
       "family_size             19287\n",
       "no_of_children          40064\n",
       "income_bracket          19287\n",
       "selling_price_mean          0\n",
       "selling_price_max           0\n",
       "selling_price_min           0\n",
       "selling_price_sum           0\n",
       "other_discount_mean         0\n",
       "other_discount_max          0\n",
       "other_discount_min          0\n",
       "other_discount_sum          0\n",
       "coupon_discount_mean        0\n",
       "coupon_discount_max         0\n",
       "coupon_discount_min         0\n",
       "coupon_discount_sum         0\n",
       "Gap_days_campaign           0\n",
       "dtype: int64"
      ]
     },
     "execution_count": 63,
     "metadata": {},
     "output_type": "execute_result"
    }
   ],
   "source": [
    "test_df.isnull().sum()"
   ]
  },
  {
   "cell_type": "markdown",
   "metadata": {},
   "source": [
    "## <font color='red'>Feature imputation using Modelling Approach :</font>"
   ]
  },
  {
   "cell_type": "code",
   "execution_count": 64,
   "metadata": {},
   "outputs": [
    {
     "data": {
      "text/plain": [
       "<matplotlib.axes._subplots.AxesSubplot at 0xed576dc208>"
      ]
     },
     "execution_count": 64,
     "metadata": {},
     "output_type": "execute_result"
    },
    {
     "data": {
      "image/png": "[encoded data removed]",
      "text/plain": [
       "<Figure size 1440x504 with 2 Axes>"
      ]
     },
     "metadata": {
      "needs_background": "light"
     },
     "output_type": "display_data"
    }
   ],
   "source": [
    "plt.figure(figsize=(20, 7))\n",
    "sns.heatmap(train_df.isnull(), cmap=\"YlGnBu\")"
   ]
  },
  {
   "cell_type": "code",
   "execution_count": 65,
   "metadata": {},
   "outputs": [
    {
     "data": {
      "text/html": [
       "<div>\n",
       "<style scoped>\n",
       "    .dataframe tbody tr th:only-of-type {\n",
       "        vertical-align: middle;\n",
       "    }\n",
       "\n",
       "    .dataframe tbody tr th {\n",
       "        vertical-align: top;\n",
       "    }\n",
       "\n",
       "    .dataframe thead th {\n",
       "        text-align: right;\n",
       "    }\n",
       "</style>\n",
       "<table border=\"1\" class=\"dataframe\">\n",
       "  <thead>\n",
       "    <tr style=\"text-align: right;\">\n",
       "      <th></th>\n",
       "      <th>id</th>\n",
       "      <th>campaign_id</th>\n",
       "      <th>coupon_id</th>\n",
       "      <th>customer_id</th>\n",
       "      <th>redemption_status</th>\n",
       "      <th>campaign_type</th>\n",
       "      <th>start_date</th>\n",
       "      <th>end_date</th>\n",
       "      <th>category</th>\n",
       "      <th>age_range</th>\n",
       "      <th>...</th>\n",
       "      <th>selling_price_sum</th>\n",
       "      <th>other_discount_mean</th>\n",
       "      <th>other_discount_max</th>\n",
       "      <th>other_discount_min</th>\n",
       "      <th>other_discount_sum</th>\n",
       "      <th>coupon_discount_mean</th>\n",
       "      <th>coupon_discount_max</th>\n",
       "      <th>coupon_discount_min</th>\n",
       "      <th>coupon_discount_sum</th>\n",
       "      <th>Gap_days_campaign</th>\n",
       "    </tr>\n",
       "  </thead>\n",
       "  <tbody>\n",
       "    <tr>\n",
       "      <td>0</td>\n",
       "      <td>1</td>\n",
       "      <td>13</td>\n",
       "      <td>27</td>\n",
       "      <td>1053</td>\n",
       "      <td>0</td>\n",
       "      <td>X</td>\n",
       "      <td>2013-05-19</td>\n",
       "      <td>2013-05-07</td>\n",
       "      <td>125</td>\n",
       "      <td>46-55</td>\n",
       "      <td>...</td>\n",
       "      <td>57120.75</td>\n",
       "      <td>-33.168935</td>\n",
       "      <td>0.0</td>\n",
       "      <td>-890.50</td>\n",
       "      <td>-10282.37</td>\n",
       "      <td>-0.287258</td>\n",
       "      <td>0.0</td>\n",
       "      <td>-89.05</td>\n",
       "      <td>-89.05</td>\n",
       "      <td>12</td>\n",
       "    </tr>\n",
       "    <tr>\n",
       "      <td>1</td>\n",
       "      <td>2</td>\n",
       "      <td>13</td>\n",
       "      <td>116</td>\n",
       "      <td>48</td>\n",
       "      <td>0</td>\n",
       "      <td>X</td>\n",
       "      <td>2013-05-19</td>\n",
       "      <td>2013-05-07</td>\n",
       "      <td>3</td>\n",
       "      <td>36-45</td>\n",
       "      <td>...</td>\n",
       "      <td>90185.10</td>\n",
       "      <td>-27.699169</td>\n",
       "      <td>0.0</td>\n",
       "      <td>-372.23</td>\n",
       "      <td>-10664.18</td>\n",
       "      <td>-3.215039</td>\n",
       "      <td>0.0</td>\n",
       "      <td>-213.72</td>\n",
       "      <td>-1237.79</td>\n",
       "      <td>12</td>\n",
       "    </tr>\n",
       "    <tr>\n",
       "      <td>2</td>\n",
       "      <td>6</td>\n",
       "      <td>9</td>\n",
       "      <td>635</td>\n",
       "      <td>205</td>\n",
       "      <td>0</td>\n",
       "      <td>Y</td>\n",
       "      <td>2013-11-03</td>\n",
       "      <td>2013-12-04</td>\n",
       "      <td>67</td>\n",
       "      <td>46-55</td>\n",
       "      <td>...</td>\n",
       "      <td>117461.66</td>\n",
       "      <td>-17.795660</td>\n",
       "      <td>0.0</td>\n",
       "      <td>-468.05</td>\n",
       "      <td>-17261.79</td>\n",
       "      <td>-2.212082</td>\n",
       "      <td>0.0</td>\n",
       "      <td>-89.05</td>\n",
       "      <td>-2145.72</td>\n",
       "      <td>31</td>\n",
       "    </tr>\n",
       "    <tr>\n",
       "      <td>3</td>\n",
       "      <td>7</td>\n",
       "      <td>13</td>\n",
       "      <td>644</td>\n",
       "      <td>1050</td>\n",
       "      <td>0</td>\n",
       "      <td>X</td>\n",
       "      <td>2013-05-19</td>\n",
       "      <td>2013-05-07</td>\n",
       "      <td>4</td>\n",
       "      <td>NaN</td>\n",
       "      <td>...</td>\n",
       "      <td>23291.42</td>\n",
       "      <td>-16.655570</td>\n",
       "      <td>0.0</td>\n",
       "      <td>-312.03</td>\n",
       "      <td>-3947.37</td>\n",
       "      <td>-0.751477</td>\n",
       "      <td>0.0</td>\n",
       "      <td>-89.05</td>\n",
       "      <td>-178.10</td>\n",
       "      <td>12</td>\n",
       "    </tr>\n",
       "    <tr>\n",
       "      <td>4</td>\n",
       "      <td>9</td>\n",
       "      <td>8</td>\n",
       "      <td>1017</td>\n",
       "      <td>1489</td>\n",
       "      <td>0</td>\n",
       "      <td>X</td>\n",
       "      <td>2013-02-16</td>\n",
       "      <td>2013-05-04</td>\n",
       "      <td>32</td>\n",
       "      <td>46-55</td>\n",
       "      <td>...</td>\n",
       "      <td>67797.49</td>\n",
       "      <td>-20.524733</td>\n",
       "      <td>0.0</td>\n",
       "      <td>-320.22</td>\n",
       "      <td>-11534.90</td>\n",
       "      <td>-0.471548</td>\n",
       "      <td>0.0</td>\n",
       "      <td>-53.43</td>\n",
       "      <td>-265.01</td>\n",
       "      <td>77</td>\n",
       "    </tr>\n",
       "  </tbody>\n",
       "</table>\n",
       "<p>5 rows × 28 columns</p>\n",
       "</div>"
      ],
      "text/plain": [
       "   id  campaign_id  coupon_id  customer_id  redemption_status campaign_type  \\\n",
       "0   1           13         27         1053                  0             X   \n",
       "1   2           13        116           48                  0             X   \n",
       "2   6            9        635          205                  0             Y   \n",
       "3   7           13        644         1050                  0             X   \n",
       "4   9            8       1017         1489                  0             X   \n",
       "\n",
       "  start_date   end_date  category age_range  ... selling_price_sum  \\\n",
       "0 2013-05-19 2013-05-07       125     46-55  ...          57120.75   \n",
       "1 2013-05-19 2013-05-07         3     36-45  ...          90185.10   \n",
       "2 2013-11-03 2013-12-04        67     46-55  ...         117461.66   \n",
       "3 2013-05-19 2013-05-07         4       NaN  ...          23291.42   \n",
       "4 2013-02-16 2013-05-04        32     46-55  ...          67797.49   \n",
       "\n",
       "   other_discount_mean other_discount_max other_discount_min  \\\n",
       "0           -33.168935                0.0            -890.50   \n",
       "1           -27.699169                0.0            -372.23   \n",
       "2           -17.795660                0.0            -468.05   \n",
       "3           -16.655570                0.0            -312.03   \n",
       "4           -20.524733                0.0            -320.22   \n",
       "\n",
       "   other_discount_sum  coupon_discount_mean  coupon_discount_max  \\\n",
       "0           -10282.37             -0.287258                  0.0   \n",
       "1           -10664.18             -3.215039                  0.0   \n",
       "2           -17261.79             -2.212082                  0.0   \n",
       "3            -3947.37             -0.751477                  0.0   \n",
       "4           -11534.90             -0.471548                  0.0   \n",
       "\n",
       "   coupon_discount_min  coupon_discount_sum  Gap_days_campaign  \n",
       "0               -89.05               -89.05                 12  \n",
       "1              -213.72             -1237.79                 12  \n",
       "2               -89.05             -2145.72                 31  \n",
       "3               -89.05              -178.10                 12  \n",
       "4               -53.43              -265.01                 77  \n",
       "\n",
       "[5 rows x 28 columns]"
      ]
     },
     "execution_count": 65,
     "metadata": {},
     "output_type": "execute_result"
    }
   ],
   "source": [
    "train_df.head()"
   ]
  },
  {
   "cell_type": "code",
   "execution_count": 66,
   "metadata": {},
   "outputs": [
    {
     "data": {
      "text/plain": [
       "id                          0\n",
       "campaign_id                 0\n",
       "coupon_id                   0\n",
       "customer_id                 0\n",
       "redemption_status           0\n",
       "campaign_type               0\n",
       "start_date                  0\n",
       "end_date                    0\n",
       "category                    0\n",
       "age_range               34708\n",
       "marital_status          52975\n",
       "rented                  34708\n",
       "family_size             34708\n",
       "no_of_children          64313\n",
       "income_bracket          34708\n",
       "selling_price_mean          0\n",
       "selling_price_max           0\n",
       "selling_price_min           0\n",
       "selling_price_sum           0\n",
       "other_discount_mean         0\n",
       "other_discount_max          0\n",
       "other_discount_min          0\n",
       "other_discount_sum          0\n",
       "coupon_discount_mean        0\n",
       "coupon_discount_max         0\n",
       "coupon_discount_min         0\n",
       "coupon_discount_sum         0\n",
       "Gap_days_campaign           0\n",
       "dtype: int64"
      ]
     },
     "execution_count": 66,
     "metadata": {},
     "output_type": "execute_result"
    }
   ],
   "source": [
    "train_df.isnull().sum()"
   ]
  },
  {
   "cell_type": "code",
   "execution_count": 67,
   "metadata": {},
   "outputs": [
    {
     "data": {
      "text/plain": [
       "<matplotlib.axes._subplots.AxesSubplot at 0xed592ce408>"
      ]
     },
     "execution_count": 67,
     "metadata": {},
     "output_type": "execute_result"
    },
    {
     "data": {
      "image/png": "[encoded data removed]",
      "text/plain": [
       "<Figure size 1440x720 with 4 Axes>"
      ]
     },
     "metadata": {
      "needs_background": "light"
     },
     "output_type": "display_data"
    }
   ],
   "source": [
    "# Excluding nulls :\n",
    "\n",
    "plt.figure(figsize=(20, 10))\n",
    "\n",
    "plt.subplot(2,2,1)\n",
    "sns.countplot(data=train_df, x='no_of_children', hue='marital_status')\n",
    "\n",
    "plt.subplot(2,2,2)\n",
    "sns.countplot(data=train_df, x='no_of_children', hue='family_size')\n",
    "\n",
    "plt.subplot(2,2,3)\n",
    "sns.countplot(data=train_df, x='no_of_children', hue='rented')\n",
    "\n",
    "plt.subplot(2,2,4)\n",
    "sns.countplot(data=train_df, x='no_of_children', hue='income_bracket')"
   ]
  },
  {
   "cell_type": "markdown",
   "metadata": {},
   "source": [
    "> <h3> Train set features to impute :</h3>\n",
    "\n",
    "+ age_range               \n",
    "+ marital_status          \n",
    "+ rented                  \n",
    "+ family_size             \n",
    "+ no_of_children          \n",
    "+ income_bracket          "
   ]
  },
  {
   "cell_type": "code",
   "execution_count": 68,
   "metadata": {},
   "outputs": [],
   "source": [
    "# removing irrelevant features from the train set:\n",
    "\n",
    "del train_df['id']\n",
    "del train_df['campaign_id']\n",
    "del train_df['customer_id']\n",
    "del train_df['coupon_id']\n",
    "del train_df['start_date']\n",
    "del train_df['end_date']\n",
    "\n",
    "# redemption_status= train_df['redemption_status'] # storing the 'y' dependent variable, in separete variable :\n",
    "# del train_df['redemption_status']  # deleting the dependent variale"
   ]
  },
  {
   "cell_type": "code",
   "execution_count": 228,
   "metadata": {},
   "outputs": [
    {
     "name": "stdout",
     "output_type": "stream",
     "text": [
      "+-----------------+-------------------+-----------+----------------+--------+-------------+----------------+----------------+\n",
      "| FeatureToImpute | redemption_status | age_range | marital_status | rented | family_size | no_of_children | income_Bracket |\n",
      "+-----------------+-------------------+-----------+----------------+--------+-------------+----------------+----------------+\n",
      "|    age_range    |        N/A        |    N/A    |       X        |   X    |      X      |       X        |       X        |\n",
      "|  marital_status |        N/A        |     ✓     |      N/A       |   X    |      X      |       X        |       X        |\n",
      "|      rented     |        N/A        |     ✓     |       ✓        |  N/A   |      X      |       X        |       X        |\n",
      "|   family_size   |        N/A        |     ✓     |       ✓        |   ✓    |     N/A     |       X        |       X        |\n",
      "|  no_of_children |        N/A        |     ✓     |       ✓        |   ✓    |      ✓      |      N/A       |       X        |\n",
      "|  income_bracket |        N/A        |     ✓     |       ✓        |   ✓    |      ✓      |       ✓        |      N/A       |\n",
      "+-----------------+-------------------+-----------+----------------+--------+-------------+----------------+----------------+\n"
     ]
    }
   ],
   "source": [
    "# Utilization of the features in incremental way to achieve imputation in the 'after' features : \n",
    "# The models will be used exactly in the same step as they were used for imputation in the train set :\n",
    "\n",
    "table = PrettyTable()\n",
    "table.field_names = ['FeatureToImpute', 'redemption_status','age_range', 'marital_status', 'rented', 'family_size', 'no_of_children', 'income_Bracket']\n",
    "\n",
    "table.align[\"FeatureToImpute \"] = \"L\"\n",
    "table.align[\"redemption_status\"] = \"L\"\n",
    "table.align[\"age_range\"] = \"R\"\n",
    "table.align[\"marital_status \"] = \"R\"\n",
    "table.align[\"rented\"] = \"R\"\n",
    "table.align[\"family_size\"] = \"R\"\n",
    "table.align[\"no_of_children\"] = \"R\"\n",
    "table.align[\"income_bracket\"] = \"L\"\n",
    "\n",
    "\n",
    "table.add_row(['age_range','N/A', 'N/A', 'X' , 'X' , 'X' , 'X' , 'X'  ])\n",
    "\n",
    "table.add_row(['marital_status','N/A', '✓', 'N/A', 'X' , 'X' , 'X' , 'X' ])\n",
    "\n",
    "table.add_row(['rented','N/A', '✓', '✓', 'N/A', 'X' , 'X' , 'X' ])\n",
    "\n",
    "table.add_row(['family_size','N/A', '✓', '✓', '✓', 'N/A', 'X' , 'X' ])\n",
    "\n",
    "table.add_row(['no_of_children', 'N/A', '✓', '✓', '✓', '✓', 'N/A', 'X' ])\n",
    "\n",
    "table.add_row(['income_bracket', 'N/A', '✓', '✓', '✓', '✓', '✓', 'N/A'])\n",
    "\n",
    "print(table)"
   ]
  },
  {
   "cell_type": "markdown",
   "metadata": {},
   "source": [
    "> <h2>Imputing feature <font color='red'> 'age_range' </font> for the train set :</h2>"
   ]
  },
  {
   "cell_type": "code",
   "execution_count": 70,
   "metadata": {},
   "outputs": [
    {
     "data": {
      "text/plain": [
       "(78369, 23)"
      ]
     },
     "execution_count": 70,
     "metadata": {},
     "output_type": "execute_result"
    }
   ],
   "source": [
    "# One hot encoding 'campaign_type' feature :\n",
    "\n",
    "train_df = pd.concat([train_df, pd.get_dummies(train_df['campaign_type'])], axis=1)\n",
    "del train_df['campaign_type'] # has been one hot encoded, hence not required as a single feature\n",
    "train_df.shape"
   ]
  },
  {
   "cell_type": "code",
   "execution_count": 71,
   "metadata": {},
   "outputs": [],
   "source": [
    "# Separate dataframe containing each features null and feature 'age_range' removed from the above created dataset :\n",
    "\n",
    "X_train_impute_age_range = train_df.ix[train_df['age_range'].notnull()] # where age_range is notNull\n",
    "\n",
    "# The following features are not considered for as a training set feature for 'age_range' imputation becoz they themselves contain Nulls \n",
    "\n",
    "\n",
    "# Redemption_status not an inpput feature as it will not be present in the test set and,\n",
    "# the models used for imuting in train set will be used for test set imputation as well \n",
    "\n",
    "X_train_redemption_status = X_train_impute_age_range['redemption_status']\n",
    "del X_train_impute_age_range['redemption_status']\n",
    "\n",
    "X_train_marital_status = X_train_impute_age_range['marital_status']\n",
    "del X_train_impute_age_range['marital_status']\n",
    "\n",
    "X_train_rented = X_train_impute_age_range['rented']\n",
    "del X_train_impute_age_range['rented']\n",
    "\n",
    "X_train_family_size = X_train_impute_age_range['family_size']\n",
    "del X_train_impute_age_range['family_size']\n",
    "\n",
    "X_train_no_of_children = X_train_impute_age_range['no_of_children']\n",
    "del X_train_impute_age_range['no_of_children']\n",
    "\n",
    "X_train_income_bracket = X_train_impute_age_range['income_bracket'] \n",
    "del X_train_impute_age_range['income_bracket']\n",
    "\n",
    "\n",
    "y_train_age_range = X_train_impute_age_range['age_range']  # y variable i.e. age_range(with all notNull values)\n",
    "del X_train_impute_age_range['age_range']  # removing the y variable from the learning_set "
   ]
  },
  {
   "cell_type": "code",
   "execution_count": 72,
   "metadata": {},
   "outputs": [
    {
     "data": {
      "text/plain": [
       "(43661, 16)"
      ]
     },
     "execution_count": 72,
     "metadata": {},
     "output_type": "execute_result"
    }
   ],
   "source": [
    "# X_train_impute_age_range shape :\n",
    "\n",
    "X_train_impute_age_range.shape"
   ]
  },
  {
   "cell_type": "code",
   "execution_count": 73,
   "metadata": {},
   "outputs": [
    {
     "data": {
      "text/plain": [
       "category                0\n",
       "selling_price_mean      0\n",
       "selling_price_max       0\n",
       "selling_price_min       0\n",
       "selling_price_sum       0\n",
       "other_discount_mean     0\n",
       "other_discount_max      0\n",
       "other_discount_min      0\n",
       "other_discount_sum      0\n",
       "coupon_discount_mean    0\n",
       "coupon_discount_max     0\n",
       "coupon_discount_min     0\n",
       "coupon_discount_sum     0\n",
       "Gap_days_campaign       0\n",
       "X                       0\n",
       "Y                       0\n",
       "dtype: int64"
      ]
     },
     "execution_count": 73,
     "metadata": {},
     "output_type": "execute_result"
    }
   ],
   "source": [
    "X_train_impute_age_range.isnull().sum()"
   ]
  },
  {
   "cell_type": "code",
   "execution_count": 74,
   "metadata": {},
   "outputs": [
    {
     "data": {
      "text/plain": [
       "LogisticRegression(C=1.0, class_weight=None, dual=False, fit_intercept=True,\n",
       "                   intercept_scaling=1, l1_ratio=None, max_iter=100,\n",
       "                   multi_class='warn', n_jobs=None, penalty='l2',\n",
       "                   random_state=None, solver='warn', tol=0.0001, verbose=0,\n",
       "                   warm_start=False)"
      ]
     },
     "execution_count": 74,
     "metadata": {},
     "output_type": "execute_result"
    }
   ],
   "source": [
    "# Imputation using Model for 'age_range' features :\n",
    "\n",
    "logisticRegression_age_range = LogisticRegression()\n",
    "logisticRegression_age_range.fit(X_train_impute_age_range, y_train_age_range)  # LR fitted with X, y "
   ]
  },
  {
   "cell_type": "code",
   "execution_count": 75,
   "metadata": {},
   "outputs": [],
   "source": [
    "# TO PREDICT ON : Where 'age_range' feature is null :\n",
    "# X_test_impute_age_range contains\n",
    "\n",
    "X_test_impute_age_range = train_df.ix[train_df['age_range'].isnull()] # all the points containing 'age_range' Nulls\n",
    "\n",
    "\n",
    "# Redemption_status not an inpput feature as it will not be present in the test set and,\n",
    "# the models used for imuting in train set will be used for test set imputation as well \n",
    "\n",
    "X_test_redemption_status = X_test_impute_age_range['redemption_status']\n",
    "del X_test_impute_age_range['redemption_status']\n",
    "\n",
    "\n",
    "\n",
    "X_test_marital_status = X_test_impute_age_range['marital_status']\n",
    "del X_test_impute_age_range['marital_status']\n",
    "\n",
    "X_test_rented = X_test_impute_age_range['rented']\n",
    "del X_test_impute_age_range['rented']\n",
    "\n",
    "X_test_family_size = X_test_impute_age_range['family_size']\n",
    "del X_test_impute_age_range['family_size']\n",
    "\n",
    "X_test_no_of_children = X_test_impute_age_range['no_of_children']\n",
    "del X_test_impute_age_range['no_of_children']\n",
    "\n",
    "X_test_income_bracket = X_test_impute_age_range['income_bracket'] \n",
    "del X_test_impute_age_range['income_bracket']\n",
    "\n",
    "# Contains all Nulls; this step not important though at all as this 'y' will have new not null values \n",
    "y_test_age_range = X_test_impute_age_range['age_range']  \n",
    "del X_test_impute_age_range['age_range']"
   ]
  },
  {
   "cell_type": "code",
   "execution_count": 76,
   "metadata": {},
   "outputs": [
    {
     "data": {
      "text/plain": [
       "(34708, 16)"
      ]
     },
     "execution_count": 76,
     "metadata": {},
     "output_type": "execute_result"
    }
   ],
   "source": [
    "X_test_impute_age_range.shape"
   ]
  },
  {
   "cell_type": "code",
   "execution_count": 77,
   "metadata": {},
   "outputs": [
    {
     "data": {
      "text/plain": [
       "(43661, 16)"
      ]
     },
     "execution_count": 77,
     "metadata": {},
     "output_type": "execute_result"
    }
   ],
   "source": [
    "X_train_impute_age_range.shape"
   ]
  },
  {
   "cell_type": "code",
   "execution_count": 78,
   "metadata": {},
   "outputs": [
    {
     "data": {
      "text/plain": [
       "category                0\n",
       "selling_price_mean      0\n",
       "selling_price_max       0\n",
       "selling_price_min       0\n",
       "selling_price_sum       0\n",
       "other_discount_mean     0\n",
       "other_discount_max      0\n",
       "other_discount_min      0\n",
       "other_discount_sum      0\n",
       "coupon_discount_mean    0\n",
       "coupon_discount_max     0\n",
       "coupon_discount_min     0\n",
       "coupon_discount_sum     0\n",
       "Gap_days_campaign       0\n",
       "X                       0\n",
       "Y                       0\n",
       "dtype: int64"
      ]
     },
     "execution_count": 78,
     "metadata": {},
     "output_type": "execute_result"
    }
   ],
   "source": [
    "X_test_impute_age_range.isnull().sum()"
   ]
  },
  {
   "cell_type": "code",
   "execution_count": 79,
   "metadata": {},
   "outputs": [],
   "source": [
    "predicted_age_range = logisticRegression_age_range.predict(X_test_impute_age_range)\n",
    "X_test_impute_age_range['age_range'] = predicted_age_range # imputation via predicted values for the nulls"
   ]
  },
  {
   "cell_type": "code",
   "execution_count": null,
   "metadata": {},
   "outputs": [],
   "source": []
  },
  {
   "cell_type": "code",
   "execution_count": 80,
   "metadata": {},
   "outputs": [],
   "source": [
    "# Combining X_train and X_test sets after 'age_range' feature imputation :\n",
    "# Also including the removed features in the above imputation procedure :\n",
    "\n",
    "\n",
    "# Completing the X_train set :\n",
    "X_train_impute_age_range['age_range'] = y_train_age_range\n",
    "X_train_impute_age_range['marital_status'] = X_train_marital_status\n",
    "X_train_impute_age_range['rented'] = X_train_rented\n",
    "X_train_impute_age_range['family_size'] = X_train_family_size\n",
    "X_train_impute_age_range['no_of_children'] = X_train_no_of_children\n",
    "X_train_impute_age_range['income_bracket'] = X_train_income_bracket\n",
    "X_train_impute_age_range['redemption_status'] = X_train_redemption_status\n",
    "\n",
    "\n",
    "# Completing the X_test set :\n",
    "# X_test_impute_age_range['age_range'] = predicted_age_range # imputation via predicted values for the nulls # already imputed in above cell\n",
    "X_test_impute_age_range['marital_status'] = X_test_marital_status \n",
    "X_test_impute_age_range['rented'] = X_test_rented\n",
    "X_test_impute_age_range['family_size'] = X_test_family_size\n",
    "X_test_impute_age_range['no_of_children'] = X_test_no_of_children\n",
    "X_test_impute_age_range['income_bracket'] = X_test_income_bracket\n",
    "X_test_impute_age_range['redemption_status'] = X_test_redemption_status"
   ]
  },
  {
   "cell_type": "code",
   "execution_count": 81,
   "metadata": {},
   "outputs": [
    {
     "name": "stdout",
     "output_type": "stream",
     "text": [
      "X_train shape : (43661, 23)\n",
      "X_test shape : (34708, 23)\n"
     ]
    }
   ],
   "source": [
    "print(\"X_train shape :\" , X_train_impute_age_range.shape)\n",
    "print(\"X_test shape :\" , X_test_impute_age_range.shape)"
   ]
  },
  {
   "cell_type": "code",
   "execution_count": 82,
   "metadata": {},
   "outputs": [
    {
     "name": "stdout",
     "output_type": "stream",
     "text": [
      "Train_df shape : (78369, 23)\n"
     ]
    }
   ],
   "source": [
    "# Combining the X_train & X_test :\n",
    "\n",
    "train_df = X_train_impute_age_range.append(X_test_impute_age_range)\n",
    "print('Train_df shape :', train_df.shape)\n",
    "\n",
    "# 'age_range' feature IMPUTED *******"
   ]
  },
  {
   "cell_type": "markdown",
   "metadata": {},
   "source": [
    "> <h2>Imputing feature <font color='red'> 'marital_status' </font> for the train set :</h2>"
   ]
  },
  {
   "cell_type": "code",
   "execution_count": 83,
   "metadata": {},
   "outputs": [
    {
     "data": {
      "text/plain": [
       "(78369, 28)"
      ]
     },
     "execution_count": 83,
     "metadata": {},
     "output_type": "execute_result"
    }
   ],
   "source": [
    "# One hot encoding 'campaign_type' feature :\n",
    "\n",
    "train_df = pd.concat([train_df, pd.get_dummies(train_df['age_range'])], axis=1)\n",
    "del train_df['age_range'] # has been one hot encoded, hence not required as a single feature\n",
    "train_df.shape"
   ]
  },
  {
   "cell_type": "code",
   "execution_count": 84,
   "metadata": {},
   "outputs": [],
   "source": [
    "# Separate dataframe containing each features null and feature 'age_range' removed from the above created dataset :\n",
    "\n",
    "X_train_impute_marital_status = train_df.ix[train_df['marital_status'].notnull()] # where age_range is notNull\n",
    "\n",
    "# Redemption_status not an inpput feature as it will not be present in the test set and,\n",
    "# the models used for imuting in train set will be used for test set imputation as well \n",
    "\n",
    "X_train_redemption_status = X_train_impute_marital_status['redemption_status']\n",
    "del X_train_impute_marital_status['redemption_status']\n",
    "\n",
    "\n",
    "# The following features are not considered for as a training set feature for 'age_range' imputation becoz they themselves contain Nulls \n",
    "\n",
    "X_train_rented = X_train_impute_marital_status['rented']\n",
    "del X_train_impute_marital_status['rented']\n",
    "\n",
    "X_train_family_size = X_train_impute_marital_status['family_size']\n",
    "del X_train_impute_marital_status['family_size']\n",
    "\n",
    "X_train_no_of_children = X_train_impute_marital_status['no_of_children']\n",
    "del X_train_impute_marital_status['no_of_children']\n",
    "\n",
    "X_train_income_bracket = X_train_impute_marital_status['income_bracket'] \n",
    "del X_train_impute_marital_status['income_bracket']\n",
    "\n",
    "\n",
    "y_train_marital_status = X_train_impute_marital_status['marital_status']  # y variable i.e. age_range(with all notNull values)\n",
    "del X_train_impute_marital_status['marital_status']  # removing the y variable from the learning_set "
   ]
  },
  {
   "cell_type": "code",
   "execution_count": 85,
   "metadata": {},
   "outputs": [
    {
     "data": {
      "text/plain": [
       "(25394, 22)"
      ]
     },
     "execution_count": 85,
     "metadata": {},
     "output_type": "execute_result"
    }
   ],
   "source": [
    "# X_train_impute_age_range shape :\n",
    "\n",
    "X_train_impute_marital_status.shape"
   ]
  },
  {
   "cell_type": "code",
   "execution_count": 86,
   "metadata": {},
   "outputs": [
    {
     "data": {
      "text/plain": [
       "LogisticRegression(C=1.0, class_weight=None, dual=False, fit_intercept=True,\n",
       "                   intercept_scaling=1, l1_ratio=None, max_iter=100,\n",
       "                   multi_class='warn', n_jobs=None, penalty='l2',\n",
       "                   random_state=None, solver='warn', tol=0.0001, verbose=0,\n",
       "                   warm_start=False)"
      ]
     },
     "execution_count": 86,
     "metadata": {},
     "output_type": "execute_result"
    }
   ],
   "source": [
    "# Imputation using Model for 'age_range' features :\n",
    "\n",
    "logisticRegression_marital_status = LogisticRegression()\n",
    "logisticRegression_marital_status.fit(X_train_impute_marital_status, y_train_marital_status)  # LR fitted with X, y "
   ]
  },
  {
   "cell_type": "code",
   "execution_count": 87,
   "metadata": {},
   "outputs": [],
   "source": [
    "# TO PREDICT ON : Where 'age_range' feature is null :\n",
    "# X_test_impute_marital_status contains\n",
    "\n",
    "X_test_impute_marital_status = train_df.ix[train_df['marital_status'].isnull()] # all the points containing 'marial_status' Nulls\n",
    "\n",
    "X_test_redemption_status = X_test_impute_marital_status['redemption_status']\n",
    "del X_test_impute_marital_status['redemption_status']\n",
    "\n",
    "\n",
    "X_test_rented = X_test_impute_marital_status['rented']\n",
    "del X_test_impute_marital_status['rented']\n",
    "\n",
    "X_test_family_size = X_test_impute_marital_status['family_size']\n",
    "del X_test_impute_marital_status['family_size']\n",
    "\n",
    "X_test_no_of_children = X_test_impute_marital_status['no_of_children']\n",
    "del X_test_impute_marital_status['no_of_children']\n",
    "\n",
    "X_test_income_bracket = X_test_impute_marital_status['income_bracket'] \n",
    "del X_test_impute_marital_status['income_bracket']\n",
    "\n",
    "\n",
    "y_test_marital_status = X_test_impute_marital_status['marital_status']  # Contains all Nulls; this step not important though at all as this 'y' will have new notNull values \n",
    "del X_test_impute_marital_status['marital_status']"
   ]
  },
  {
   "cell_type": "code",
   "execution_count": 88,
   "metadata": {},
   "outputs": [
    {
     "data": {
      "text/plain": [
       "(52975, 22)"
      ]
     },
     "execution_count": 88,
     "metadata": {},
     "output_type": "execute_result"
    }
   ],
   "source": [
    "X_test_impute_marital_status.shape"
   ]
  },
  {
   "cell_type": "code",
   "execution_count": 89,
   "metadata": {},
   "outputs": [
    {
     "data": {
      "text/plain": [
       "(25394, 22)"
      ]
     },
     "execution_count": 89,
     "metadata": {},
     "output_type": "execute_result"
    }
   ],
   "source": [
    "X_train_impute_marital_status.shape"
   ]
  },
  {
   "cell_type": "code",
   "execution_count": 90,
   "metadata": {},
   "outputs": [],
   "source": [
    "predicted_marital_status = logisticRegression_marital_status.predict(X_test_impute_marital_status)\n",
    "X_test_impute_marital_status['marital_status'] = predicted_marital_status #imputed @ null positions for marital_status"
   ]
  },
  {
   "cell_type": "code",
   "execution_count": 91,
   "metadata": {},
   "outputs": [],
   "source": [
    "# Combining X_train and X_test sets after 'age_range' feature imputation :\n",
    "# Also including the removed features in the above imputation procedure :\n",
    "\n",
    "\n",
    "# Completing the X_train set :\n",
    "\n",
    "X_train_impute_marital_status['marital_status'] = y_train_marital_status\n",
    "\n",
    "X_train_impute_marital_status['rented'] = X_train_rented\n",
    "X_train_impute_marital_status['family_size'] = X_train_family_size\n",
    "X_train_impute_marital_status['no_of_children'] = X_train_no_of_children\n",
    "X_train_impute_marital_status['income_bracket'] = X_train_income_bracket\n",
    "X_train_impute_marital_status['redemption_status'] = X_train_redemption_status\n",
    "\n",
    "\n",
    "# Completing the X_test set :\n",
    "\n",
    "X_test_impute_marital_status['rented'] = X_test_rented\n",
    "X_test_impute_marital_status['family_size'] = X_test_family_size\n",
    "X_test_impute_marital_status['no_of_children'] = X_test_no_of_children\n",
    "X_test_impute_marital_status['income_bracket'] = X_test_income_bracket\n",
    "X_test_impute_marital_status['redemption_status'] = X_test_redemption_status"
   ]
  },
  {
   "cell_type": "code",
   "execution_count": 92,
   "metadata": {},
   "outputs": [
    {
     "name": "stdout",
     "output_type": "stream",
     "text": [
      "X_train shape : (25394, 28)\n",
      "X_test shape : (52975, 28)\n"
     ]
    }
   ],
   "source": [
    "print(\"X_train shape :\" , X_train_impute_marital_status.shape)\n",
    "print(\"X_test shape :\" , X_test_impute_marital_status.shape)"
   ]
  },
  {
   "cell_type": "code",
   "execution_count": 93,
   "metadata": {},
   "outputs": [
    {
     "name": "stdout",
     "output_type": "stream",
     "text": [
      "Train_df shape : (78369, 28)\n"
     ]
    }
   ],
   "source": [
    "# Combining the X_train & X_test :\n",
    "\n",
    "train_df = X_train_impute_marital_status.append(X_test_impute_marital_status)\n",
    "print('Train_df shape :', train_df.shape)\n",
    "\n",
    "# ****'marital_status' feature IMPUTED ****"
   ]
  },
  {
   "cell_type": "markdown",
   "metadata": {},
   "source": [
    "> <h2>Imputing feature <font color='red'> 'rented' </font> for the train set :</h2>"
   ]
  },
  {
   "cell_type": "code",
   "execution_count": 94,
   "metadata": {},
   "outputs": [],
   "source": [
    "# Encoding the 'marital_status' feature as 1/0 as it has been imputed successfully above :\n",
    "\n",
    "train_df['marital_status'] = train_df['marital_status'].apply(lambda x: 1 if x=='Married' else 0)"
   ]
  },
  {
   "cell_type": "code",
   "execution_count": 95,
   "metadata": {},
   "outputs": [],
   "source": [
    "# Separate dataframe containing each features null and feature 'age_range' removed from the above created dataset :\n",
    "\n",
    "X_train_impute_rented = train_df.ix[train_df['rented'].notnull()] # where age_range is notNull\n",
    "\n",
    "# The following features are not considered for as a training set feature for 'age_range' imputation becoz they themselves contain Nulls \n",
    "\n",
    "X_train_redemption_status = X_train_impute_rented['redemption_status']\n",
    "del X_train_impute_rented['redemption_status']\n",
    "\n",
    "\n",
    "X_train_family_size = X_train_impute_rented['family_size']\n",
    "del X_train_impute_rented['family_size']\n",
    "\n",
    "X_train_no_of_children = X_train_impute_rented['no_of_children']\n",
    "del X_train_impute_rented['no_of_children']\n",
    "\n",
    "X_train_income_bracket = X_train_impute_rented['income_bracket'] \n",
    "del X_train_impute_rented['income_bracket']\n",
    "\n",
    "\n",
    "y_train_rented = X_train_impute_rented['rented']  # y variable i.e. age_range(with all notNull values)\n",
    "del X_train_impute_rented['rented']  # removing the y variable from the learning_set "
   ]
  },
  {
   "cell_type": "code",
   "execution_count": 96,
   "metadata": {},
   "outputs": [
    {
     "data": {
      "text/plain": [
       "(43661, 23)"
      ]
     },
     "execution_count": 96,
     "metadata": {},
     "output_type": "execute_result"
    }
   ],
   "source": [
    "# X_train_impute_age_range shape :\n",
    "\n",
    "X_train_impute_rented.shape"
   ]
  },
  {
   "cell_type": "code",
   "execution_count": 97,
   "metadata": {},
   "outputs": [
    {
     "data": {
      "text/plain": [
       "LogisticRegression(C=1.0, class_weight=None, dual=False, fit_intercept=True,\n",
       "                   intercept_scaling=1, l1_ratio=None, max_iter=100,\n",
       "                   multi_class='warn', n_jobs=None, penalty='l2',\n",
       "                   random_state=None, solver='warn', tol=0.0001, verbose=0,\n",
       "                   warm_start=False)"
      ]
     },
     "execution_count": 97,
     "metadata": {},
     "output_type": "execute_result"
    }
   ],
   "source": [
    "# Imputation using Model for 'age_range' features :\n",
    "\n",
    "logisticRegression_rented = LogisticRegression()\n",
    "logisticRegression_rented.fit(X_train_impute_rented, y_train_rented)  # LR fitted with X, y "
   ]
  },
  {
   "cell_type": "code",
   "execution_count": 98,
   "metadata": {},
   "outputs": [],
   "source": [
    "# TO PREDICT ON : Where 'age_range' feature is null :\n",
    "# X_test_impute_rented contains\n",
    "\n",
    "X_test_impute_rented = train_df.ix[train_df['rented'].isnull()] # all the points containing 'marital_status' Nulls\n",
    "\n",
    "\n",
    "X_test_redemption_status = X_test_impute_rented['redemption_status']\n",
    "del X_test_impute_rented['redemption_status']\n",
    "\n",
    "X_test_family_size = X_test_impute_rented['family_size']\n",
    "del X_test_impute_rented['family_size']\n",
    "\n",
    "X_test_no_of_children = X_test_impute_rented['no_of_children']\n",
    "del X_test_impute_rented['no_of_children']\n",
    "\n",
    "X_test_income_bracket = X_test_impute_rented['income_bracket'] \n",
    "del X_test_impute_rented['income_bracket']\n",
    "\n",
    "\n",
    "y_test_rented = X_test_impute_rented['rented']  # Contains all Nulls; this step not important though at all as this 'y' will have new notNull values \n",
    "del X_test_impute_rented['rented']"
   ]
  },
  {
   "cell_type": "code",
   "execution_count": 99,
   "metadata": {},
   "outputs": [
    {
     "data": {
      "text/plain": [
       "(34708, 23)"
      ]
     },
     "execution_count": 99,
     "metadata": {},
     "output_type": "execute_result"
    }
   ],
   "source": [
    "X_test_impute_rented.shape"
   ]
  },
  {
   "cell_type": "code",
   "execution_count": 100,
   "metadata": {},
   "outputs": [
    {
     "data": {
      "text/plain": [
       "(43661, 23)"
      ]
     },
     "execution_count": 100,
     "metadata": {},
     "output_type": "execute_result"
    }
   ],
   "source": [
    "X_train_impute_rented.shape"
   ]
  },
  {
   "cell_type": "code",
   "execution_count": 101,
   "metadata": {},
   "outputs": [],
   "source": [
    "predicted_rented = logisticRegression_rented.predict(X_test_impute_rented)\n",
    "X_test_impute_rented['rented'] = predicted_rented"
   ]
  },
  {
   "cell_type": "code",
   "execution_count": 102,
   "metadata": {},
   "outputs": [],
   "source": [
    "# Combining X_train and X_test sets after 'age_range' feature imputation :\n",
    "# Also including the removed features in the above imputation procedure :\n",
    "\n",
    "\n",
    "# Completing the X_train set :\n",
    "\n",
    "X_train_impute_rented['rented'] = y_train_rented\n",
    "\n",
    "X_train_impute_rented['family_size'] = X_train_family_size\n",
    "X_train_impute_rented['no_of_children'] = X_train_no_of_children\n",
    "X_train_impute_rented['income_bracket'] = X_train_income_bracket\n",
    "X_train_impute_rented['redemption_status'] = X_train_redemption_status\n",
    "\n",
    "\n",
    "# Completing the X_test set :\n",
    "\n",
    "X_test_impute_rented['family_size'] = X_test_family_size\n",
    "X_test_impute_rented['no_of_children'] = X_test_no_of_children\n",
    "X_test_impute_rented['income_bracket'] = X_test_income_bracket\n",
    "X_test_impute_rented['redemption_status'] = X_test_redemption_status"
   ]
  },
  {
   "cell_type": "code",
   "execution_count": 103,
   "metadata": {},
   "outputs": [
    {
     "name": "stdout",
     "output_type": "stream",
     "text": [
      "X_train shape : (43661, 28)\n",
      "X_test shape : (34708, 28)\n"
     ]
    }
   ],
   "source": [
    "print(\"X_train shape :\" , X_train_impute_rented.shape)\n",
    "print(\"X_test shape :\" , X_test_impute_rented.shape)"
   ]
  },
  {
   "cell_type": "code",
   "execution_count": 104,
   "metadata": {},
   "outputs": [
    {
     "name": "stdout",
     "output_type": "stream",
     "text": [
      "Train_df shape : (78369, 28)\n"
     ]
    }
   ],
   "source": [
    "# Combining the X_train & X_test :\n",
    "\n",
    "train_df = X_train_impute_rented.append(X_test_impute_rented)\n",
    "print('Train_df shape :', train_df.shape)\n",
    "\n",
    "# **** 'rented' feature IMPUTED ****"
   ]
  },
  {
   "cell_type": "markdown",
   "metadata": {},
   "source": [
    "> <h2>Imputing feature <font color='red'> 'family_size' </font> for the train set :</h2>"
   ]
  },
  {
   "cell_type": "code",
   "execution_count": 105,
   "metadata": {},
   "outputs": [],
   "source": [
    "# Separate dataframe containing each features null and feature 'family_size' removed from the above created dataset :\n",
    "\n",
    "X_train_impute_family_size = train_df.ix[train_df['family_size'].notnull()] # where family_size is notNull\n",
    "\n",
    "\n",
    "X_train_redemption_status = X_train_impute_family_size['redemption_status']\n",
    "del X_train_impute_family_size['redemption_status']\n",
    "\n",
    "\n",
    "# The following features are not considered for as a training set feature for 'age_range' imputation becoz they themselves contain Nulls \n",
    "X_train_no_of_children = X_train_impute_family_size['no_of_children']\n",
    "del X_train_impute_family_size['no_of_children']\n",
    "\n",
    "X_train_income_bracket = X_train_impute_family_size['income_bracket'] \n",
    "del X_train_impute_family_size['income_bracket']\n",
    "\n",
    "\n",
    "y_train_family_size = X_train_impute_family_size['family_size']  # y variable i.e. family_size(with all notNull values)\n",
    "del X_train_impute_family_size['family_size']  # removing the y variable from the learning_set "
   ]
  },
  {
   "cell_type": "code",
   "execution_count": 106,
   "metadata": {},
   "outputs": [
    {
     "data": {
      "text/plain": [
       "(43661, 24)"
      ]
     },
     "execution_count": 106,
     "metadata": {},
     "output_type": "execute_result"
    }
   ],
   "source": [
    "# X_train_impute_age_range shape :\n",
    "\n",
    "X_train_impute_family_size.shape"
   ]
  },
  {
   "cell_type": "code",
   "execution_count": 107,
   "metadata": {},
   "outputs": [
    {
     "data": {
      "text/plain": [
       "LogisticRegression(C=1.0, class_weight=None, dual=False, fit_intercept=True,\n",
       "                   intercept_scaling=1, l1_ratio=None, max_iter=100,\n",
       "                   multi_class='warn', n_jobs=None, penalty='l2',\n",
       "                   random_state=None, solver='warn', tol=0.0001, verbose=0,\n",
       "                   warm_start=False)"
      ]
     },
     "execution_count": 107,
     "metadata": {},
     "output_type": "execute_result"
    }
   ],
   "source": [
    "# Imputation using Model for 'family_size' features :\n",
    "\n",
    "logisticRegression_family_size = LogisticRegression()\n",
    "logisticRegression_family_size.fit(X_train_impute_family_size, y_train_family_size)  # LR fitted with X, y "
   ]
  },
  {
   "cell_type": "code",
   "execution_count": 108,
   "metadata": {},
   "outputs": [],
   "source": [
    "# TO PREDICT ON : Where 'age_range' feature is null :\n",
    "# X_test_impute_family_size contains\n",
    "\n",
    "X_test_impute_family_size = train_df.ix[train_df['family_size'].isnull()] # all the points containing 'marial_status' Nulls\n",
    "\n",
    "\n",
    "X_test_redemption_status = X_test_impute_family_size['redemption_status']\n",
    "del X_test_impute_family_size['redemption_status']\n",
    "\n",
    "\n",
    "X_test_no_of_children = X_test_impute_family_size['no_of_children']\n",
    "del X_test_impute_family_size['no_of_children']\n",
    "\n",
    "X_test_income_bracket = X_test_impute_family_size['income_bracket'] \n",
    "del X_test_impute_family_size['income_bracket']\n",
    "\n",
    "\n",
    "y_test_family_size = X_test_impute_family_size['family_size']  # Contains all Nulls; this step not important though at all as this 'y' will have new notNull values \n",
    "del X_test_impute_family_size['family_size']"
   ]
  },
  {
   "cell_type": "code",
   "execution_count": 109,
   "metadata": {},
   "outputs": [
    {
     "data": {
      "text/plain": [
       "(34708, 24)"
      ]
     },
     "execution_count": 109,
     "metadata": {},
     "output_type": "execute_result"
    }
   ],
   "source": [
    "X_test_impute_family_size.shape"
   ]
  },
  {
   "cell_type": "code",
   "execution_count": 110,
   "metadata": {},
   "outputs": [
    {
     "data": {
      "text/plain": [
       "(43661, 24)"
      ]
     },
     "execution_count": 110,
     "metadata": {},
     "output_type": "execute_result"
    }
   ],
   "source": [
    "X_train_impute_family_size.shape"
   ]
  },
  {
   "cell_type": "code",
   "execution_count": 111,
   "metadata": {},
   "outputs": [],
   "source": [
    "predicted_family_size = logisticRegression_family_size.predict(X_test_impute_family_size)\n",
    "X_test_impute_family_size['family_size'] = predicted_family_size"
   ]
  },
  {
   "cell_type": "code",
   "execution_count": 112,
   "metadata": {},
   "outputs": [],
   "source": [
    "# Combining X_train and X_test sets after 'family_size' feature imputation :\n",
    "# Also including the removed features in the above imputation procedure :\n",
    "\n",
    "\n",
    "# Completing the X_train set :\n",
    "\n",
    "X_train_impute_family_size['family_size'] = y_train_family_size\n",
    "\n",
    "X_train_impute_family_size['no_of_children'] = X_train_no_of_children\n",
    "X_train_impute_family_size['income_bracket'] = X_train_income_bracket\n",
    "X_train_impute_family_size['redemption_status'] = X_train_redemption_status\n",
    "\n",
    "# Completing the X_test set :\n",
    "\n",
    "X_test_impute_family_size['no_of_children'] = X_test_no_of_children\n",
    "X_test_impute_family_size['income_bracket'] = X_test_income_bracket\n",
    "X_test_impute_family_size['redemption_status'] = X_test_redemption_status"
   ]
  },
  {
   "cell_type": "code",
   "execution_count": 113,
   "metadata": {},
   "outputs": [
    {
     "name": "stdout",
     "output_type": "stream",
     "text": [
      "X_train shape : (43661, 28)\n",
      "X_test shape : (34708, 28)\n"
     ]
    }
   ],
   "source": [
    "print(\"X_train shape :\" , X_train_impute_family_size.shape)\n",
    "print(\"X_test shape :\" , X_test_impute_family_size.shape)"
   ]
  },
  {
   "cell_type": "code",
   "execution_count": 114,
   "metadata": {},
   "outputs": [
    {
     "name": "stdout",
     "output_type": "stream",
     "text": [
      "Train_df shape : (78369, 28)\n"
     ]
    }
   ],
   "source": [
    "# Combining the X_train & X_test :\n",
    "\n",
    "train_df = X_train_impute_family_size.append(X_test_impute_family_size)\n",
    "print('Train_df shape :', train_df.shape)\n",
    "\n",
    "# **** 'family_size' feature IMPUTED ****"
   ]
  },
  {
   "cell_type": "markdown",
   "metadata": {},
   "source": [
    "> <h2>Imputing feature <font color='red'> 'no_of_children' </font> for the train set :</h2>"
   ]
  },
  {
   "cell_type": "code",
   "execution_count": 115,
   "metadata": {},
   "outputs": [
    {
     "data": {
      "text/plain": [
       "(78369, 32)"
      ]
     },
     "execution_count": 115,
     "metadata": {},
     "output_type": "execute_result"
    }
   ],
   "source": [
    "# One hot encoding 'family_size' feature as it has been imputed successfully  :\n",
    "\n",
    "train_df = pd.concat([train_df, pd.get_dummies(train_df['family_size'])], axis=1)\n",
    "del train_df['family_size'] # has been one hot encoded, hence not required as a single feature\n",
    "train_df.shape"
   ]
  },
  {
   "cell_type": "code",
   "execution_count": 116,
   "metadata": {},
   "outputs": [],
   "source": [
    "# renaming family_size columns :\n",
    "\n",
    "train_df.rename(columns={'1':'family_size 1',\n",
    "                         '2':'family_size 2',\n",
    "                         '3':'family_size 3',\n",
    "                         '4':'family_size 4',\n",
    "                         '5+':'family_size 5+'}, inplace=True)"
   ]
  },
  {
   "cell_type": "code",
   "execution_count": 117,
   "metadata": {},
   "outputs": [],
   "source": [
    "# Separate dataframe containing each features null and feature 'no_of_children' removed from the above created dataset :\n",
    "\n",
    "X_train_impute_no_of_children = train_df.ix[train_df['no_of_children'].notnull()] # where no_of_children is notNull\n",
    "\n",
    "\n",
    "X_train_redemption_status = X_train_impute_no_of_children['redemption_status'] \n",
    "del X_train_impute_no_of_children['redemption_status']\n",
    "\n",
    "# The following features are not considered for as a training set feature for 'no_of_children' imputation becoz they themselves contain Nulls \n",
    "\n",
    "X_train_income_bracket = X_train_impute_no_of_children['income_bracket'] \n",
    "del X_train_impute_no_of_children['income_bracket']\n",
    "\n",
    "\n",
    "y_train_no_of_children = X_train_impute_no_of_children['no_of_children']  # y variable i.e. no_of_children(with all notNull values)\n",
    "del X_train_impute_no_of_children['no_of_children']  # removing the y variable from the learning_set "
   ]
  },
  {
   "cell_type": "code",
   "execution_count": 118,
   "metadata": {},
   "outputs": [
    {
     "data": {
      "text/plain": [
       "(14056, 29)"
      ]
     },
     "execution_count": 118,
     "metadata": {},
     "output_type": "execute_result"
    }
   ],
   "source": [
    "# X_train_impute_age_range shape :\n",
    "\n",
    "X_train_impute_no_of_children.shape"
   ]
  },
  {
   "cell_type": "code",
   "execution_count": 119,
   "metadata": {},
   "outputs": [
    {
     "data": {
      "text/plain": [
       "LogisticRegression(C=1.0, class_weight=None, dual=False, fit_intercept=True,\n",
       "                   intercept_scaling=1, l1_ratio=None, max_iter=100,\n",
       "                   multi_class='warn', n_jobs=None, penalty='l2',\n",
       "                   random_state=None, solver='warn', tol=0.0001, verbose=0,\n",
       "                   warm_start=False)"
      ]
     },
     "execution_count": 119,
     "metadata": {},
     "output_type": "execute_result"
    }
   ],
   "source": [
    "# Imputation using Model for 'family_size' features :\n",
    "\n",
    "logisticRegression_no_of_children = LogisticRegression()\n",
    "logisticRegression_no_of_children.fit(X_train_impute_no_of_children, y_train_no_of_children)  # LR fitted with X, y "
   ]
  },
  {
   "cell_type": "code",
   "execution_count": 120,
   "metadata": {},
   "outputs": [],
   "source": [
    "# TO PREDICT ON : Where 'age_range' feature is null :\n",
    "# X_test_impute_no_of_children contains\n",
    "\n",
    "X_test_impute_no_of_children = train_df.ix[train_df['no_of_children'].isnull()] # all the points containing 'marial_status' Nulls\n",
    "\n",
    "\n",
    "X_test_redemption_status = X_test_impute_no_of_children['redemption_status'] \n",
    "del X_test_impute_no_of_children['redemption_status']\n",
    "\n",
    "\n",
    "X_test_income_bracket = X_test_impute_no_of_children['income_bracket'] \n",
    "del X_test_impute_no_of_children['income_bracket']\n",
    "\n",
    "\n",
    "y_test_no_of_children = X_test_impute_no_of_children['no_of_children']  # Contains all Nulls; this step not important though at all as this 'y' will have new notNull values \n",
    "del X_test_impute_no_of_children['no_of_children']"
   ]
  },
  {
   "cell_type": "code",
   "execution_count": 121,
   "metadata": {},
   "outputs": [
    {
     "data": {
      "text/plain": [
       "(64313, 29)"
      ]
     },
     "execution_count": 121,
     "metadata": {},
     "output_type": "execute_result"
    }
   ],
   "source": [
    "X_test_impute_no_of_children.shape"
   ]
  },
  {
   "cell_type": "code",
   "execution_count": 122,
   "metadata": {},
   "outputs": [
    {
     "data": {
      "text/plain": [
       "(14056, 29)"
      ]
     },
     "execution_count": 122,
     "metadata": {},
     "output_type": "execute_result"
    }
   ],
   "source": [
    "X_train_impute_no_of_children.shape"
   ]
  },
  {
   "cell_type": "code",
   "execution_count": 123,
   "metadata": {},
   "outputs": [],
   "source": [
    "predicted_no_of_children = logisticRegression_no_of_children.predict(X_test_impute_no_of_children)\n",
    "X_test_impute_no_of_children['no_of_children'] = predicted_no_of_children"
   ]
  },
  {
   "cell_type": "code",
   "execution_count": 124,
   "metadata": {},
   "outputs": [],
   "source": [
    "# Combining X_train and X_test sets after 'family_size' feature imputation :\n",
    "# Also including the removed features in the above imputation procedure :\n",
    "\n",
    "\n",
    "# Completing the X_train set :\n",
    "\n",
    "X_train_impute_no_of_children['no_of_children'] = y_train_no_of_children\n",
    "\n",
    "X_train_impute_no_of_children['redemption_status'] = X_train_redemption_status\n",
    "X_train_impute_no_of_children['income_bracket'] = X_train_income_bracket\n",
    "\n",
    "\n",
    "# Completing the X_test set :\n",
    "\n",
    "X_test_impute_no_of_children['income_bracket'] = X_test_income_bracket\n",
    "X_test_impute_no_of_children['redemption_status'] = X_test_redemption_status"
   ]
  },
  {
   "cell_type": "code",
   "execution_count": 125,
   "metadata": {},
   "outputs": [
    {
     "name": "stdout",
     "output_type": "stream",
     "text": [
      "X_train shape : (14056, 32)\n",
      "X_test shape : (64313, 32)\n"
     ]
    }
   ],
   "source": [
    "print(\"X_train shape :\" , X_train_impute_no_of_children.shape)\n",
    "print(\"X_test shape :\" , X_test_impute_no_of_children.shape)"
   ]
  },
  {
   "cell_type": "code",
   "execution_count": 126,
   "metadata": {},
   "outputs": [
    {
     "name": "stdout",
     "output_type": "stream",
     "text": [
      "Train_df shape : (78369, 32)\n"
     ]
    }
   ],
   "source": [
    "# Combining the X_train & X_test :\n",
    "\n",
    "train_df = X_train_impute_no_of_children.append(X_test_impute_no_of_children)\n",
    "print('Train_df shape :', train_df.shape)\n",
    "\n",
    "# **** 'no_of_children' feature IMPUTED ****"
   ]
  },
  {
   "cell_type": "markdown",
   "metadata": {},
   "source": [
    "> <h2>Imputing feature <font color='red'> 'income_bracket' </font> for the train set :</h2>"
   ]
  },
  {
   "cell_type": "code",
   "execution_count": 127,
   "metadata": {},
   "outputs": [
    {
     "data": {
      "text/plain": [
       "(78369, 34)"
      ]
     },
     "execution_count": 127,
     "metadata": {},
     "output_type": "execute_result"
    }
   ],
   "source": [
    "# One hot encoding 'family_size' feature as it has been imputed successfully  :\n",
    "\n",
    "train_df = pd.concat([train_df, pd.get_dummies(train_df['no_of_children'])], axis=1)\n",
    "del train_df['no_of_children'] # has been one hot encoded, hence not required as a single feature\n",
    "train_df.shape"
   ]
  },
  {
   "cell_type": "code",
   "execution_count": 128,
   "metadata": {},
   "outputs": [],
   "source": [
    "# renaming family_size columns :\n",
    "\n",
    "train_df.rename(columns={'1':'no_of_children 1',\n",
    "                         '2':'no_of_children 2',\n",
    "                         '3+':'no_of_children 3'},inplace=True)"
   ]
  },
  {
   "cell_type": "code",
   "execution_count": 129,
   "metadata": {},
   "outputs": [],
   "source": [
    "# Separate dataframe containing each features null and feature 'income_bracket' removed from the above created dataset :\n",
    "\n",
    "X_train_impute_income_bracket = train_df.ix[train_df['income_bracket'].notnull()] # where 'income_bracket' is notNull\n",
    "\n",
    "X_train_redemption_status= X_train_impute_income_bracket['redemption_status']\n",
    "del X_train_impute_income_bracket['redemption_status']\n",
    "\n",
    "y_train_income_bracket = X_train_impute_income_bracket['income_bracket']  # y variable i.e. 'income_bracket'(with all notNull values)\n",
    "del X_train_impute_income_bracket['income_bracket']  # removing the y variable from the learning_set "
   ]
  },
  {
   "cell_type": "code",
   "execution_count": 130,
   "metadata": {},
   "outputs": [
    {
     "data": {
      "text/plain": [
       "(43661, 32)"
      ]
     },
     "execution_count": 130,
     "metadata": {},
     "output_type": "execute_result"
    }
   ],
   "source": [
    "# X_train_impute_age_range shape :\n",
    "\n",
    "X_train_impute_income_bracket.shape"
   ]
  },
  {
   "cell_type": "code",
   "execution_count": 131,
   "metadata": {},
   "outputs": [
    {
     "data": {
      "text/plain": [
       "LogisticRegression(C=1.0, class_weight=None, dual=False, fit_intercept=True,\n",
       "                   intercept_scaling=1, l1_ratio=None, max_iter=100,\n",
       "                   multi_class='warn', n_jobs=None, penalty='l2',\n",
       "                   random_state=None, solver='warn', tol=0.0001, verbose=0,\n",
       "                   warm_start=False)"
      ]
     },
     "execution_count": 131,
     "metadata": {},
     "output_type": "execute_result"
    }
   ],
   "source": [
    "# Imputation using Model for 'family_size' features :\n",
    "\n",
    "logisticRegression_income_bracket = LogisticRegression()\n",
    "logisticRegression_income_bracket.fit(X_train_impute_income_bracket, y_train_income_bracket)  # LR fitted with X, y "
   ]
  },
  {
   "cell_type": "code",
   "execution_count": 132,
   "metadata": {},
   "outputs": [],
   "source": [
    "# TO PREDICT ON : Where 'age_range' feature is null :\n",
    "# X_test_impute_income_bracket contains\n",
    "\n",
    "X_test_impute_income_bracket = train_df.ix[train_df['income_bracket'].isnull()] # all the points containing 'income_bracket' Nulls\n",
    "\n",
    "X_test_redemption_status = X_test_impute_income_bracket['redemption_status']\n",
    "del X_test_impute_income_bracket['redemption_status']\n",
    "\n",
    "\n",
    "y_test_income_bracket = X_test_impute_income_bracket['income_bracket']  # Contains all Nulls; this step not important though at all as this 'y' will have new notNull values \n",
    "del X_test_impute_income_bracket['income_bracket']"
   ]
  },
  {
   "cell_type": "code",
   "execution_count": 133,
   "metadata": {},
   "outputs": [
    {
     "data": {
      "text/plain": [
       "(34708, 32)"
      ]
     },
     "execution_count": 133,
     "metadata": {},
     "output_type": "execute_result"
    }
   ],
   "source": [
    "X_test_impute_income_bracket.shape"
   ]
  },
  {
   "cell_type": "code",
   "execution_count": 134,
   "metadata": {},
   "outputs": [
    {
     "data": {
      "text/plain": [
       "(43661, 32)"
      ]
     },
     "execution_count": 134,
     "metadata": {},
     "output_type": "execute_result"
    }
   ],
   "source": [
    "X_train_impute_income_bracket.shape"
   ]
  },
  {
   "cell_type": "code",
   "execution_count": 135,
   "metadata": {},
   "outputs": [],
   "source": [
    "predicted_income_bracket = logisticRegression_income_bracket.predict(X_test_impute_income_bracket)\n",
    "X_test_impute_income_bracket['income_bracket'] = predicted_income_bracket"
   ]
  },
  {
   "cell_type": "code",
   "execution_count": 136,
   "metadata": {},
   "outputs": [],
   "source": [
    "# Combining X_train and X_test sets after 'income_bracket' feature imputation :\n",
    "# Also including the removed features in the above imputation procedure :\n",
    "\n",
    "# Completing the X_train set :\n",
    "\n",
    "X_train_impute_income_bracket['income_bracket'] = y_train_income_bracket\n",
    "X_train_impute_income_bracket['redemption_status'] = X_train_redemption_status\n",
    "\n",
    "# Completing the X_test set :\n",
    "\n",
    "X_test_impute_income_bracket['redemption_status'] = X_test_redemption_status "
   ]
  },
  {
   "cell_type": "code",
   "execution_count": 137,
   "metadata": {},
   "outputs": [
    {
     "name": "stdout",
     "output_type": "stream",
     "text": [
      "X_train shape : (43661, 34)\n",
      "X_test shape : (34708, 34)\n"
     ]
    }
   ],
   "source": [
    "print(\"X_train shape :\" , X_train_impute_income_bracket.shape)\n",
    "print(\"X_test shape :\" , X_test_impute_income_bracket.shape)"
   ]
  },
  {
   "cell_type": "code",
   "execution_count": 138,
   "metadata": {},
   "outputs": [
    {
     "name": "stdout",
     "output_type": "stream",
     "text": [
      "Train_df shape : (78369, 34)\n"
     ]
    }
   ],
   "source": [
    "# Combining the X_train & X_test :\n",
    "\n",
    "train_df = X_train_impute_income_bracket.append(X_test_impute_income_bracket)\n",
    "print('Train_df shape :', train_df.shape)\n",
    "\n",
    "# **** 'income_bracket' feature IMPUTED ****"
   ]
  },
  {
   "cell_type": "code",
   "execution_count": 139,
   "metadata": {},
   "outputs": [
    {
     "data": {
      "text/plain": [
       "18-25                   0\n",
       "26-35                   0\n",
       "36-45                   0\n",
       "46-55                   0\n",
       "56-70                   0\n",
       "70+                     0\n",
       "Gap_days_campaign       0\n",
       "X                       0\n",
       "Y                       0\n",
       "category                0\n",
       "coupon_discount_max     0\n",
       "coupon_discount_mean    0\n",
       "coupon_discount_min     0\n",
       "coupon_discount_sum     0\n",
       "family_size 1           0\n",
       "family_size 2           0\n",
       "family_size 3           0\n",
       "family_size 4           0\n",
       "family_size 5+          0\n",
       "marital_status          0\n",
       "other_discount_max      0\n",
       "other_discount_mean     0\n",
       "other_discount_min      0\n",
       "other_discount_sum      0\n",
       "rented                  0\n",
       "selling_price_max       0\n",
       "selling_price_mean      0\n",
       "selling_price_min       0\n",
       "selling_price_sum       0\n",
       "no_of_children 1        0\n",
       "no_of_children 2        0\n",
       "no_of_children 3        0\n",
       "income_bracket          0\n",
       "redemption_status       0\n",
       "dtype: int64"
      ]
     },
     "execution_count": 139,
     "metadata": {},
     "output_type": "execute_result"
    }
   ],
   "source": [
    "# All the nulls have been imputed successfully and the models used for the imputation shall be utilized in the test set as well!!\n",
    "\n",
    "train_df.isnull().sum()"
   ]
  },
  {
   "cell_type": "markdown",
   "metadata": {},
   "source": [
    "> <h3> Test set features to impute :</h3>\n",
    "\n",
    "+ age_range               \n",
    "+ marital_status          \n",
    "+ rented                  \n",
    "+ family_size             \n",
    "+ no_of_children          \n",
    "+ income_bracket          "
   ]
  },
  {
   "cell_type": "code",
   "execution_count": 234,
   "metadata": {},
   "outputs": [
    {
     "name": "stdout",
     "output_type": "stream",
     "text": [
      "+-----------------+-------------------+-----------+----------------+--------+-------------+----------------+----------------+\n",
      "| FeatureToImpute | redemption_status | age_range | marital_status | rented | family_size | no_of_children | income_Bracket |\n",
      "+-----------------+-------------------+-----------+----------------+--------+-------------+----------------+----------------+\n",
      "|    age_range    |        N/A        |    N/A    |       X        |   X    |      X      |       X        |       X        |\n",
      "|  marital_status |        N/A        |     ✓     |      N/A       |   X    |      X      |       X        |       X        |\n",
      "|      rented     |        N/A        |     ✓     |       ✓        |  N/A   |      X      |       X        |       X        |\n",
      "|   family_size   |        N/A        |     ✓     |       ✓        |   ✓    |     N/A     |       X        |       X        |\n",
      "|  no_of_children |        N/A        |     ✓     |       ✓        |   ✓    |      ✓      |      N/A       |       X        |\n",
      "|  income_bracket |        N/A        |     ✓     |       ✓        |   ✓    |      ✓      |       ✓        |      N/A       |\n",
      "+-----------------+-------------------+-----------+----------------+--------+-------------+----------------+----------------+\n"
     ]
    }
   ],
   "source": [
    "# Utilization of the features in incremental way to achieve imputation in the 'after' features : \n",
    "# The models will be used exactly in the same step as they were used for imputation in the train set :\n",
    "\n",
    "table = PrettyTable()\n",
    "table.field_names = ['FeatureToImpute', 'redemption_status','age_range', 'marital_status', 'rented', 'family_size', 'no_of_children', 'income_Bracket']\n",
    "\n",
    "table.align[\"FeatureToImpute \"] = \"L\"\n",
    "table.align[\"redemption_status\"] = \"L\"\n",
    "table.align[\"age_range\"] = \"R\"\n",
    "table.align[\"marital_status \"] = \"R\"\n",
    "table.align[\"rented\"] = \"R\"\n",
    "table.align[\"family_size\"] = \"R\"\n",
    "table.align[\"no_of_children\"] = \"R\"\n",
    "table.align[\"income_bracket\"] = \"L\"\n",
    "\n",
    "\n",
    "table.add_row(['age_range','N/A', 'N/A', 'X' , 'X' , 'X' , 'X' , 'X'  ])\n",
    "\n",
    "table.add_row(['marital_status','N/A', '✓', 'N/A', 'X' , 'X' , 'X' , 'X' ])\n",
    "\n",
    "table.add_row(['rented','N/A', '✓', '✓', 'N/A', 'X' , 'X' , 'X' ])\n",
    "\n",
    "table.add_row(['family_size','N/A', '✓', '✓', '✓', 'N/A', 'X' , 'X' ])\n",
    "\n",
    "table.add_row(['no_of_children', 'N/A', '✓', '✓', '✓', '✓', 'N/A', 'X' ])\n",
    "\n",
    "table.add_row(['income_bracket', 'N/A', '✓', '✓', '✓', '✓', '✓', 'N/A'])\n",
    "\n",
    "print(table)"
   ]
  },
  {
   "cell_type": "markdown",
   "metadata": {},
   "source": [
    "> <h2>Imputing feature <font color='blue'> 'age_range' </font> for the test set :</h2>"
   ]
  },
  {
   "cell_type": "code",
   "execution_count": 141,
   "metadata": {},
   "outputs": [
    {
     "data": {
      "text/plain": [
       "(50226, 22)"
      ]
     },
     "execution_count": 141,
     "metadata": {},
     "output_type": "execute_result"
    }
   ],
   "source": [
    "# One hot encoding 'campaign_type' feature :\n",
    "\n",
    "test_df = pd.concat([test_df, pd.get_dummies(test_df['campaign_type'])], axis=1)\n",
    "del test_df['campaign_type'] # has been one hot encoded, hence not required as a single feature\n",
    "test_df.shape"
   ]
  },
  {
   "cell_type": "code",
   "execution_count": 142,
   "metadata": {},
   "outputs": [],
   "source": [
    "# Separate dataframe containing each features null and feature 'age_range' removed from the above created dataset :\n",
    "\n",
    "X_train_impute_age_range = test_df.ix[test_df['age_range'].notnull()] # where age_range is notNull\n",
    "\n",
    "# The following features are not considered for as a training set feature for 'age_range' imputation becoz they themselves contain Nulls \n",
    "\n",
    "X_train_marital_status = X_train_impute_age_range['marital_status']\n",
    "del X_train_impute_age_range['marital_status']\n",
    "\n",
    "X_train_rented = X_train_impute_age_range['rented']\n",
    "del X_train_impute_age_range['rented']\n",
    "\n",
    "X_train_family_size = X_train_impute_age_range['family_size']\n",
    "del X_train_impute_age_range['family_size']\n",
    "\n",
    "X_train_no_of_children = X_train_impute_age_range['no_of_children']\n",
    "del X_train_impute_age_range['no_of_children']\n",
    "\n",
    "X_train_income_bracket = X_train_impute_age_range['income_bracket'] \n",
    "del X_train_impute_age_range['income_bracket']\n",
    "\n",
    "\n",
    "y_train_age_range = X_train_impute_age_range['age_range']  # y variable i.e. age_range(with all notNull values)\n",
    "del X_train_impute_age_range['age_range']  # removing the y variable from the learning_set "
   ]
  },
  {
   "cell_type": "code",
   "execution_count": 143,
   "metadata": {},
   "outputs": [],
   "source": [
    "# TO PREDICT ON : Where 'age_range' feature is null :\n",
    "# X_test_impute_age_range contains\n",
    "\n",
    "X_test_impute_age_range = test_df.ix[test_df['age_range'].isnull()] # all the points containing 'age_range' Nulls\n",
    "\n",
    "\n",
    "\n",
    "\n",
    "X_test_marital_status = X_test_impute_age_range['marital_status']\n",
    "del X_test_impute_age_range['marital_status']\n",
    "\n",
    "X_test_rented = X_test_impute_age_range['rented']\n",
    "del X_test_impute_age_range['rented']\n",
    "\n",
    "X_test_family_size = X_test_impute_age_range['family_size']\n",
    "del X_test_impute_age_range['family_size']\n",
    "\n",
    "X_test_no_of_children = X_test_impute_age_range['no_of_children']\n",
    "del X_test_impute_age_range['no_of_children']\n",
    "\n",
    "X_test_income_bracket = X_test_impute_age_range['income_bracket'] \n",
    "del X_test_impute_age_range['income_bracket']\n",
    "\n",
    "# Contains all Nulls; this step not important though at all as this 'y' will have new not null values \n",
    "y_test_age_range = X_test_impute_age_range['age_range']  \n",
    "del X_test_impute_age_range['age_range']"
   ]
  },
  {
   "cell_type": "code",
   "execution_count": 144,
   "metadata": {},
   "outputs": [],
   "source": [
    "# direct prediction from the already trained model for the feature 'age_range':\n",
    "\n",
    "predicted_age_range = logisticRegression_age_range.predict(X_test_impute_age_range)\n",
    "X_test_impute_age_range['age_range'] = predicted_age_range # imputation via predicted values for the nulls"
   ]
  },
  {
   "cell_type": "code",
   "execution_count": 145,
   "metadata": {},
   "outputs": [],
   "source": [
    "# Combining X_train and X_test sets after 'age_range' feature imputation :\n",
    "# Also including the removed features in the above imputation procedure :\n",
    "\n",
    "\n",
    "# Completing the X_train set :\n",
    "X_train_impute_age_range['age_range'] = y_train_age_range\n",
    "X_train_impute_age_range['marital_status'] = X_train_marital_status\n",
    "X_train_impute_age_range['rented'] = X_train_rented\n",
    "X_train_impute_age_range['family_size'] = X_train_family_size\n",
    "X_train_impute_age_range['no_of_children'] = X_train_no_of_children\n",
    "X_train_impute_age_range['income_bracket'] = X_train_income_bracket\n",
    "\n",
    "\n",
    "# Completing the X_test set :\n",
    "# X_test_impute_age_range['age_range'] = predicted_age_range # imputation via predicted values for the nulls # already imputed in above cell\n",
    "X_test_impute_age_range['marital_status'] = X_test_marital_status \n",
    "X_test_impute_age_range['rented'] = X_test_rented\n",
    "X_test_impute_age_range['family_size'] = X_test_family_size\n",
    "X_test_impute_age_range['no_of_children'] = X_test_no_of_children\n",
    "X_test_impute_age_range['income_bracket'] = X_test_income_bracket"
   ]
  },
  {
   "cell_type": "code",
   "execution_count": 146,
   "metadata": {},
   "outputs": [
    {
     "name": "stdout",
     "output_type": "stream",
     "text": [
      "X_train shape : (30939, 22)\n",
      "X_test shape : (19287, 22)\n"
     ]
    }
   ],
   "source": [
    "print(\"X_train shape :\" , X_train_impute_age_range.shape)\n",
    "print(\"X_test shape :\" , X_test_impute_age_range.shape)"
   ]
  },
  {
   "cell_type": "code",
   "execution_count": 147,
   "metadata": {},
   "outputs": [
    {
     "name": "stdout",
     "output_type": "stream",
     "text": [
      "test_df shape : (50226, 22)\n"
     ]
    }
   ],
   "source": [
    "# Combining the X_train & X_test :\n",
    "\n",
    "test_df = X_train_impute_age_range.append(X_test_impute_age_range)\n",
    "print('test_df shape :', test_df.shape)\n",
    "\n",
    "# 'age_range' feature IMPUTED *******"
   ]
  },
  {
   "cell_type": "markdown",
   "metadata": {},
   "source": [
    "> <h2>Imputing feature <font color='blue'> 'marital_status' </font> for the test set :</h2>"
   ]
  },
  {
   "cell_type": "code",
   "execution_count": 148,
   "metadata": {},
   "outputs": [
    {
     "data": {
      "text/plain": [
       "(50226, 27)"
      ]
     },
     "execution_count": 148,
     "metadata": {},
     "output_type": "execute_result"
    }
   ],
   "source": [
    "# One hot encoding 'campaign_type' feature :\n",
    "\n",
    "test_df = pd.concat([test_df, pd.get_dummies(test_df['age_range'])], axis=1)\n",
    "del test_df['age_range'] # has been one hot encoded, hence not required as a single feature\n",
    "test_df.shape"
   ]
  },
  {
   "cell_type": "code",
   "execution_count": 149,
   "metadata": {},
   "outputs": [],
   "source": [
    "# Separate dataframe containing each features null and feature 'age_range' removed from the above created dataset :\n",
    "\n",
    "X_train_impute_marital_status = test_df.ix[test_df['marital_status'].notnull()] # where age_range is notNull\n",
    "\n",
    "\n",
    "\n",
    "# The following features are not considered for as a training set feature for 'age_range' imputation becoz they themselves contain Nulls \n",
    "\n",
    "X_train_rented = X_train_impute_marital_status['rented']\n",
    "del X_train_impute_marital_status['rented']\n",
    "\n",
    "X_train_family_size = X_train_impute_marital_status['family_size']\n",
    "del X_train_impute_marital_status['family_size']\n",
    "\n",
    "X_train_no_of_children = X_train_impute_marital_status['no_of_children']\n",
    "del X_train_impute_marital_status['no_of_children']\n",
    "\n",
    "X_train_income_bracket = X_train_impute_marital_status['income_bracket'] \n",
    "del X_train_impute_marital_status['income_bracket']\n",
    "\n",
    "\n",
    "y_train_marital_status = X_train_impute_marital_status['marital_status']  # y variable i.e. age_range(with all notNull values)\n",
    "del X_train_impute_marital_status['marital_status']  # removing the y variable from the learning_set "
   ]
  },
  {
   "cell_type": "code",
   "execution_count": 150,
   "metadata": {},
   "outputs": [
    {
     "data": {
      "text/plain": [
       "(18082, 22)"
      ]
     },
     "execution_count": 150,
     "metadata": {},
     "output_type": "execute_result"
    }
   ],
   "source": [
    "# X_train_impute_age_range shape :\n",
    "\n",
    "X_train_impute_marital_status.shape"
   ]
  },
  {
   "cell_type": "code",
   "execution_count": 151,
   "metadata": {},
   "outputs": [],
   "source": [
    "# TO PREDICT ON : Where 'age_range' feature is null :\n",
    "# X_test_impute_marital_status contains\n",
    "\n",
    "X_test_impute_marital_status = test_df.ix[test_df['marital_status'].isnull()] # all the points containing 'marial_status' Nulls\n",
    "\n",
    "\n",
    "X_test_rented = X_test_impute_marital_status['rented']\n",
    "del X_test_impute_marital_status['rented']\n",
    "\n",
    "X_test_family_size = X_test_impute_marital_status['family_size']\n",
    "del X_test_impute_marital_status['family_size']\n",
    "\n",
    "X_test_no_of_children = X_test_impute_marital_status['no_of_children']\n",
    "del X_test_impute_marital_status['no_of_children']\n",
    "\n",
    "X_test_income_bracket = X_test_impute_marital_status['income_bracket'] \n",
    "del X_test_impute_marital_status['income_bracket']\n",
    "\n",
    "\n",
    "y_test_marital_status = X_test_impute_marital_status['marital_status']  # Contains all Nulls; this step not important though at all as this 'y' will have new notNull values \n",
    "del X_test_impute_marital_status['marital_status']"
   ]
  },
  {
   "cell_type": "code",
   "execution_count": 152,
   "metadata": {},
   "outputs": [
    {
     "data": {
      "text/plain": [
       "(32144, 22)"
      ]
     },
     "execution_count": 152,
     "metadata": {},
     "output_type": "execute_result"
    }
   ],
   "source": [
    "X_test_impute_marital_status.shape"
   ]
  },
  {
   "cell_type": "code",
   "execution_count": 153,
   "metadata": {},
   "outputs": [
    {
     "data": {
      "text/plain": [
       "(18082, 22)"
      ]
     },
     "execution_count": 153,
     "metadata": {},
     "output_type": "execute_result"
    }
   ],
   "source": [
    "X_train_impute_marital_status.shape"
   ]
  },
  {
   "cell_type": "code",
   "execution_count": 154,
   "metadata": {},
   "outputs": [],
   "source": [
    "predicted_marital_status = logisticRegression_marital_status.predict(X_test_impute_marital_status)\n",
    "X_test_impute_marital_status['marital_status'] = predicted_marital_status #imputed @ null positions for marital_status"
   ]
  },
  {
   "cell_type": "code",
   "execution_count": 155,
   "metadata": {},
   "outputs": [],
   "source": [
    "# Combining X_train and X_test sets after 'age_range' feature imputation :\n",
    "# Also including the removed features in the above imputation procedure :\n",
    "\n",
    "\n",
    "# Completing the X_train set :\n",
    "\n",
    "X_train_impute_marital_status['marital_status'] = y_train_marital_status\n",
    "\n",
    "X_train_impute_marital_status['rented'] = X_train_rented\n",
    "X_train_impute_marital_status['family_size'] = X_train_family_size\n",
    "X_train_impute_marital_status['no_of_children'] = X_train_no_of_children\n",
    "X_train_impute_marital_status['income_bracket'] = X_train_income_bracket\n",
    "\n",
    "\n",
    "# Completing the X_test set :\n",
    "\n",
    "X_test_impute_marital_status['rented'] = X_test_rented\n",
    "X_test_impute_marital_status['family_size'] = X_test_family_size\n",
    "X_test_impute_marital_status['no_of_children'] = X_test_no_of_children\n",
    "X_test_impute_marital_status['income_bracket'] = X_test_income_bracket\n"
   ]
  },
  {
   "cell_type": "code",
   "execution_count": 156,
   "metadata": {},
   "outputs": [
    {
     "name": "stdout",
     "output_type": "stream",
     "text": [
      "X_train shape : (18082, 27)\n",
      "X_test shape : (32144, 27)\n"
     ]
    }
   ],
   "source": [
    "print(\"X_train shape :\" , X_train_impute_marital_status.shape)\n",
    "print(\"X_test shape :\" , X_test_impute_marital_status.shape)"
   ]
  },
  {
   "cell_type": "code",
   "execution_count": 157,
   "metadata": {},
   "outputs": [
    {
     "name": "stdout",
     "output_type": "stream",
     "text": [
      "test_df shape : (50226, 27)\n"
     ]
    }
   ],
   "source": [
    "# Combining the X_train & X_test :\n",
    "\n",
    "test_df = X_train_impute_marital_status.append(X_test_impute_marital_status)\n",
    "print('test_df shape :', test_df.shape)\n",
    "\n",
    "# ****'marital_status' feature IMPUTED ****"
   ]
  },
  {
   "cell_type": "markdown",
   "metadata": {},
   "source": [
    "> <h2>Imputing feature <font color='blue'> 'rented' </font> for the test set :</h2>"
   ]
  },
  {
   "cell_type": "code",
   "execution_count": 158,
   "metadata": {},
   "outputs": [],
   "source": [
    "# Encoding the 'marital_status' feature as 1/0 as it has been imputed successfully above :\n",
    "\n",
    "test_df['marital_status'] = test_df['marital_status'].apply(lambda x: 1 if x=='Married' else 0)"
   ]
  },
  {
   "cell_type": "code",
   "execution_count": 159,
   "metadata": {},
   "outputs": [],
   "source": [
    "# Separate dataframe containing each features null and feature 'age_range' removed from the above created dataset :\n",
    "\n",
    "X_train_impute_rented = test_df.ix[test_df['rented'].notnull()] # where age_range is notNull\n",
    "\n",
    "# The following features are not considered for as a training set feature for 'age_range' imputation becoz they themselves contain Nulls \n",
    "\n",
    "\n",
    "X_train_family_size = X_train_impute_rented['family_size']\n",
    "del X_train_impute_rented['family_size']\n",
    "\n",
    "X_train_no_of_children = X_train_impute_rented['no_of_children']\n",
    "del X_train_impute_rented['no_of_children']\n",
    "\n",
    "X_train_income_bracket = X_train_impute_rented['income_bracket'] \n",
    "del X_train_impute_rented['income_bracket']\n",
    "\n",
    "\n",
    "y_train_rented = X_train_impute_rented['rented']  # y variable i.e. age_range(with all notNull values)\n",
    "del X_train_impute_rented['rented']  # removing the y variable from the learning_set "
   ]
  },
  {
   "cell_type": "code",
   "execution_count": 160,
   "metadata": {},
   "outputs": [
    {
     "data": {
      "text/plain": [
       "(30939, 23)"
      ]
     },
     "execution_count": 160,
     "metadata": {},
     "output_type": "execute_result"
    }
   ],
   "source": [
    "# X_train_impute_age_range shape :\n",
    "\n",
    "X_train_impute_rented.shape"
   ]
  },
  {
   "cell_type": "code",
   "execution_count": 161,
   "metadata": {},
   "outputs": [],
   "source": [
    "# TO PREDICT ON : Where 'age_range' feature is null :\n",
    "# X_test_impute_rented contains\n",
    "\n",
    "X_test_impute_rented = test_df.ix[test_df['rented'].isnull()] # all the points containing 'marital_status' Nulls\n",
    "\n",
    "\n",
    "X_test_family_size = X_test_impute_rented['family_size']\n",
    "del X_test_impute_rented['family_size']\n",
    "\n",
    "X_test_no_of_children = X_test_impute_rented['no_of_children']\n",
    "del X_test_impute_rented['no_of_children']\n",
    "\n",
    "X_test_income_bracket = X_test_impute_rented['income_bracket'] \n",
    "del X_test_impute_rented['income_bracket']\n",
    "\n",
    "\n",
    "y_test_rented = X_test_impute_rented['rented']  # Contains all Nulls; this step not important though at all as this 'y' will have new notNull values \n",
    "del X_test_impute_rented['rented']"
   ]
  },
  {
   "cell_type": "code",
   "execution_count": 162,
   "metadata": {},
   "outputs": [
    {
     "data": {
      "text/plain": [
       "(19287, 23)"
      ]
     },
     "execution_count": 162,
     "metadata": {},
     "output_type": "execute_result"
    }
   ],
   "source": [
    "X_test_impute_rented.shape"
   ]
  },
  {
   "cell_type": "code",
   "execution_count": 163,
   "metadata": {},
   "outputs": [
    {
     "data": {
      "text/plain": [
       "(30939, 23)"
      ]
     },
     "execution_count": 163,
     "metadata": {},
     "output_type": "execute_result"
    }
   ],
   "source": [
    "X_train_impute_rented.shape"
   ]
  },
  {
   "cell_type": "code",
   "execution_count": 164,
   "metadata": {},
   "outputs": [],
   "source": [
    "predicted_rented = logisticRegression_rented.predict(X_test_impute_rented)\n",
    "X_test_impute_rented['rented'] = predicted_rented"
   ]
  },
  {
   "cell_type": "code",
   "execution_count": 165,
   "metadata": {},
   "outputs": [],
   "source": [
    "# Combining X_train and X_test sets after 'age_range' feature imputation :\n",
    "# Also including the removed features in the above imputation procedure :\n",
    "\n",
    "\n",
    "# Completing the X_train set :\n",
    "\n",
    "X_train_impute_rented['rented'] = y_train_rented\n",
    "\n",
    "X_train_impute_rented['family_size'] = X_train_family_size\n",
    "X_train_impute_rented['no_of_children'] = X_train_no_of_children\n",
    "X_train_impute_rented['income_bracket'] = X_train_income_bracket\n",
    "\n",
    "\n",
    "# Completing the X_test set :\n",
    "\n",
    "X_test_impute_rented['family_size'] = X_test_family_size\n",
    "X_test_impute_rented['no_of_children'] = X_test_no_of_children\n",
    "X_test_impute_rented['income_bracket'] = X_test_income_bracket"
   ]
  },
  {
   "cell_type": "code",
   "execution_count": 166,
   "metadata": {},
   "outputs": [
    {
     "name": "stdout",
     "output_type": "stream",
     "text": [
      "X_train shape : (30939, 27)\n",
      "X_test shape : (19287, 27)\n"
     ]
    }
   ],
   "source": [
    "print(\"X_train shape :\" , X_train_impute_rented.shape)\n",
    "print(\"X_test shape :\" , X_test_impute_rented.shape)"
   ]
  },
  {
   "cell_type": "code",
   "execution_count": 167,
   "metadata": {},
   "outputs": [
    {
     "name": "stdout",
     "output_type": "stream",
     "text": [
      "test_df shape : (50226, 27)\n"
     ]
    }
   ],
   "source": [
    "# Combining the X_train & X_test :\n",
    "\n",
    "test_df = X_train_impute_rented.append(X_test_impute_rented)\n",
    "print('test_df shape :', test_df.shape)\n",
    "\n",
    "# **** 'rented' feature IMPUTED ****"
   ]
  },
  {
   "cell_type": "markdown",
   "metadata": {},
   "source": [
    "> <h2>Imputing feature <font color='blue'> 'family_size' </font> for the test set :</h2>"
   ]
  },
  {
   "cell_type": "code",
   "execution_count": 168,
   "metadata": {},
   "outputs": [],
   "source": [
    "# Separate dataframe containing each features null and feature 'family_size' removed from the above created dataset :\n",
    "\n",
    "X_train_impute_family_size = test_df.ix[test_df['family_size'].notnull()] # where family_size is notNull\n",
    "\n",
    "\n",
    "# The following features are not considered for as a training set feature for 'age_range' imputation becoz they themselves contain Nulls \n",
    "X_train_no_of_children = X_train_impute_family_size['no_of_children']\n",
    "del X_train_impute_family_size['no_of_children']\n",
    "\n",
    "X_train_income_bracket = X_train_impute_family_size['income_bracket'] \n",
    "del X_train_impute_family_size['income_bracket']\n",
    "\n",
    "\n",
    "y_train_family_size = X_train_impute_family_size['family_size']  # y variable i.e. family_size(with all notNull values)\n",
    "del X_train_impute_family_size['family_size']  # removing the y variable from the learning_set "
   ]
  },
  {
   "cell_type": "code",
   "execution_count": 169,
   "metadata": {},
   "outputs": [
    {
     "data": {
      "text/plain": [
       "(30939, 24)"
      ]
     },
     "execution_count": 169,
     "metadata": {},
     "output_type": "execute_result"
    }
   ],
   "source": [
    "# X_train_impute_family_size shape :\n",
    "\n",
    "X_train_impute_family_size.shape"
   ]
  },
  {
   "cell_type": "code",
   "execution_count": 170,
   "metadata": {},
   "outputs": [],
   "source": [
    "# TO PREDICT ON : Where 'age_range' feature is null :\n",
    "# X_test_impute_family_size contains\n",
    "\n",
    "X_test_impute_family_size = test_df.ix[test_df['family_size'].isnull()] # all the points containing 'marial_status' Nulls\n",
    "\n",
    "\n",
    "X_test_no_of_children = X_test_impute_family_size['no_of_children']\n",
    "del X_test_impute_family_size['no_of_children']\n",
    "\n",
    "X_test_income_bracket = X_test_impute_family_size['income_bracket'] \n",
    "del X_test_impute_family_size['income_bracket']\n",
    "\n",
    "\n",
    "y_test_family_size = X_test_impute_family_size['family_size']  # Contains all Nulls; this step not important though at all as this 'y' will have new notNull values \n",
    "del X_test_impute_family_size['family_size']"
   ]
  },
  {
   "cell_type": "code",
   "execution_count": 171,
   "metadata": {},
   "outputs": [
    {
     "data": {
      "text/plain": [
       "(19287, 24)"
      ]
     },
     "execution_count": 171,
     "metadata": {},
     "output_type": "execute_result"
    }
   ],
   "source": [
    "X_test_impute_family_size.shape"
   ]
  },
  {
   "cell_type": "code",
   "execution_count": 172,
   "metadata": {},
   "outputs": [
    {
     "data": {
      "text/plain": [
       "(30939, 24)"
      ]
     },
     "execution_count": 172,
     "metadata": {},
     "output_type": "execute_result"
    }
   ],
   "source": [
    "X_train_impute_family_size.shape"
   ]
  },
  {
   "cell_type": "code",
   "execution_count": 173,
   "metadata": {},
   "outputs": [],
   "source": [
    "predicted_family_size = logisticRegression_family_size.predict(X_test_impute_family_size)\n",
    "X_test_impute_family_size['family_size'] = predicted_family_size"
   ]
  },
  {
   "cell_type": "code",
   "execution_count": 174,
   "metadata": {},
   "outputs": [],
   "source": [
    "# Combining X_train and X_test sets after 'family_size' feature imputation :\n",
    "# Also including the removed features in the above imputation procedure :\n",
    "\n",
    "\n",
    "# Completing the X_train set :\n",
    "\n",
    "X_train_impute_family_size['family_size'] = y_train_family_size\n",
    "\n",
    "X_train_impute_family_size['no_of_children'] = X_train_no_of_children\n",
    "X_train_impute_family_size['income_bracket'] = X_train_income_bracket\n",
    "\n",
    "# Completing the X_test set :\n",
    "\n",
    "X_test_impute_family_size['no_of_children'] = X_test_no_of_children\n",
    "X_test_impute_family_size['income_bracket'] = X_test_income_bracket"
   ]
  },
  {
   "cell_type": "code",
   "execution_count": 175,
   "metadata": {},
   "outputs": [
    {
     "name": "stdout",
     "output_type": "stream",
     "text": [
      "X_train shape : (30939, 27)\n",
      "X_test shape : (19287, 27)\n"
     ]
    }
   ],
   "source": [
    "print(\"X_train shape :\" , X_train_impute_family_size.shape)\n",
    "print(\"X_test shape :\" , X_test_impute_family_size.shape)"
   ]
  },
  {
   "cell_type": "code",
   "execution_count": 176,
   "metadata": {},
   "outputs": [
    {
     "name": "stdout",
     "output_type": "stream",
     "text": [
      "test_df shape : (50226, 27)\n"
     ]
    }
   ],
   "source": [
    "# Combining the X_train & X_test :\n",
    "\n",
    "test_df = X_train_impute_family_size.append(X_test_impute_family_size)\n",
    "print('test_df shape :', test_df.shape)\n",
    "\n",
    "# **** 'family_size' feature IMPUTED ****"
   ]
  },
  {
   "cell_type": "markdown",
   "metadata": {},
   "source": [
    "> <h2>Imputing feature <font color='blue'> 'no_of_children' </font> for the test set :</h2>"
   ]
  },
  {
   "cell_type": "code",
   "execution_count": 177,
   "metadata": {},
   "outputs": [
    {
     "data": {
      "text/plain": [
       "(50226, 31)"
      ]
     },
     "execution_count": 177,
     "metadata": {},
     "output_type": "execute_result"
    }
   ],
   "source": [
    "# One hot encoding 'family_size' feature as it has been imputed successfully  :\n",
    "\n",
    "test_df = pd.concat([test_df, pd.get_dummies(test_df['family_size'])], axis=1)\n",
    "del test_df['family_size'] # has been one hot encoded, hence not required as a single feature\n",
    "test_df.shape"
   ]
  },
  {
   "cell_type": "code",
   "execution_count": 178,
   "metadata": {},
   "outputs": [],
   "source": [
    "# renaming family_size columns :\n",
    "\n",
    "test_df.rename(columns={'1':'family_size 1',\n",
    "                         '2':'family_size 2',\n",
    "                         '3':'family_size 3',\n",
    "                         '4':'family_size 4',\n",
    "                         '5+':'family_size 5+'}, inplace=True)"
   ]
  },
  {
   "cell_type": "code",
   "execution_count": 179,
   "metadata": {},
   "outputs": [],
   "source": [
    "# Separate dataframe containing each features null and feature 'no_of_children' removed from the above created dataset :\n",
    "\n",
    "X_train_impute_no_of_children = test_df.ix[test_df['no_of_children'].notnull()] # where no_of_children is notNull\n",
    "\n",
    "# The following features are not considered for as a training set feature for 'no_of_children' imputation becoz they themselves contain Nulls \n",
    "\n",
    "X_train_income_bracket = X_train_impute_no_of_children['income_bracket'] \n",
    "del X_train_impute_no_of_children['income_bracket']\n",
    "\n",
    "\n",
    "y_train_no_of_children = X_train_impute_no_of_children['no_of_children']  # y variable i.e. no_of_children(with all notNull values)\n",
    "del X_train_impute_no_of_children['no_of_children']  # removing the y variable from the learning_set "
   ]
  },
  {
   "cell_type": "code",
   "execution_count": 180,
   "metadata": {},
   "outputs": [
    {
     "data": {
      "text/plain": [
       "(10162, 29)"
      ]
     },
     "execution_count": 180,
     "metadata": {},
     "output_type": "execute_result"
    }
   ],
   "source": [
    "# X_train_impute_age_range shape :\n",
    "\n",
    "X_train_impute_no_of_children.shape"
   ]
  },
  {
   "cell_type": "code",
   "execution_count": 181,
   "metadata": {},
   "outputs": [],
   "source": [
    "# TO PREDICT ON : Where 'age_range' feature is null :\n",
    "# X_test_impute_no_of_children contains\n",
    "\n",
    "X_test_impute_no_of_children = test_df.ix[test_df['no_of_children'].isnull()] # all the points containing 'marial_status' Nulls\n",
    "\n",
    "\n",
    "X_test_income_bracket = X_test_impute_no_of_children['income_bracket'] \n",
    "del X_test_impute_no_of_children['income_bracket']\n",
    "\n",
    "\n",
    "y_test_no_of_children = X_test_impute_no_of_children['no_of_children']  # Contains all Nulls; this step not important though at all as this 'y' will have new notNull values \n",
    "del X_test_impute_no_of_children['no_of_children']"
   ]
  },
  {
   "cell_type": "code",
   "execution_count": 182,
   "metadata": {},
   "outputs": [
    {
     "data": {
      "text/plain": [
       "(40064, 29)"
      ]
     },
     "execution_count": 182,
     "metadata": {},
     "output_type": "execute_result"
    }
   ],
   "source": [
    "X_test_impute_no_of_children.shape"
   ]
  },
  {
   "cell_type": "code",
   "execution_count": 183,
   "metadata": {},
   "outputs": [
    {
     "data": {
      "text/plain": [
       "(10162, 29)"
      ]
     },
     "execution_count": 183,
     "metadata": {},
     "output_type": "execute_result"
    }
   ],
   "source": [
    "X_train_impute_no_of_children.shape"
   ]
  },
  {
   "cell_type": "code",
   "execution_count": 184,
   "metadata": {},
   "outputs": [],
   "source": [
    "predicted_no_of_children = logisticRegression_no_of_children.predict(X_test_impute_no_of_children)\n",
    "X_test_impute_no_of_children['no_of_children'] = predicted_no_of_children"
   ]
  },
  {
   "cell_type": "code",
   "execution_count": 185,
   "metadata": {},
   "outputs": [],
   "source": [
    "# Combining X_train and X_test sets after 'family_size' feature imputation :\n",
    "# Also including the removed features in the above imputation procedure :\n",
    "\n",
    "\n",
    "# Completing the X_train set :\n",
    "\n",
    "X_train_impute_no_of_children['no_of_children'] = y_train_no_of_children\n",
    "\n",
    "X_train_impute_no_of_children['income_bracket'] = X_train_income_bracket\n",
    "\n",
    "\n",
    "# Completing the X_test set :\n",
    "\n",
    "X_test_impute_no_of_children['income_bracket'] = X_test_income_bracket"
   ]
  },
  {
   "cell_type": "code",
   "execution_count": 186,
   "metadata": {},
   "outputs": [
    {
     "name": "stdout",
     "output_type": "stream",
     "text": [
      "X_train shape : (10162, 31)\n",
      "X_test shape : (40064, 31)\n"
     ]
    }
   ],
   "source": [
    "print(\"X_train shape :\" , X_train_impute_no_of_children.shape)\n",
    "print(\"X_test shape :\" , X_test_impute_no_of_children.shape)"
   ]
  },
  {
   "cell_type": "code",
   "execution_count": 187,
   "metadata": {},
   "outputs": [
    {
     "name": "stdout",
     "output_type": "stream",
     "text": [
      "test_df shape : (50226, 31)\n"
     ]
    }
   ],
   "source": [
    "# Combining the X_train & X_test :\n",
    "\n",
    "test_df = X_train_impute_no_of_children.append(X_test_impute_no_of_children)\n",
    "print('test_df shape :', test_df.shape)\n",
    "\n",
    "# **** 'no_of_children' feature IMPUTED ****"
   ]
  },
  {
   "cell_type": "markdown",
   "metadata": {},
   "source": [
    "> <h2>Imputing feature <font color='blue'> 'income_bracket' </font> for the test set :</h2>"
   ]
  },
  {
   "cell_type": "code",
   "execution_count": 188,
   "metadata": {},
   "outputs": [
    {
     "data": {
      "text/plain": [
       "(50226, 33)"
      ]
     },
     "execution_count": 188,
     "metadata": {},
     "output_type": "execute_result"
    }
   ],
   "source": [
    "# One hot encoding 'family_size' feature as it has been imputed successfully  :\n",
    "\n",
    "test_df = pd.concat([test_df, pd.get_dummies(test_df['no_of_children'])], axis=1)\n",
    "del test_df['no_of_children'] # has been one hot encoded, hence not required as a single feature\n",
    "test_df.shape"
   ]
  },
  {
   "cell_type": "code",
   "execution_count": 189,
   "metadata": {},
   "outputs": [],
   "source": [
    "# renaming family_size columns :\n",
    "\n",
    "test_df.rename(columns={'1':'no_of_children 1',\n",
    "                         '2':'no_of_children 2',\n",
    "                         '3+':'no_of_children 3'},inplace=True)"
   ]
  },
  {
   "cell_type": "code",
   "execution_count": 190,
   "metadata": {},
   "outputs": [],
   "source": [
    "# Separate dataframe containing each features null and feature 'income_bracket' removed from the above created dataset :\n",
    "\n",
    "X_train_impute_income_bracket = test_df.ix[test_df['income_bracket'].notnull()] # where 'income_bracket' is notNull\n",
    "\n",
    "y_train_income_bracket = X_train_impute_income_bracket['income_bracket']  # y variable i.e. 'income_bracket'(with all notNull values)\n",
    "del X_train_impute_income_bracket['income_bracket']  # removing the y variable from the learning_set "
   ]
  },
  {
   "cell_type": "code",
   "execution_count": 191,
   "metadata": {},
   "outputs": [
    {
     "data": {
      "text/plain": [
       "(30939, 32)"
      ]
     },
     "execution_count": 191,
     "metadata": {},
     "output_type": "execute_result"
    }
   ],
   "source": [
    "# X_train_impute_age_range shape :\n",
    "\n",
    "X_train_impute_income_bracket.shape"
   ]
  },
  {
   "cell_type": "code",
   "execution_count": 192,
   "metadata": {},
   "outputs": [],
   "source": [
    "# TO PREDICT ON : Where 'age_range' feature is null :\n",
    "# X_test_impute_income_bracket contains\n",
    "\n",
    "X_test_impute_income_bracket = test_df.ix[test_df['income_bracket'].isnull()] # all the points containing 'income_bracket' Nulls\n",
    "\n",
    "y_test_income_bracket = X_test_impute_income_bracket['income_bracket']  # Contains all Nulls; this step not important though at all as this 'y' will have new notNull values \n",
    "del X_test_impute_income_bracket['income_bracket']"
   ]
  },
  {
   "cell_type": "code",
   "execution_count": 193,
   "metadata": {},
   "outputs": [
    {
     "data": {
      "text/plain": [
       "(19287, 32)"
      ]
     },
     "execution_count": 193,
     "metadata": {},
     "output_type": "execute_result"
    }
   ],
   "source": [
    "X_test_impute_income_bracket.shape"
   ]
  },
  {
   "cell_type": "code",
   "execution_count": 194,
   "metadata": {},
   "outputs": [
    {
     "data": {
      "text/plain": [
       "(30939, 32)"
      ]
     },
     "execution_count": 194,
     "metadata": {},
     "output_type": "execute_result"
    }
   ],
   "source": [
    "X_train_impute_income_bracket.shape"
   ]
  },
  {
   "cell_type": "code",
   "execution_count": 195,
   "metadata": {},
   "outputs": [],
   "source": [
    "predicted_income_bracket = logisticRegression_income_bracket.predict(X_test_impute_income_bracket)\n",
    "X_test_impute_income_bracket['income_bracket'] = predicted_income_bracket"
   ]
  },
  {
   "cell_type": "code",
   "execution_count": 196,
   "metadata": {},
   "outputs": [],
   "source": [
    "# Combining X_train and X_test sets after 'income_bracket' feature imputation :\n",
    "# Also including the removed features in the above imputation procedure :\n",
    "\n",
    "# Completing the X_train set :\n",
    "\n",
    "X_train_impute_income_bracket['income_bracket'] = y_train_income_bracket\n",
    "\n",
    "# Completing the X_test set :\n",
    "# Already accomplished"
   ]
  },
  {
   "cell_type": "code",
   "execution_count": 197,
   "metadata": {},
   "outputs": [
    {
     "name": "stdout",
     "output_type": "stream",
     "text": [
      "X_train shape : (30939, 33)\n",
      "X_test shape : (19287, 33)\n"
     ]
    }
   ],
   "source": [
    "print(\"X_train shape :\" , X_train_impute_income_bracket.shape)\n",
    "print(\"X_test shape :\" , X_test_impute_income_bracket.shape)"
   ]
  },
  {
   "cell_type": "code",
   "execution_count": 198,
   "metadata": {},
   "outputs": [
    {
     "name": "stdout",
     "output_type": "stream",
     "text": [
      "test_df shape : (50226, 33)\n"
     ]
    }
   ],
   "source": [
    "# Combining the X_train & X_test :\n",
    "\n",
    "test_df = X_train_impute_income_bracket.append(X_test_impute_income_bracket)\n",
    "print('test_df shape :', test_df.shape)\n",
    "\n",
    "# **** 'income_bracket' feature IMPUTED ****"
   ]
  },
  {
   "cell_type": "markdown",
   "metadata": {},
   "source": [
    "### *Final train & test sets dimensionality :*"
   ]
  },
  {
   "cell_type": "code",
   "execution_count": 199,
   "metadata": {},
   "outputs": [
    {
     "data": {
      "text/plain": [
       "(78369, 34)"
      ]
     },
     "execution_count": 199,
     "metadata": {},
     "output_type": "execute_result"
    }
   ],
   "source": [
    "# One xtra (, 5) dimension beoz of feature 'redemption_status' available for train set by default :\n",
    "\n",
    "train_df.shape"
   ]
  },
  {
   "cell_type": "code",
   "execution_count": 206,
   "metadata": {},
   "outputs": [
    {
     "data": {
      "text/plain": [
       "{'redemption_status'}"
      ]
     },
     "execution_count": 206,
     "metadata": {},
     "output_type": "execute_result"
    }
   ],
   "source": [
    "# 'train_df' is one feature more to 'test_df' which is 'redemption_status'\n",
    "\n",
    "set(train_df.columns) - set(test_df.columns)"
   ]
  },
  {
   "cell_type": "code",
   "execution_count": 244,
   "metadata": {},
   "outputs": [],
   "source": [
    "train_df.to_csv(r\"D:\\MOOCs & Material\\Data Science & ML\\Data Modelling - Datasets\\American Express (AmExpert) - Analytics vidhya\\Train & Test imputed\\train.csv\", index=False)\n",
    "test_df.to_csv(r\"D:\\MOOCs & Material\\Data Science & ML\\Data Modelling - Datasets\\American Express (AmExpert) - Analytics vidhya\\Train & Test imputed\\test.csv\", index=False)"
   ]
  },
  {
   "cell_type": "code",
   "execution_count": null,
   "metadata": {},
   "outputs": [],
   "source": []
  }
 ],
 "metadata": {
  "kernelspec": {
   "display_name": "Python 3",
   "language": "python",
   "name": "python3"
  },
  "language_info": {
   "codemirror_mode": {
    "name": "ipython",
    "version": 3
   },
   "file_extension": ".py",
   "mimetype": "text/x-python",
   "name": "python",
   "nbconvert_exporter": "python",
   "pygments_lexer": "ipython3",
   "version": "3.7.4"
  }
 },
 "nbformat": 4,
 "nbformat_minor": 2
}
