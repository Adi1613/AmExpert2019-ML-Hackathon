{
 "cells": [
  {
   "cell_type": "code",
   "execution_count": 1,
   "metadata": {},
   "outputs": [],
   "source": [
    "# Modules :\n",
    "\n",
    "from pyforest import *\n",
    "from tqdm import tqdm\n",
    "import warnings\n",
    "from IPython.display import Image\n",
    "import re\n",
    "warnings.filterwarnings(\"ignore\")\n",
    "%matplotlib inline"
   ]
  },
  {
   "cell_type": "markdown",
   "metadata": {},
   "source": [
    "![title](Merchant_Banking.png)"
   ]
  },
  {
   "cell_type": "markdown",
   "metadata": {},
   "source": [
    "# AmExpert 2019 – Machine Learning Hackathon\n",
    "\n",
    "\n",
    "## Introduction\n",
    "American Express and Analytics Vidhya presents “AmExpert 2019 – Machine Learning Hackathon”. An amazing opportunity to showcase your analytical abilities and talent.\n",
    "\n",
    "Get a taste of the kind of challenges we face here at American Express on day to day basis.\n",
    "\n",
    "Exciting prizes up for grabs! Best performers also get a chance to get interviewed by American Express for analytics roles!\n",
    "\n",
    "Don’t hold on to the buzzing ideas in your mind. Just wear your thinking hats and display the spectrum of your creativity!\n",
    "\n",
    "\n",
    "# Problem Statement\n",
    "\n",
    "## Predicting Coupon Redemption\n",
    "\n",
    "XYZ Credit Card company regularly helps it’s merchants understand their data better and take key business decisions accurately by providing machine learning and analytics consulting. ABC is an established Brick & Mortar retailer that frequently conducts marketing campaigns for its diverse product range. As a merchant of XYZ, they have sought XYZ to assist them in their discount marketing process using the power of machine learning. Can you wear the AmExpert hat and help out ABC?\n",
    "\n",
    " \n",
    "Discount marketing and coupon usage are very widely used promotional techniques to attract new customers and to retain & reinforce loyalty of existing customers. The measurement of a consumer’s propensity towards coupon usage and the prediction of the redemption behaviour are crucial parameters in assessing the effectiveness of a marketing campaign.\n",
    "\n",
    " \n",
    "ABC’s promotions are shared across various channels including email, notifications, etc. A number of these campaigns include coupon discounts that are offered for a specific product/range of products. The retailer would like the ability to predict whether customers redeem the coupons received across channels, which will enable the retailer’s marketing team to accurately design coupon construct, and develop more precise and targeted marketing strategies.\n",
    "\n",
    " \n",
    "The data available in this problem contains the following information, including the details of a sample of campaigns and coupons used in previous campaigns -\n",
    "\n",
    "**User Demographic Details**\n",
    "\n",
    "**Campaign and coupon Details**\n",
    "\n",
    "**Product details**\n",
    "\n",
    "**Previous transactions**\n",
    "\n",
    "\n",
    "Based on previous transaction & performance data from the last 18 campaigns, predict the probability for the next 10 campaigns in the test set for each coupon and customer combination, whether the customer will redeem the coupon or not?\n",
    "\n",
    " \n",
    "\n",
    "### Dataset Description\n",
    "\n",
    "Here is the schema for the different data tables available. The detailed data dictionary is provided next.\n",
    "\n",
    "![title](amex19.png)\n",
    "\n",
    "You are provided with the following files in train.zip:\n",
    "\n",
    "**train.csv:** Train data containing the coupons offered to the given customers under the 18 campaigns\n",
    "\n",
    "|Variable |Definition |\n",
    "|----|----|\n",
    "|id\t|Unique id for coupon customer impression|\n",
    "|campaign_id\t|Unique id for a discount campaign|\n",
    "|coupon_id\t|Unique id for a discount coupon|\n",
    "|customer_id\t|Unique id for a customer|\n",
    "|redemption_status|\t(target) (0 - Coupon not redeemed, 1 - Coupon redeemed) |\n",
    "\n",
    "\n",
    "**campaign_data.csv:** Campaign information for each of the 28 campaigns\n",
    "\n",
    "|Variable|\tDefinition|\n",
    "|----|----|\n",
    "|campaign_id\t|Unique id for a discount campaign|\n",
    "|campaign_type\t|Anonymised Campaign Type (X/Y)|\n",
    "|start_date\t|Campaign Start Date|\n",
    "|end_date\t|Campaign End Date |\n",
    "\n",
    "\n",
    "**coupon_item_mapping.csv:** Mapping of coupon and items valid for discount under that coupon\n",
    "\n",
    "|Variable|\tDefinition|\n",
    "|----|----|\n",
    "|coupon_id\t|Unique id for a discount coupon (no order)|\n",
    "|item_id\t|Unique id for items for which given coupon is valid (no order) |\n",
    "\n",
    "\n",
    "**customer_demographics.csv:** Customer demographic information for some customers\n",
    "\n",
    "|Variable\t|Definition|\n",
    "|----|----|\n",
    "|customer_id\t|Unique id for a customer|\n",
    "|age_range\t|Age range of customer family in years|\n",
    "|marital_status|\tMarried/Single|\n",
    "|rented|\t0 - not rented accommodation, 1 - rented accommodation|\n",
    "|family_size|\tNumber of family members|\n",
    "|no_of_children\t|Number of children in the family|\n",
    "|income_bracket|\tLabel Encoded Income Bracket (Higher income corresponds to higher number) |\n",
    "\n",
    "\n",
    "**customer_transaction_data.csv:** Transaction data for all customers for duration of campaigns in the train data\n",
    "\n",
    "|Variable\t|Definition|\n",
    "|----|----|\n",
    "|date\t|Date of Transaction|\n",
    "|customer_id|Unique id for a customer|\n",
    "|item_id|\tUnique id for item|\n",
    "|quantity\t|quantity of item bought|\n",
    "|selling_price\t|Sales value of the transaction|\n",
    "|other_discount|\tDiscount from other sources such as manufacturer coupon/loyalty card|\n",
    "|coupon_discount|\tDiscount availed from retailer coupon |\n",
    "\n",
    "\n",
    "**item_data.csv:** Item information for each item sold by the retailer\n",
    "\n",
    "|Variable|\tDefinition|\n",
    "|----|----|\n",
    "|item_id|\tUnique id for itemv\n",
    "|brand\t|Unique id for item brand|\n",
    "|brand_type\t|Brand Type (local/Established)|\n",
    "|category\t|Item Category |\n",
    "\n",
    "\n",
    "**test.csv:** Contains the coupon customer combination for which redemption status is to be predicted\n",
    "\n",
    "|Variable|\tDefinition|\n",
    "|----|----|\n",
    "|id\t|Unique id for coupon customer impression|\n",
    "|campaign_id\t|Unique id for a discount campaign|\n",
    "|coupon_id\t|Unique id for a discount coupon|\n",
    "|customer_id\t|Unique id for a customer |\n",
    "\n",
    "*Campaign, coupon and customer data for test set is also contained in train.zip *\n",
    "\n",
    "**sample_submission.csv:** This file contains the format in which you have to submit your predictions.\n",
    "\n",
    "To summarise the entire process:\n",
    "\n",
    "* Customers receive coupons under various campaigns and may choose to redeem it.\n",
    "* They can redeem the given coupon for any valid product for that coupon as per coupon item mapping within the duration between campaign start date and end date\n",
    "* Next, the customer will redeem the coupon for an item at the retailer store and that will reflect in the transaction table in the column coupon_discount.\n",
    " \n",
    "### Evaluation Metric\n",
    "Submissions are evaluated on area under the ROC curve between the predicted probability and the observed target.\n",
    " \n",
    "\n",
    "### Public and Private Split\n",
    "* Test data is further randomly divided into Public (40%) and Private data (60%)\n",
    "* Your initial responses will be checked and scored on the Public data.\n",
    "* The final rankings would be based on your private score which will be published once the competition is over."
   ]
  },
  {
   "cell_type": "code",
   "execution_count": 2,
   "metadata": {},
   "outputs": [],
   "source": [
    "# Importing Datasets :\n",
    "\n",
    "campaign_data = pd.read_csv(r'D:\\MOOCs & Material\\Data Science & ML\\Data Modelling - Datasets\\American Express (AmExpert) - Analytics vidhya\\Datasets\\campaign_data.csv')\n",
    "coupon_item_mapping = pd.read_csv(r'D:\\MOOCs & Material\\Data Science & ML\\Data Modelling - Datasets\\American Express (AmExpert) - Analytics vidhya\\Datasets\\coupon_item_mapping.csv')\n",
    "customer_demographs = pd.read_csv(r'D:\\MOOCs & Material\\Data Science & ML\\Data Modelling - Datasets\\American Express (AmExpert) - Analytics vidhya\\Datasets\\customer_demographics.csv')\n",
    "customer_transaction_data = pd.read_csv(r'D:\\MOOCs & Material\\Data Science & ML\\Data Modelling - Datasets\\American Express (AmExpert) - Analytics vidhya\\Datasets\\customer_transaction_data.csv')\n",
    "item_data = pd.read_csv(r'D:\\MOOCs & Material\\Data Science & ML\\Data Modelling - Datasets\\American Express (AmExpert) - Analytics vidhya\\Datasets\\item_data.csv')\n",
    "train = pd.read_csv(r'D:\\MOOCs & Material\\Data Science & ML\\Data Modelling - Datasets\\American Express (AmExpert) - Analytics vidhya\\Datasets\\train.csv')\n",
    "test = pd.read_csv(r'D:\\MOOCs & Material\\Data Science & ML\\Data Modelling - Datasets\\American Express (AmExpert) - Analytics vidhya\\Datasets\\test.csv')"
   ]
  },
  {
   "cell_type": "markdown",
   "metadata": {},
   "source": [
    "<h2>OBJECTIVE :</h2>\n",
    "\n",
    "Based on previous transaction & performance data from the last **18** campaigns, predict the probability for the next **10** campaigns in the test set for each coupon and customer combination, whether the customer will redeem the coupon or not?"
   ]
  },
  {
   "cell_type": "markdown",
   "metadata": {},
   "source": [
    "<h2>Performing EDA for </h2>\n",
    "\n",
    "+ Campaign_Data\n",
    "+ Coupon_Item_Mapping\n",
    "+ Item_data\n",
    "+ Customer_Transaction_Data "
   ]
  },
  {
   "cell_type": "markdown",
   "metadata": {},
   "source": [
    "### *Campaign Data :* "
   ]
  },
  {
   "cell_type": "code",
   "execution_count": 3,
   "metadata": {},
   "outputs": [
    {
     "data": {
      "text/html": [
       "<div>\n",
       "<style scoped>\n",
       "    .dataframe tbody tr th:only-of-type {\n",
       "        vertical-align: middle;\n",
       "    }\n",
       "\n",
       "    .dataframe tbody tr th {\n",
       "        vertical-align: top;\n",
       "    }\n",
       "\n",
       "    .dataframe thead th {\n",
       "        text-align: right;\n",
       "    }\n",
       "</style>\n",
       "<table border=\"1\" class=\"dataframe\">\n",
       "  <thead>\n",
       "    <tr style=\"text-align: right;\">\n",
       "      <th></th>\n",
       "      <th>campaign_id</th>\n",
       "      <th>campaign_type</th>\n",
       "      <th>start_date</th>\n",
       "      <th>end_date</th>\n",
       "    </tr>\n",
       "  </thead>\n",
       "  <tbody>\n",
       "    <tr>\n",
       "      <td>0</td>\n",
       "      <td>24</td>\n",
       "      <td>Y</td>\n",
       "      <td>21/10/13</td>\n",
       "      <td>20/12/13</td>\n",
       "    </tr>\n",
       "    <tr>\n",
       "      <td>1</td>\n",
       "      <td>25</td>\n",
       "      <td>Y</td>\n",
       "      <td>21/10/13</td>\n",
       "      <td>22/11/13</td>\n",
       "    </tr>\n",
       "    <tr>\n",
       "      <td>2</td>\n",
       "      <td>20</td>\n",
       "      <td>Y</td>\n",
       "      <td>07/09/13</td>\n",
       "      <td>16/11/13</td>\n",
       "    </tr>\n",
       "    <tr>\n",
       "      <td>3</td>\n",
       "      <td>23</td>\n",
       "      <td>Y</td>\n",
       "      <td>08/10/13</td>\n",
       "      <td>15/11/13</td>\n",
       "    </tr>\n",
       "    <tr>\n",
       "      <td>4</td>\n",
       "      <td>21</td>\n",
       "      <td>Y</td>\n",
       "      <td>16/09/13</td>\n",
       "      <td>18/10/13</td>\n",
       "    </tr>\n",
       "  </tbody>\n",
       "</table>\n",
       "</div>"
      ],
      "text/plain": [
       "   campaign_id campaign_type start_date  end_date\n",
       "0           24             Y   21/10/13  20/12/13\n",
       "1           25             Y   21/10/13  22/11/13\n",
       "2           20             Y   07/09/13  16/11/13\n",
       "3           23             Y   08/10/13  15/11/13\n",
       "4           21             Y   16/09/13  18/10/13"
      ]
     },
     "execution_count": 3,
     "metadata": {},
     "output_type": "execute_result"
    }
   ],
   "source": [
    "campaign_data.head()"
   ]
  },
  {
   "cell_type": "code",
   "execution_count": 4,
   "metadata": {},
   "outputs": [
    {
     "name": "stdout",
     "output_type": "stream",
     "text": [
      "<class 'pandas.core.frame.DataFrame'>\n",
      "RangeIndex: 28 entries, 0 to 27\n",
      "Data columns (total 4 columns):\n",
      "campaign_id      28 non-null int64\n",
      "campaign_type    28 non-null object\n",
      "start_date       28 non-null object\n",
      "end_date         28 non-null object\n",
      "dtypes: int64(1), object(3)\n",
      "memory usage: 1.0+ KB\n"
     ]
    }
   ],
   "source": [
    "campaign_data.info()"
   ]
  },
  {
   "cell_type": "code",
   "execution_count": 5,
   "metadata": {},
   "outputs": [
    {
     "data": {
      "text/plain": [
       "28"
      ]
     },
     "execution_count": 5,
     "metadata": {},
     "output_type": "execute_result"
    }
   ],
   "source": [
    "len(campaign_data)"
   ]
  },
  {
   "cell_type": "code",
   "execution_count": 6,
   "metadata": {},
   "outputs": [
    {
     "data": {
      "text/plain": [
       "28"
      ]
     },
     "execution_count": 6,
     "metadata": {},
     "output_type": "execute_result"
    }
   ],
   "source": [
    "# Total no of unique campaign ids :\n",
    "\n",
    "campaign_data.campaign_id.nunique()"
   ]
  },
  {
   "cell_type": "code",
   "execution_count": 7,
   "metadata": {},
   "outputs": [
    {
     "name": "stdout",
     "output_type": "stream",
     "text": [
      "count_by_train :  18\n",
      "count_by_test :  10\n"
     ]
    }
   ],
   "source": [
    "# For train set, there are 18 campaign_ids and therefore we need to predict for 10 campigns of the test set :\n",
    "\n",
    "count_by_train = 0\n",
    "\n",
    "for each in train.campaign_id.unique():\n",
    "    if each in campaign_data.campaign_id.unique():\n",
    "        count_by_train+=1\n",
    "        \n",
    "print('count_by_train : ', count_by_train)\n",
    "\n",
    "count_by_test = 0\n",
    "\n",
    "for each in test.campaign_id.unique():\n",
    "    if each in campaign_data.campaign_id.unique():\n",
    "        count_by_test+=1\n",
    "        \n",
    "print('count_by_test : ', count_by_test)"
   ]
  },
  {
   "cell_type": "code",
   "execution_count": 8,
   "metadata": {},
   "outputs": [
    {
     "name": "stdout",
     "output_type": "stream",
     "text": [
      "Unique No of campaign_type : 2\n",
      "Types No of campaign_type : ['Y' 'X']\n"
     ]
    }
   ],
   "source": [
    "# FEATURE - Campaign_Type :\n",
    "\n",
    "print('Unique No of campaign_type :', campaign_data.campaign_type.nunique())\n",
    "print('Types No of campaign_type :', campaign_data.campaign_type.unique())"
   ]
  },
  {
   "cell_type": "code",
   "execution_count": 9,
   "metadata": {},
   "outputs": [],
   "source": [
    "# Converting to datetime for the 'start_date' and the 'end_date' of the campaigns :\n",
    "\n",
    "campaign_data.start_date = pd.to_datetime(campaign_data.start_date)\n",
    "campaign_data.end_date = pd.to_datetime(campaign_data.end_date)"
   ]
  },
  {
   "cell_type": "code",
   "execution_count": 10,
   "metadata": {},
   "outputs": [
    {
     "data": {
      "text/html": [
       "<div>\n",
       "<style scoped>\n",
       "    .dataframe tbody tr th:only-of-type {\n",
       "        vertical-align: middle;\n",
       "    }\n",
       "\n",
       "    .dataframe tbody tr th {\n",
       "        vertical-align: top;\n",
       "    }\n",
       "\n",
       "    .dataframe thead th {\n",
       "        text-align: right;\n",
       "    }\n",
       "</style>\n",
       "<table border=\"1\" class=\"dataframe\">\n",
       "  <thead>\n",
       "    <tr style=\"text-align: right;\">\n",
       "      <th></th>\n",
       "      <th>campaign_id</th>\n",
       "      <th>campaign_type</th>\n",
       "      <th>start_date</th>\n",
       "      <th>end_date</th>\n",
       "    </tr>\n",
       "  </thead>\n",
       "  <tbody>\n",
       "    <tr>\n",
       "      <td>0</td>\n",
       "      <td>24</td>\n",
       "      <td>Y</td>\n",
       "      <td>2013-10-21</td>\n",
       "      <td>2013-12-20</td>\n",
       "    </tr>\n",
       "    <tr>\n",
       "      <td>1</td>\n",
       "      <td>25</td>\n",
       "      <td>Y</td>\n",
       "      <td>2013-10-21</td>\n",
       "      <td>2013-11-22</td>\n",
       "    </tr>\n",
       "    <tr>\n",
       "      <td>2</td>\n",
       "      <td>20</td>\n",
       "      <td>Y</td>\n",
       "      <td>2013-07-09</td>\n",
       "      <td>2013-11-16</td>\n",
       "    </tr>\n",
       "    <tr>\n",
       "      <td>3</td>\n",
       "      <td>23</td>\n",
       "      <td>Y</td>\n",
       "      <td>2013-08-10</td>\n",
       "      <td>2013-11-15</td>\n",
       "    </tr>\n",
       "    <tr>\n",
       "      <td>4</td>\n",
       "      <td>21</td>\n",
       "      <td>Y</td>\n",
       "      <td>2013-09-16</td>\n",
       "      <td>2013-10-18</td>\n",
       "    </tr>\n",
       "  </tbody>\n",
       "</table>\n",
       "</div>"
      ],
      "text/plain": [
       "   campaign_id campaign_type start_date   end_date\n",
       "0           24             Y 2013-10-21 2013-12-20\n",
       "1           25             Y 2013-10-21 2013-11-22\n",
       "2           20             Y 2013-07-09 2013-11-16\n",
       "3           23             Y 2013-08-10 2013-11-15\n",
       "4           21             Y 2013-09-16 2013-10-18"
      ]
     },
     "execution_count": 10,
     "metadata": {},
     "output_type": "execute_result"
    }
   ],
   "source": [
    "campaign_data.head()"
   ]
  },
  {
   "cell_type": "markdown",
   "metadata": {},
   "source": [
    "## *Train Data:*"
   ]
  },
  {
   "cell_type": "code",
   "execution_count": 11,
   "metadata": {},
   "outputs": [
    {
     "name": "stdout",
     "output_type": "stream",
     "text": [
      "<class 'pandas.core.frame.DataFrame'>\n",
      "RangeIndex: 78369 entries, 0 to 78368\n",
      "Data columns (total 5 columns):\n",
      "id                   78369 non-null int64\n",
      "campaign_id          78369 non-null int64\n",
      "coupon_id            78369 non-null int64\n",
      "customer_id          78369 non-null int64\n",
      "redemption_status    78369 non-null int64\n",
      "dtypes: int64(5)\n",
      "memory usage: 3.0 MB\n"
     ]
    }
   ],
   "source": [
    "train.info()"
   ]
  },
  {
   "cell_type": "code",
   "execution_count": 12,
   "metadata": {},
   "outputs": [
    {
     "data": {
      "text/html": [
       "<div>\n",
       "<style scoped>\n",
       "    .dataframe tbody tr th:only-of-type {\n",
       "        vertical-align: middle;\n",
       "    }\n",
       "\n",
       "    .dataframe tbody tr th {\n",
       "        vertical-align: top;\n",
       "    }\n",
       "\n",
       "    .dataframe thead th {\n",
       "        text-align: right;\n",
       "    }\n",
       "</style>\n",
       "<table border=\"1\" class=\"dataframe\">\n",
       "  <thead>\n",
       "    <tr style=\"text-align: right;\">\n",
       "      <th></th>\n",
       "      <th>id</th>\n",
       "      <th>campaign_id</th>\n",
       "      <th>coupon_id</th>\n",
       "      <th>customer_id</th>\n",
       "      <th>redemption_status</th>\n",
       "    </tr>\n",
       "  </thead>\n",
       "  <tbody>\n",
       "    <tr>\n",
       "      <td>0</td>\n",
       "      <td>1</td>\n",
       "      <td>13</td>\n",
       "      <td>27</td>\n",
       "      <td>1053</td>\n",
       "      <td>0</td>\n",
       "    </tr>\n",
       "    <tr>\n",
       "      <td>1</td>\n",
       "      <td>2</td>\n",
       "      <td>13</td>\n",
       "      <td>116</td>\n",
       "      <td>48</td>\n",
       "      <td>0</td>\n",
       "    </tr>\n",
       "    <tr>\n",
       "      <td>2</td>\n",
       "      <td>6</td>\n",
       "      <td>9</td>\n",
       "      <td>635</td>\n",
       "      <td>205</td>\n",
       "      <td>0</td>\n",
       "    </tr>\n",
       "    <tr>\n",
       "      <td>3</td>\n",
       "      <td>7</td>\n",
       "      <td>13</td>\n",
       "      <td>644</td>\n",
       "      <td>1050</td>\n",
       "      <td>0</td>\n",
       "    </tr>\n",
       "    <tr>\n",
       "      <td>4</td>\n",
       "      <td>9</td>\n",
       "      <td>8</td>\n",
       "      <td>1017</td>\n",
       "      <td>1489</td>\n",
       "      <td>0</td>\n",
       "    </tr>\n",
       "  </tbody>\n",
       "</table>\n",
       "</div>"
      ],
      "text/plain": [
       "   id  campaign_id  coupon_id  customer_id  redemption_status\n",
       "0   1           13         27         1053                  0\n",
       "1   2           13        116           48                  0\n",
       "2   6            9        635          205                  0\n",
       "3   7           13        644         1050                  0\n",
       "4   9            8       1017         1489                  0"
      ]
     },
     "execution_count": 12,
     "metadata": {},
     "output_type": "execute_result"
    }
   ],
   "source": [
    "train.head()"
   ]
  },
  {
   "cell_type": "code",
   "execution_count": 13,
   "metadata": {},
   "outputs": [
    {
     "data": {
      "text/plain": [
       "78369"
      ]
     },
     "execution_count": 13,
     "metadata": {},
     "output_type": "execute_result"
    }
   ],
   "source": [
    "len(train)"
   ]
  },
  {
   "cell_type": "code",
   "execution_count": 14,
   "metadata": {},
   "outputs": [
    {
     "data": {
      "text/html": [
       "<div>\n",
       "<style scoped>\n",
       "    .dataframe tbody tr th:only-of-type {\n",
       "        vertical-align: middle;\n",
       "    }\n",
       "\n",
       "    .dataframe tbody tr th {\n",
       "        vertical-align: top;\n",
       "    }\n",
       "\n",
       "    .dataframe thead th {\n",
       "        text-align: right;\n",
       "    }\n",
       "</style>\n",
       "<table border=\"1\" class=\"dataframe\">\n",
       "  <thead>\n",
       "    <tr style=\"text-align: right;\">\n",
       "      <th></th>\n",
       "      <th>customer_id</th>\n",
       "    </tr>\n",
       "    <tr>\n",
       "      <th>customer_id</th>\n",
       "      <th></th>\n",
       "    </tr>\n",
       "  </thead>\n",
       "  <tbody>\n",
       "    <tr>\n",
       "      <td>1</td>\n",
       "      <td>94</td>\n",
       "    </tr>\n",
       "    <tr>\n",
       "      <td>3</td>\n",
       "      <td>42</td>\n",
       "    </tr>\n",
       "    <tr>\n",
       "      <td>4</td>\n",
       "      <td>23</td>\n",
       "    </tr>\n",
       "    <tr>\n",
       "      <td>5</td>\n",
       "      <td>52</td>\n",
       "    </tr>\n",
       "    <tr>\n",
       "      <td>6</td>\n",
       "      <td>32</td>\n",
       "    </tr>\n",
       "  </tbody>\n",
       "</table>\n",
       "</div>"
      ],
      "text/plain": [
       "             customer_id\n",
       "customer_id             \n",
       "1                     94\n",
       "3                     42\n",
       "4                     23\n",
       "5                     52\n",
       "6                     32"
      ]
     },
     "execution_count": 14,
     "metadata": {},
     "output_type": "execute_result"
    }
   ],
   "source": [
    "# More than one data points of each customer(customer_id) :\n",
    "\n",
    "train.groupby('customer_id').agg({'customer_id':'count'}).head() # COUNT "
   ]
  },
  {
   "cell_type": "markdown",
   "metadata": {},
   "source": [
    ">   In train data, more than 1 data point is present for the same customer_id\n",
    "\n",
    ">   More than one type of coupon is applied by each customer over the campaigns"
   ]
  },
  {
   "cell_type": "markdown",
   "metadata": {},
   "source": [
    "## *Customer Transaction Data:*"
   ]
  },
  {
   "cell_type": "code",
   "execution_count": 15,
   "metadata": {},
   "outputs": [
    {
     "data": {
      "text/html": [
       "<div>\n",
       "<style scoped>\n",
       "    .dataframe tbody tr th:only-of-type {\n",
       "        vertical-align: middle;\n",
       "    }\n",
       "\n",
       "    .dataframe tbody tr th {\n",
       "        vertical-align: top;\n",
       "    }\n",
       "\n",
       "    .dataframe thead th {\n",
       "        text-align: right;\n",
       "    }\n",
       "</style>\n",
       "<table border=\"1\" class=\"dataframe\">\n",
       "  <thead>\n",
       "    <tr style=\"text-align: right;\">\n",
       "      <th></th>\n",
       "      <th>date</th>\n",
       "      <th>customer_id</th>\n",
       "      <th>item_id</th>\n",
       "      <th>quantity</th>\n",
       "      <th>selling_price</th>\n",
       "      <th>other_discount</th>\n",
       "      <th>coupon_discount</th>\n",
       "    </tr>\n",
       "  </thead>\n",
       "  <tbody>\n",
       "    <tr>\n",
       "      <td>0</td>\n",
       "      <td>2012-01-02</td>\n",
       "      <td>1501</td>\n",
       "      <td>26830</td>\n",
       "      <td>1</td>\n",
       "      <td>35.26</td>\n",
       "      <td>-10.69</td>\n",
       "      <td>0.0</td>\n",
       "    </tr>\n",
       "    <tr>\n",
       "      <td>1</td>\n",
       "      <td>2012-01-02</td>\n",
       "      <td>1501</td>\n",
       "      <td>54253</td>\n",
       "      <td>1</td>\n",
       "      <td>53.43</td>\n",
       "      <td>-13.89</td>\n",
       "      <td>0.0</td>\n",
       "    </tr>\n",
       "    <tr>\n",
       "      <td>2</td>\n",
       "      <td>2012-01-02</td>\n",
       "      <td>1501</td>\n",
       "      <td>31962</td>\n",
       "      <td>1</td>\n",
       "      <td>106.50</td>\n",
       "      <td>-14.25</td>\n",
       "      <td>0.0</td>\n",
       "    </tr>\n",
       "    <tr>\n",
       "      <td>3</td>\n",
       "      <td>2012-01-02</td>\n",
       "      <td>1501</td>\n",
       "      <td>33647</td>\n",
       "      <td>1</td>\n",
       "      <td>67.32</td>\n",
       "      <td>0.00</td>\n",
       "      <td>0.0</td>\n",
       "    </tr>\n",
       "    <tr>\n",
       "      <td>4</td>\n",
       "      <td>2012-01-02</td>\n",
       "      <td>1501</td>\n",
       "      <td>48199</td>\n",
       "      <td>1</td>\n",
       "      <td>71.24</td>\n",
       "      <td>-28.14</td>\n",
       "      <td>0.0</td>\n",
       "    </tr>\n",
       "  </tbody>\n",
       "</table>\n",
       "</div>"
      ],
      "text/plain": [
       "         date  customer_id  item_id  quantity  selling_price  other_discount  \\\n",
       "0  2012-01-02         1501    26830         1          35.26          -10.69   \n",
       "1  2012-01-02         1501    54253         1          53.43          -13.89   \n",
       "2  2012-01-02         1501    31962         1         106.50          -14.25   \n",
       "3  2012-01-02         1501    33647         1          67.32            0.00   \n",
       "4  2012-01-02         1501    48199         1          71.24          -28.14   \n",
       "\n",
       "   coupon_discount  \n",
       "0              0.0  \n",
       "1              0.0  \n",
       "2              0.0  \n",
       "3              0.0  \n",
       "4              0.0  "
      ]
     },
     "execution_count": 15,
     "metadata": {},
     "output_type": "execute_result"
    }
   ],
   "source": [
    "customer_transaction_data.head()"
   ]
  },
  {
   "cell_type": "code",
   "execution_count": 16,
   "metadata": {},
   "outputs": [
    {
     "data": {
      "text/html": [
       "<div>\n",
       "<style scoped>\n",
       "    .dataframe tbody tr th:only-of-type {\n",
       "        vertical-align: middle;\n",
       "    }\n",
       "\n",
       "    .dataframe tbody tr th {\n",
       "        vertical-align: top;\n",
       "    }\n",
       "\n",
       "    .dataframe thead th {\n",
       "        text-align: right;\n",
       "    }\n",
       "</style>\n",
       "<table border=\"1\" class=\"dataframe\">\n",
       "  <thead>\n",
       "    <tr style=\"text-align: right;\">\n",
       "      <th></th>\n",
       "      <th>customer_id</th>\n",
       "    </tr>\n",
       "    <tr>\n",
       "      <th>customer_id</th>\n",
       "      <th></th>\n",
       "    </tr>\n",
       "  </thead>\n",
       "  <tbody>\n",
       "    <tr>\n",
       "      <td>1</td>\n",
       "      <td>1048</td>\n",
       "    </tr>\n",
       "    <tr>\n",
       "      <td>2</td>\n",
       "      <td>419</td>\n",
       "    </tr>\n",
       "    <tr>\n",
       "      <td>3</td>\n",
       "      <td>705</td>\n",
       "    </tr>\n",
       "    <tr>\n",
       "      <td>4</td>\n",
       "      <td>220</td>\n",
       "    </tr>\n",
       "    <tr>\n",
       "      <td>5</td>\n",
       "      <td>792</td>\n",
       "    </tr>\n",
       "  </tbody>\n",
       "</table>\n",
       "</div>"
      ],
      "text/plain": [
       "             customer_id\n",
       "customer_id             \n",
       "1                   1048\n",
       "2                    419\n",
       "3                    705\n",
       "4                    220\n",
       "5                    792"
      ]
     },
     "execution_count": 16,
     "metadata": {},
     "output_type": "execute_result"
    }
   ],
   "source": [
    "# More than one data points of each customer(customer_id) :\n",
    "\n",
    "customer_transaction_data.groupby('customer_id').agg({'customer_id':'count'}).head() # COUNT "
   ]
  },
  {
   "cell_type": "markdown",
   "metadata": {},
   "source": [
    ">   In customer_transaction_data, more than 1 data point is present for the same customer_id.\n",
    "\n",
    ">   More than one transaction has been performed by each customer over the campaigns."
   ]
  },
  {
   "cell_type": "code",
   "execution_count": 17,
   "metadata": {},
   "outputs": [],
   "source": [
    "# Aggregrating transaction featurs for each customer_id(customer) :\n",
    "\n",
    "# More than one data points of each customer(customer_id) :\n",
    "\n",
    "customer_transaction_data_groupBy = customer_transaction_data.groupby('customer_id').agg({'selling_price':['mean', 'max', 'min', 'sum'],\n",
    "                                                     'other_discount':['mean', 'max', 'min', 'sum'],\n",
    "                                                      'coupon_discount':['mean', 'max', 'min', 'sum']})  "
   ]
  },
  {
   "cell_type": "code",
   "execution_count": 18,
   "metadata": {},
   "outputs": [
    {
     "data": {
      "text/html": [
       "<div>\n",
       "<style scoped>\n",
       "    .dataframe tbody tr th:only-of-type {\n",
       "        vertical-align: middle;\n",
       "    }\n",
       "\n",
       "    .dataframe tbody tr th {\n",
       "        vertical-align: top;\n",
       "    }\n",
       "\n",
       "    .dataframe thead tr th {\n",
       "        text-align: left;\n",
       "    }\n",
       "\n",
       "    .dataframe thead tr:last-of-type th {\n",
       "        text-align: right;\n",
       "    }\n",
       "</style>\n",
       "<table border=\"1\" class=\"dataframe\">\n",
       "  <thead>\n",
       "    <tr>\n",
       "      <th></th>\n",
       "      <th colspan=\"4\" halign=\"left\">selling_price</th>\n",
       "      <th colspan=\"4\" halign=\"left\">other_discount</th>\n",
       "      <th colspan=\"4\" halign=\"left\">coupon_discount</th>\n",
       "    </tr>\n",
       "    <tr>\n",
       "      <th></th>\n",
       "      <th>mean</th>\n",
       "      <th>max</th>\n",
       "      <th>min</th>\n",
       "      <th>sum</th>\n",
       "      <th>mean</th>\n",
       "      <th>max</th>\n",
       "      <th>min</th>\n",
       "      <th>sum</th>\n",
       "      <th>mean</th>\n",
       "      <th>max</th>\n",
       "      <th>min</th>\n",
       "      <th>sum</th>\n",
       "    </tr>\n",
       "    <tr>\n",
       "      <th>customer_id</th>\n",
       "      <th></th>\n",
       "      <th></th>\n",
       "      <th></th>\n",
       "      <th></th>\n",
       "      <th></th>\n",
       "      <th></th>\n",
       "      <th></th>\n",
       "      <th></th>\n",
       "      <th></th>\n",
       "      <th></th>\n",
       "      <th></th>\n",
       "      <th></th>\n",
       "    </tr>\n",
       "  </thead>\n",
       "  <tbody>\n",
       "    <tr>\n",
       "      <td>1</td>\n",
       "      <td>94.001842</td>\n",
       "      <td>445.25</td>\n",
       "      <td>12.11</td>\n",
       "      <td>98513.93</td>\n",
       "      <td>-16.250382</td>\n",
       "      <td>0.0</td>\n",
       "      <td>-372.23</td>\n",
       "      <td>-17030.40</td>\n",
       "      <td>-2.019876</td>\n",
       "      <td>0.0</td>\n",
       "      <td>-106.86</td>\n",
       "      <td>-2116.83</td>\n",
       "    </tr>\n",
       "    <tr>\n",
       "      <td>2</td>\n",
       "      <td>102.864033</td>\n",
       "      <td>640.80</td>\n",
       "      <td>14.25</td>\n",
       "      <td>43100.03</td>\n",
       "      <td>-16.830430</td>\n",
       "      <td>0.0</td>\n",
       "      <td>-312.03</td>\n",
       "      <td>-7051.95</td>\n",
       "      <td>-0.595084</td>\n",
       "      <td>0.0</td>\n",
       "      <td>-89.05</td>\n",
       "      <td>-249.34</td>\n",
       "    </tr>\n",
       "    <tr>\n",
       "      <td>3</td>\n",
       "      <td>103.617404</td>\n",
       "      <td>862.00</td>\n",
       "      <td>8.90</td>\n",
       "      <td>73050.27</td>\n",
       "      <td>-22.714227</td>\n",
       "      <td>0.0</td>\n",
       "      <td>-463.06</td>\n",
       "      <td>-16013.53</td>\n",
       "      <td>-3.091546</td>\n",
       "      <td>0.0</td>\n",
       "      <td>-142.48</td>\n",
       "      <td>-2179.54</td>\n",
       "    </tr>\n",
       "    <tr>\n",
       "      <td>4</td>\n",
       "      <td>154.423727</td>\n",
       "      <td>1330.05</td>\n",
       "      <td>14.25</td>\n",
       "      <td>33973.22</td>\n",
       "      <td>-13.305409</td>\n",
       "      <td>0.0</td>\n",
       "      <td>-390.04</td>\n",
       "      <td>-2927.19</td>\n",
       "      <td>-0.404773</td>\n",
       "      <td>0.0</td>\n",
       "      <td>-89.05</td>\n",
       "      <td>-89.05</td>\n",
       "    </tr>\n",
       "    <tr>\n",
       "      <td>5</td>\n",
       "      <td>130.827146</td>\n",
       "      <td>1485.35</td>\n",
       "      <td>12.11</td>\n",
       "      <td>103615.10</td>\n",
       "      <td>-13.657917</td>\n",
       "      <td>0.0</td>\n",
       "      <td>-216.21</td>\n",
       "      <td>-10817.07</td>\n",
       "      <td>-0.114684</td>\n",
       "      <td>0.0</td>\n",
       "      <td>-71.24</td>\n",
       "      <td>-90.83</td>\n",
       "    </tr>\n",
       "  </tbody>\n",
       "</table>\n",
       "</div>"
      ],
      "text/plain": [
       "            selling_price                            other_discount       \\\n",
       "                     mean      max    min        sum           mean  max   \n",
       "customer_id                                                                \n",
       "1               94.001842   445.25  12.11   98513.93     -16.250382  0.0   \n",
       "2              102.864033   640.80  14.25   43100.03     -16.830430  0.0   \n",
       "3              103.617404   862.00   8.90   73050.27     -22.714227  0.0   \n",
       "4              154.423727  1330.05  14.25   33973.22     -13.305409  0.0   \n",
       "5              130.827146  1485.35  12.11  103615.10     -13.657917  0.0   \n",
       "\n",
       "                              coupon_discount                        \n",
       "                min       sum            mean  max     min      sum  \n",
       "customer_id                                                          \n",
       "1           -372.23 -17030.40       -2.019876  0.0 -106.86 -2116.83  \n",
       "2           -312.03  -7051.95       -0.595084  0.0  -89.05  -249.34  \n",
       "3           -463.06 -16013.53       -3.091546  0.0 -142.48 -2179.54  \n",
       "4           -390.04  -2927.19       -0.404773  0.0  -89.05   -89.05  \n",
       "5           -216.21 -10817.07       -0.114684  0.0  -71.24   -90.83  "
      ]
     },
     "execution_count": 18,
     "metadata": {},
     "output_type": "execute_result"
    }
   ],
   "source": [
    "customer_transaction_data_groupBy.head()"
   ]
  },
  {
   "cell_type": "markdown",
   "metadata": {},
   "source": [
    "## *Customer Demographs:*"
   ]
  },
  {
   "cell_type": "code",
   "execution_count": 19,
   "metadata": {},
   "outputs": [
    {
     "data": {
      "text/html": [
       "<div>\n",
       "<style scoped>\n",
       "    .dataframe tbody tr th:only-of-type {\n",
       "        vertical-align: middle;\n",
       "    }\n",
       "\n",
       "    .dataframe tbody tr th {\n",
       "        vertical-align: top;\n",
       "    }\n",
       "\n",
       "    .dataframe thead th {\n",
       "        text-align: right;\n",
       "    }\n",
       "</style>\n",
       "<table border=\"1\" class=\"dataframe\">\n",
       "  <thead>\n",
       "    <tr style=\"text-align: right;\">\n",
       "      <th></th>\n",
       "      <th>customer_id</th>\n",
       "      <th>age_range</th>\n",
       "      <th>marital_status</th>\n",
       "      <th>rented</th>\n",
       "      <th>family_size</th>\n",
       "      <th>no_of_children</th>\n",
       "      <th>income_bracket</th>\n",
       "    </tr>\n",
       "  </thead>\n",
       "  <tbody>\n",
       "    <tr>\n",
       "      <td>0</td>\n",
       "      <td>1</td>\n",
       "      <td>70+</td>\n",
       "      <td>Married</td>\n",
       "      <td>0</td>\n",
       "      <td>2</td>\n",
       "      <td>NaN</td>\n",
       "      <td>4</td>\n",
       "    </tr>\n",
       "    <tr>\n",
       "      <td>1</td>\n",
       "      <td>6</td>\n",
       "      <td>46-55</td>\n",
       "      <td>Married</td>\n",
       "      <td>0</td>\n",
       "      <td>2</td>\n",
       "      <td>NaN</td>\n",
       "      <td>5</td>\n",
       "    </tr>\n",
       "    <tr>\n",
       "      <td>2</td>\n",
       "      <td>7</td>\n",
       "      <td>26-35</td>\n",
       "      <td>NaN</td>\n",
       "      <td>0</td>\n",
       "      <td>3</td>\n",
       "      <td>1</td>\n",
       "      <td>3</td>\n",
       "    </tr>\n",
       "    <tr>\n",
       "      <td>3</td>\n",
       "      <td>8</td>\n",
       "      <td>26-35</td>\n",
       "      <td>NaN</td>\n",
       "      <td>0</td>\n",
       "      <td>4</td>\n",
       "      <td>2</td>\n",
       "      <td>6</td>\n",
       "    </tr>\n",
       "    <tr>\n",
       "      <td>4</td>\n",
       "      <td>10</td>\n",
       "      <td>46-55</td>\n",
       "      <td>Single</td>\n",
       "      <td>0</td>\n",
       "      <td>1</td>\n",
       "      <td>NaN</td>\n",
       "      <td>5</td>\n",
       "    </tr>\n",
       "  </tbody>\n",
       "</table>\n",
       "</div>"
      ],
      "text/plain": [
       "   customer_id age_range marital_status  rented family_size no_of_children  \\\n",
       "0            1       70+        Married       0           2            NaN   \n",
       "1            6     46-55        Married       0           2            NaN   \n",
       "2            7     26-35            NaN       0           3              1   \n",
       "3            8     26-35            NaN       0           4              2   \n",
       "4           10     46-55         Single       0           1            NaN   \n",
       "\n",
       "   income_bracket  \n",
       "0               4  \n",
       "1               5  \n",
       "2               3  \n",
       "3               6  \n",
       "4               5  "
      ]
     },
     "execution_count": 19,
     "metadata": {},
     "output_type": "execute_result"
    }
   ],
   "source": [
    "customer_demographs.head()"
   ]
  },
  {
   "cell_type": "code",
   "execution_count": 20,
   "metadata": {},
   "outputs": [
    {
     "name": "stdout",
     "output_type": "stream",
     "text": [
      "<class 'pandas.core.frame.DataFrame'>\n",
      "RangeIndex: 760 entries, 0 to 759\n",
      "Data columns (total 7 columns):\n",
      "customer_id       760 non-null int64\n",
      "age_range         760 non-null object\n",
      "marital_status    431 non-null object\n",
      "rented            760 non-null int64\n",
      "family_size       760 non-null object\n",
      "no_of_children    222 non-null object\n",
      "income_bracket    760 non-null int64\n",
      "dtypes: int64(3), object(4)\n",
      "memory usage: 41.7+ KB\n"
     ]
    }
   ],
   "source": [
    "customer_demographs.info()"
   ]
  },
  {
   "cell_type": "code",
   "execution_count": 21,
   "metadata": {},
   "outputs": [
    {
     "data": {
      "text/plain": [
       "<matplotlib.axes._subplots.AxesSubplot at 0xd6c066608>"
      ]
     },
     "execution_count": 21,
     "metadata": {},
     "output_type": "execute_result"
    },
    {
     "data": {
      "image/png": "[encoded data removed]",
      "text/plain": [
       "<Figure size 1080x360 with 2 Axes>"
      ]
     },
     "metadata": {
      "needs_background": "light"
     },
     "output_type": "display_data"
    }
   ],
   "source": [
    "# Evaluation for nulls in 'customer_demographs' :\n",
    "\n",
    "plt.figure(figsize=(15, 5))\n",
    "sns.heatmap(customer_demographs.isnull(), cmap='viridis')"
   ]
  },
  {
   "cell_type": "markdown",
   "metadata": {},
   "source": [
    ">   **Maritial_status** & **No_of_Children** are found to be containing Nulls :"
   ]
  },
  {
   "cell_type": "markdown",
   "metadata": {},
   "source": [
    "###  Feature 'no_of_children' imputation  :"
   ]
  },
  {
   "cell_type": "code",
   "execution_count": 22,
   "metadata": {},
   "outputs": [
    {
     "data": {
      "text/html": [
       "<div>\n",
       "<style scoped>\n",
       "    .dataframe tbody tr th:only-of-type {\n",
       "        vertical-align: middle;\n",
       "    }\n",
       "\n",
       "    .dataframe tbody tr th {\n",
       "        vertical-align: top;\n",
       "    }\n",
       "\n",
       "    .dataframe thead th {\n",
       "        text-align: right;\n",
       "    }\n",
       "</style>\n",
       "<table border=\"1\" class=\"dataframe\">\n",
       "  <thead>\n",
       "    <tr style=\"text-align: right;\">\n",
       "      <th></th>\n",
       "      <th>customer_id</th>\n",
       "      <th>age_range</th>\n",
       "      <th>marital_status</th>\n",
       "      <th>rented</th>\n",
       "      <th>family_size</th>\n",
       "      <th>no_of_children</th>\n",
       "      <th>income_bracket</th>\n",
       "    </tr>\n",
       "  </thead>\n",
       "  <tbody>\n",
       "    <tr>\n",
       "      <td>0</td>\n",
       "      <td>1</td>\n",
       "      <td>70+</td>\n",
       "      <td>Married</td>\n",
       "      <td>0</td>\n",
       "      <td>2</td>\n",
       "      <td>NaN</td>\n",
       "      <td>4</td>\n",
       "    </tr>\n",
       "    <tr>\n",
       "      <td>1</td>\n",
       "      <td>6</td>\n",
       "      <td>46-55</td>\n",
       "      <td>Married</td>\n",
       "      <td>0</td>\n",
       "      <td>2</td>\n",
       "      <td>NaN</td>\n",
       "      <td>5</td>\n",
       "    </tr>\n",
       "    <tr>\n",
       "      <td>2</td>\n",
       "      <td>7</td>\n",
       "      <td>26-35</td>\n",
       "      <td>NaN</td>\n",
       "      <td>0</td>\n",
       "      <td>3</td>\n",
       "      <td>1</td>\n",
       "      <td>3</td>\n",
       "    </tr>\n",
       "    <tr>\n",
       "      <td>3</td>\n",
       "      <td>8</td>\n",
       "      <td>26-35</td>\n",
       "      <td>NaN</td>\n",
       "      <td>0</td>\n",
       "      <td>4</td>\n",
       "      <td>2</td>\n",
       "      <td>6</td>\n",
       "    </tr>\n",
       "    <tr>\n",
       "      <td>4</td>\n",
       "      <td>10</td>\n",
       "      <td>46-55</td>\n",
       "      <td>Single</td>\n",
       "      <td>0</td>\n",
       "      <td>1</td>\n",
       "      <td>NaN</td>\n",
       "      <td>5</td>\n",
       "    </tr>\n",
       "  </tbody>\n",
       "</table>\n",
       "</div>"
      ],
      "text/plain": [
       "   customer_id age_range marital_status  rented family_size no_of_children  \\\n",
       "0            1       70+        Married       0           2            NaN   \n",
       "1            6     46-55        Married       0           2            NaN   \n",
       "2            7     26-35            NaN       0           3              1   \n",
       "3            8     26-35            NaN       0           4              2   \n",
       "4           10     46-55         Single       0           1            NaN   \n",
       "\n",
       "   income_bracket  \n",
       "0               4  \n",
       "1               5  \n",
       "2               3  \n",
       "3               6  \n",
       "4               5  "
      ]
     },
     "execution_count": 22,
     "metadata": {},
     "output_type": "execute_result"
    }
   ],
   "source": [
    "customer_demographs.head()"
   ]
  },
  {
   "cell_type": "code",
   "execution_count": 23,
   "metadata": {},
   "outputs": [],
   "source": [
    "# Replacing the 'NaN' with string 'NaN' for analysing distributions :\n",
    "\n",
    "customer_demographs['no_of_children'] = customer_demographs['no_of_children'].apply(lambda x:'NaN' if str(x)=='nan' else x)\n",
    "customer_demographs['marital_status'] = customer_demographs['marital_status'].apply(lambda x:'NaN' if str(x)=='nan' else x)"
   ]
  },
  {
   "cell_type": "code",
   "execution_count": 24,
   "metadata": {},
   "outputs": [
    {
     "data": {
      "text/plain": [
       "NaN    538\n",
       "1      107\n",
       "3+      60\n",
       "2       55\n",
       "Name: no_of_children, dtype: int64"
      ]
     },
     "execution_count": 24,
     "metadata": {},
     "output_type": "execute_result"
    }
   ],
   "source": [
    "# 538 null values in 'no_of_childern' feature which we need to impute : \n",
    "\n",
    "customer_demographs['no_of_children'].value_counts()"
   ]
  },
  {
   "cell_type": "code",
   "execution_count": 25,
   "metadata": {},
   "outputs": [
    {
     "data": {
      "text/plain": [
       "<matplotlib.axes._subplots.AxesSubplot at 0xd6c22c788>"
      ]
     },
     "execution_count": 25,
     "metadata": {},
     "output_type": "execute_result"
    },
    {
     "data": {
      "image/png": "[encoded data removed]",
      "text/plain": [
       "<Figure size 1440x720 with 3 Axes>"
      ]
     },
     "metadata": {
      "needs_background": "light"
     },
     "output_type": "display_data"
    }
   ],
   "source": [
    "# No of nulls in 'no_of_children', 'age_range' wise :\n",
    "\n",
    "plt.figure(figsize=(20, 10))\n",
    "\n",
    "plt.subplot(2,2,1)\n",
    "plt.title('No of childred feature distribution Age_range wise')\n",
    "sns.countplot(data=customer_demographs, x='no_of_children', hue='age_range')\n",
    "\n",
    "# No of nulls in 'no_of_children', 'marital_status' wise :\n",
    "\n",
    "plt.subplot(2,2,2)\n",
    "plt.title('No_of_childred feature distribution Marital_status wise')\n",
    "sns.countplot(data=customer_demographs, x='no_of_children', hue='marital_status')\n",
    "\n",
    "\n",
    "\n",
    "# if marital_status='single':   set no_of_childern='0'\n",
    "\n",
    "for i in range(len(customer_demographs)):\n",
    "    \n",
    "    if (customer_demographs.loc[i, 'marital_status']=='Single') and (customer_demographs.loc[i, 'no_of_children']=='NaN'):\n",
    "        customer_demographs.loc[i, 'no_of_children']='0'  # '0' as in string\n",
    "        \n",
    "        \n",
    "# No of nulls in 'no_of_children', 'marital_status' wise :\n",
    "\n",
    "plt.subplot(2,2,4)\n",
    "plt.title('No_of_childred feature distribution Marital_status wise After imputation')\n",
    "sns.countplot(data=customer_demographs, x='no_of_children', hue='marital_status')      "
   ]
  },
  {
   "cell_type": "markdown",
   "metadata": {},
   "source": [
    "> 1.) For the **'no_of_children'** as Null, we imputed the same to be '0' where the ***martial status*** is 'Single'.\n",
    "\n",
    "> 2.) For the ***'no_of_children'*** as Null, and ***marital_status***='Married', we shall impute according to the feature \"age_range\". "
   ]
  },
  {
   "cell_type": "code",
   "execution_count": 26,
   "metadata": {},
   "outputs": [
    {
     "data": {
      "text/plain": [
       "NaN    447\n",
       "1      107\n",
       "0       91\n",
       "3+      60\n",
       "2       55\n",
       "Name: no_of_children, dtype: int64"
      ]
     },
     "execution_count": 26,
     "metadata": {},
     "output_type": "execute_result"
    }
   ],
   "source": [
    "customer_demographs.no_of_children.value_counts()"
   ]
  },
  {
   "cell_type": "code",
   "execution_count": 27,
   "metadata": {},
   "outputs": [
    {
     "name": "stdout",
     "output_type": "stream",
     "text": [
      "<class 'pandas.core.frame.DataFrame'>\n",
      "RangeIndex: 760 entries, 0 to 759\n",
      "Data columns (total 7 columns):\n",
      "customer_id       760 non-null int64\n",
      "age_range         760 non-null object\n",
      "marital_status    760 non-null object\n",
      "rented            760 non-null int64\n",
      "family_size       760 non-null object\n",
      "no_of_children    760 non-null object\n",
      "income_bracket    760 non-null int64\n",
      "dtypes: int64(3), object(4)\n",
      "memory usage: 41.7+ KB\n"
     ]
    }
   ],
   "source": [
    "customer_demographs.info()"
   ]
  },
  {
   "cell_type": "code",
   "execution_count": 28,
   "metadata": {},
   "outputs": [
    {
     "data": {
      "text/html": [
       "<div>\n",
       "<style scoped>\n",
       "    .dataframe tbody tr th:only-of-type {\n",
       "        vertical-align: middle;\n",
       "    }\n",
       "\n",
       "    .dataframe tbody tr th {\n",
       "        vertical-align: top;\n",
       "    }\n",
       "\n",
       "    .dataframe thead th {\n",
       "        text-align: right;\n",
       "    }\n",
       "</style>\n",
       "<table border=\"1\" class=\"dataframe\">\n",
       "  <thead>\n",
       "    <tr style=\"text-align: right;\">\n",
       "      <th></th>\n",
       "      <th>customer_id</th>\n",
       "      <th>age_range</th>\n",
       "      <th>marital_status</th>\n",
       "      <th>rented</th>\n",
       "      <th>family_size</th>\n",
       "      <th>no_of_children</th>\n",
       "      <th>income_bracket</th>\n",
       "    </tr>\n",
       "  </thead>\n",
       "  <tbody>\n",
       "    <tr>\n",
       "      <td>57</td>\n",
       "      <td>110</td>\n",
       "      <td>18-25</td>\n",
       "      <td>Married</td>\n",
       "      <td>0</td>\n",
       "      <td>3</td>\n",
       "      <td>1</td>\n",
       "      <td>6</td>\n",
       "    </tr>\n",
       "    <tr>\n",
       "      <td>186</td>\n",
       "      <td>377</td>\n",
       "      <td>18-25</td>\n",
       "      <td>Married</td>\n",
       "      <td>1</td>\n",
       "      <td>3</td>\n",
       "      <td>1</td>\n",
       "      <td>4</td>\n",
       "    </tr>\n",
       "    <tr>\n",
       "      <td>380</td>\n",
       "      <td>775</td>\n",
       "      <td>18-25</td>\n",
       "      <td>Married</td>\n",
       "      <td>0</td>\n",
       "      <td>3</td>\n",
       "      <td>1</td>\n",
       "      <td>2</td>\n",
       "    </tr>\n",
       "    <tr>\n",
       "      <td>475</td>\n",
       "      <td>965</td>\n",
       "      <td>18-25</td>\n",
       "      <td>Married</td>\n",
       "      <td>1</td>\n",
       "      <td>3</td>\n",
       "      <td>1</td>\n",
       "      <td>4</td>\n",
       "    </tr>\n",
       "    <tr>\n",
       "      <td>539</td>\n",
       "      <td>1121</td>\n",
       "      <td>18-25</td>\n",
       "      <td>Married</td>\n",
       "      <td>0</td>\n",
       "      <td>3</td>\n",
       "      <td>1</td>\n",
       "      <td>5</td>\n",
       "    </tr>\n",
       "  </tbody>\n",
       "</table>\n",
       "</div>"
      ],
      "text/plain": [
       "     customer_id age_range marital_status  rented family_size no_of_children  \\\n",
       "57           110     18-25        Married       0           3              1   \n",
       "186          377     18-25        Married       1           3              1   \n",
       "380          775     18-25        Married       0           3              1   \n",
       "475          965     18-25        Married       1           3              1   \n",
       "539         1121     18-25        Married       0           3              1   \n",
       "\n",
       "     income_bracket  \n",
       "57                6  \n",
       "186               4  \n",
       "380               2  \n",
       "475               4  \n",
       "539               5  "
      ]
     },
     "execution_count": 28,
     "metadata": {},
     "output_type": "execute_result"
    }
   ],
   "source": [
    "customer_demographs[(customer_demographs['no_of_children']!='NaN') & \n",
    "                                            (customer_demographs['marital_status']=='Married')& \n",
    "                                            (customer_demographs['age_range']=='18-25')]"
   ]
  },
  {
   "cell_type": "code",
   "execution_count": 29,
   "metadata": {},
   "outputs": [],
   "source": [
    "# Where no_of_children= \"not null('NaN')\" and marital_status='Married' and with different age_range :\n",
    "\n",
    "\n",
    "impute_children_age_married_PLUS_46_55 = customer_demographs[(customer_demographs['no_of_children']!='NaN') & \n",
    "                                            (customer_demographs['marital_status']=='Married')& \n",
    "                                            (customer_demographs['age_range']=='46-55')]\n",
    "\n",
    "impute_children_age_married_PLUS_70plus = customer_demographs[(customer_demographs['no_of_children']!='NaN') & \n",
    "                                            (customer_demographs['marital_status']=='Married')& \n",
    "                                            (customer_demographs['age_range']=='70+')]\n",
    "\n",
    "impute_children_age_married_PLUS_26_35 = customer_demographs[(customer_demographs['no_of_children']!='NaN') & \n",
    "                                            (customer_demographs['marital_status']=='Married')& \n",
    "                                            (customer_demographs['age_range']=='26-35')]\n",
    "\n",
    "impute_children_age_married_PLUS_36_45 = customer_demographs[(customer_demographs['no_of_children']!='NaN') & \n",
    "                                            (customer_demographs['marital_status']=='Married')& \n",
    "                                            (customer_demographs['age_range']=='36-45')]\n",
    "\n",
    "impute_children_age_married_PLUS_56_70 = customer_demographs[(customer_demographs['no_of_children']!='NaN') & \n",
    "                                            (customer_demographs['marital_status']=='Married')& \n",
    "                                            (customer_demographs['age_range']=='56-70')]\n",
    "\n",
    "impute_children_age_married_PLUS_18_25 = customer_demographs[(customer_demographs['no_of_children']!='NaN') & \n",
    "                                            (customer_demographs['marital_status']=='Married')& \n",
    "                                            (customer_demographs['age_range']=='18-25')]"
   ]
  },
  {
   "cell_type": "code",
   "execution_count": 30,
   "metadata": {},
   "outputs": [
    {
     "data": {
      "text/plain": [
       "<matplotlib.axes._subplots.AxesSubplot at 0xd6d680a48>"
      ]
     },
     "execution_count": 30,
     "metadata": {},
     "output_type": "execute_result"
    },
    {
     "data": {
      "image/png": "[encoded data removed]",
      "text/plain": [
       "<Figure size 1440x2880 with 7 Axes>"
      ]
     },
     "metadata": {
      "needs_background": "light"
     },
     "output_type": "display_data"
    }
   ],
   "source": [
    "# ('No_of_Children' is not 'NaN', null) AND (marital_status='married') AND (age_range=###) \n",
    "\n",
    "impute_children_age = customer_demographs[(customer_demographs['no_of_children']=='NaN') & \n",
    "                                          (customer_demographs['marital_status']=='Married')]\n",
    "\n",
    "plt.figure(figsize=(20, 40))\n",
    "\n",
    "plt.subplot(7,2,1)\n",
    "plt.title('age_range of married with no_of_children as Null')\n",
    "sns.countplot(data=impute_children_age, x='no_of_children', hue='age_range')\n",
    "\n",
    "plt.subplot(7,2,2)\n",
    "plt.title('age_range 46-55 of married with no_of_children as not Null')\n",
    "sns.countplot(data=impute_children_age_married_PLUS_46_55, x='no_of_children')\n",
    "\n",
    "plt.subplot(7,2,3)\n",
    "plt.title('age_range 70+ of married with no_of_children as not Null')\n",
    "sns.countplot(data=impute_children_age_married_PLUS_70plus, x='no_of_children')\n",
    "\n",
    "plt.subplot(7,2,4)\n",
    "plt.title('age_range 26-35 of married with no_of_children as not Null')\n",
    "sns.countplot(data=impute_children_age_married_PLUS_26_35, x='no_of_children')\n",
    "\n",
    "plt.subplot(7,2,5)\n",
    "plt.title('age_range 36-45 of married with no_of_children as not Null')\n",
    "sns.countplot(data=impute_children_age_married_PLUS_36_45, x='no_of_children')\n",
    "\n",
    "plt.subplot(7,2,6)\n",
    "plt.title('age_range 56-70 of married with no_of_children as not Null')\n",
    "sns.countplot(data=impute_children_age_married_PLUS_56_70, x='no_of_children')\n",
    "\n",
    "plt.subplot(7,2,7)\n",
    "plt.title('age_range 18-25 of married with no_of_children as not Null')\n",
    "sns.countplot(data=impute_children_age_married_PLUS_18_25, x='no_of_children')"
   ]
  },
  {
   "cell_type": "code",
   "execution_count": 31,
   "metadata": {},
   "outputs": [],
   "source": [
    "# Feature imputation according to the maximum occurences of the 'age_range' class values in 'married' and 'no_of_children' is null:\n",
    "\n",
    "\n",
    "customer_demographs.ix[(customer_demographs['no_of_children']=='NaN') & \n",
    "                        (customer_demographs['marital_status']=='Married')& \n",
    "                        (customer_demographs['age_range']=='70+'), 'no_of_children'] = '1'  \n",
    "\n",
    "customer_demographs.ix[(customer_demographs['no_of_children']=='NaN') & \n",
    "                        (customer_demographs['marital_status']=='Married')& \n",
    "                        (customer_demographs['age_range']=='46-55'), 'no_of_children'] = '1'\n",
    "\n",
    "customer_demographs.ix[(customer_demographs['no_of_children']=='NaN') & \n",
    "                        (customer_demographs['marital_status']=='Married')& \n",
    "                        (customer_demographs['age_range']=='26-35'), 'no_of_children'] = '1'\n",
    "\n",
    "customer_demographs.ix[(customer_demographs['no_of_children']=='NaN') & \n",
    "                        (customer_demographs['marital_status']=='Married')& \n",
    "                        (customer_demographs['age_range']=='36-45'), 'no_of_children'] = '1'\n",
    "\n",
    "customer_demographs.ix[(customer_demographs['no_of_children']=='NaN') & \n",
    "                        (customer_demographs['marital_status']=='Married')& \n",
    "                        (customer_demographs['age_range']=='56-70'), 'no_of_children'] = '2'\n",
    "\n",
    "customer_demographs.ix[(customer_demographs['no_of_children']=='NaN') & \n",
    "                        (customer_demographs['marital_status']=='Married')& \n",
    "                        (customer_demographs['age_range']=='18-25'), 'no_of_children'] = '1'"
   ]
  },
  {
   "cell_type": "code",
   "execution_count": 32,
   "metadata": {},
   "outputs": [
    {
     "data": {
      "text/plain": [
       "NaN    272\n",
       "1      253\n",
       "0       91\n",
       "2       84\n",
       "3+      60\n",
       "Name: no_of_children, dtype: int64"
      ]
     },
     "execution_count": 32,
     "metadata": {},
     "output_type": "execute_result"
    }
   ],
   "source": [
    "# Only 272 'NaN' remains in the 'no_of_children' feature : \n",
    "\n",
    "customer_demographs.no_of_children.value_counts()"
   ]
  },
  {
   "cell_type": "code",
   "execution_count": 33,
   "metadata": {},
   "outputs": [
    {
     "data": {
      "text/plain": [
       "272"
      ]
     },
     "execution_count": 33,
     "metadata": {},
     "output_type": "execute_result"
    }
   ],
   "source": [
    "#  CASE - I : Now the no of points having only no_of_children=='NaN' and marital_status=='NaN' only :\n",
    "\n",
    "len(customer_demographs[(customer_demographs['no_of_children']=='NaN') & (customer_demographs['marital_status']=='NaN')])"
   ]
  },
  {
   "cell_type": "code",
   "execution_count": 34,
   "metadata": {},
   "outputs": [
    {
     "data": {
      "text/plain": [
       "272"
      ]
     },
     "execution_count": 34,
     "metadata": {},
     "output_type": "execute_result"
    }
   ],
   "source": [
    "# CASE - II : Now the no of points having only no_of_children=='NaN' only :\n",
    "\n",
    "len(customer_demographs[(customer_demographs['no_of_children']=='NaN')])"
   ]
  },
  {
   "cell_type": "code",
   "execution_count": 35,
   "metadata": {},
   "outputs": [
    {
     "data": {
      "text/plain": [
       "57"
      ]
     },
     "execution_count": 35,
     "metadata": {},
     "output_type": "execute_result"
    }
   ],
   "source": [
    "# CASE - III : Now the no of points having only marital_status=='NaN' only :\n",
    "\n",
    "len(customer_demographs[(customer_demographs['marital_status']=='NaN') & (customer_demographs['no_of_children']!='NaN')])"
   ]
  },
  {
   "cell_type": "code",
   "execution_count": 36,
   "metadata": {},
   "outputs": [
    {
     "data": {
      "text/html": [
       "<div>\n",
       "<style scoped>\n",
       "    .dataframe tbody tr th:only-of-type {\n",
       "        vertical-align: middle;\n",
       "    }\n",
       "\n",
       "    .dataframe tbody tr th {\n",
       "        vertical-align: top;\n",
       "    }\n",
       "\n",
       "    .dataframe thead th {\n",
       "        text-align: right;\n",
       "    }\n",
       "</style>\n",
       "<table border=\"1\" class=\"dataframe\">\n",
       "  <thead>\n",
       "    <tr style=\"text-align: right;\">\n",
       "      <th></th>\n",
       "      <th>customer_id</th>\n",
       "      <th>age_range</th>\n",
       "      <th>marital_status</th>\n",
       "      <th>rented</th>\n",
       "      <th>family_size</th>\n",
       "      <th>no_of_children</th>\n",
       "      <th>income_bracket</th>\n",
       "    </tr>\n",
       "  </thead>\n",
       "  <tbody>\n",
       "    <tr>\n",
       "      <td>10</td>\n",
       "      <td>17</td>\n",
       "      <td>36-45</td>\n",
       "      <td>NaN</td>\n",
       "      <td>0</td>\n",
       "      <td>1</td>\n",
       "      <td>NaN</td>\n",
       "      <td>5</td>\n",
       "    </tr>\n",
       "    <tr>\n",
       "      <td>11</td>\n",
       "      <td>19</td>\n",
       "      <td>46-55</td>\n",
       "      <td>NaN</td>\n",
       "      <td>0</td>\n",
       "      <td>1</td>\n",
       "      <td>NaN</td>\n",
       "      <td>3</td>\n",
       "    </tr>\n",
       "    <tr>\n",
       "      <td>14</td>\n",
       "      <td>28</td>\n",
       "      <td>46-55</td>\n",
       "      <td>NaN</td>\n",
       "      <td>0</td>\n",
       "      <td>2</td>\n",
       "      <td>NaN</td>\n",
       "      <td>1</td>\n",
       "    </tr>\n",
       "    <tr>\n",
       "      <td>15</td>\n",
       "      <td>30</td>\n",
       "      <td>70+</td>\n",
       "      <td>NaN</td>\n",
       "      <td>0</td>\n",
       "      <td>1</td>\n",
       "      <td>NaN</td>\n",
       "      <td>5</td>\n",
       "    </tr>\n",
       "    <tr>\n",
       "      <td>18</td>\n",
       "      <td>35</td>\n",
       "      <td>18-25</td>\n",
       "      <td>NaN</td>\n",
       "      <td>0</td>\n",
       "      <td>2</td>\n",
       "      <td>NaN</td>\n",
       "      <td>4</td>\n",
       "    </tr>\n",
       "    <tr>\n",
       "      <td>...</td>\n",
       "      <td>...</td>\n",
       "      <td>...</td>\n",
       "      <td>...</td>\n",
       "      <td>...</td>\n",
       "      <td>...</td>\n",
       "      <td>...</td>\n",
       "      <td>...</td>\n",
       "    </tr>\n",
       "    <tr>\n",
       "      <td>744</td>\n",
       "      <td>1545</td>\n",
       "      <td>36-45</td>\n",
       "      <td>NaN</td>\n",
       "      <td>0</td>\n",
       "      <td>2</td>\n",
       "      <td>NaN</td>\n",
       "      <td>8</td>\n",
       "    </tr>\n",
       "    <tr>\n",
       "      <td>750</td>\n",
       "      <td>1566</td>\n",
       "      <td>26-35</td>\n",
       "      <td>NaN</td>\n",
       "      <td>0</td>\n",
       "      <td>2</td>\n",
       "      <td>NaN</td>\n",
       "      <td>9</td>\n",
       "    </tr>\n",
       "    <tr>\n",
       "      <td>755</td>\n",
       "      <td>1577</td>\n",
       "      <td>36-45</td>\n",
       "      <td>NaN</td>\n",
       "      <td>0</td>\n",
       "      <td>2</td>\n",
       "      <td>NaN</td>\n",
       "      <td>5</td>\n",
       "    </tr>\n",
       "    <tr>\n",
       "      <td>757</td>\n",
       "      <td>1579</td>\n",
       "      <td>46-55</td>\n",
       "      <td>NaN</td>\n",
       "      <td>0</td>\n",
       "      <td>1</td>\n",
       "      <td>NaN</td>\n",
       "      <td>4</td>\n",
       "    </tr>\n",
       "    <tr>\n",
       "      <td>758</td>\n",
       "      <td>1580</td>\n",
       "      <td>26-35</td>\n",
       "      <td>NaN</td>\n",
       "      <td>0</td>\n",
       "      <td>2</td>\n",
       "      <td>NaN</td>\n",
       "      <td>5</td>\n",
       "    </tr>\n",
       "  </tbody>\n",
       "</table>\n",
       "<p>272 rows × 7 columns</p>\n",
       "</div>"
      ],
      "text/plain": [
       "     customer_id age_range marital_status  rented family_size no_of_children  \\\n",
       "10            17     36-45            NaN       0           1            NaN   \n",
       "11            19     46-55            NaN       0           1            NaN   \n",
       "14            28     46-55            NaN       0           2            NaN   \n",
       "15            30       70+            NaN       0           1            NaN   \n",
       "18            35     18-25            NaN       0           2            NaN   \n",
       "..           ...       ...            ...     ...         ...            ...   \n",
       "744         1545     36-45            NaN       0           2            NaN   \n",
       "750         1566     26-35            NaN       0           2            NaN   \n",
       "755         1577     36-45            NaN       0           2            NaN   \n",
       "757         1579     46-55            NaN       0           1            NaN   \n",
       "758         1580     26-35            NaN       0           2            NaN   \n",
       "\n",
       "     income_bracket  \n",
       "10                5  \n",
       "11                3  \n",
       "14                1  \n",
       "15                5  \n",
       "18                4  \n",
       "..              ...  \n",
       "744               8  \n",
       "750               9  \n",
       "755               5  \n",
       "757               4  \n",
       "758               5  \n",
       "\n",
       "[272 rows x 7 columns]"
      ]
     },
     "execution_count": 36,
     "metadata": {},
     "output_type": "execute_result"
    }
   ],
   "source": [
    "# Imputing where 'marital_status' is NaN and 'no_of_children' is NaN :\n",
    "\n",
    "marital_status_AND_no_of_children_NaN = customer_demographs[(customer_demographs['marital_status']=='NaN') & (customer_demographs['no_of_children']=='NaN')]\n",
    "marital_status_AND_no_of_children_NaN"
   ]
  },
  {
   "cell_type": "code",
   "execution_count": 37,
   "metadata": {},
   "outputs": [
    {
     "data": {
      "text/plain": [
       "<matplotlib.axes._subplots.AxesSubplot at 0xd6d7d92c8>"
      ]
     },
     "execution_count": 37,
     "metadata": {},
     "output_type": "execute_result"
    },
    {
     "data": {
      "image/png": "[encoded data removed]",
      "text/plain": [
       "<Figure size 1440x360 with 2 Axes>"
      ]
     },
     "metadata": {
      "needs_background": "light"
     },
     "output_type": "display_data"
    }
   ],
   "source": [
    "plt.figure(figsize=(20, 5))\n",
    "\n",
    "plt.subplot(1,2,1)\n",
    "sns.countplot(data=marital_status_AND_no_of_children_NaN, x='age_range', hue='family_size')\n",
    "\n",
    "plt.subplot(1,2,2)\n",
    "sns.countplot(data=customer_demographs, x='age_range', hue='no_of_children')"
   ]
  },
  {
   "cell_type": "markdown",
   "metadata": {},
   "source": [
    "We want to impute where marital_status & no_of_children are NaN (Nulls) :\n",
    "\n",
    "+ Now we first attempt to impute 'no_of_children' feature :"
   ]
  },
  {
   "cell_type": "markdown",
   "metadata": {},
   "source": [
    "> 1.) For the ***age_range*** & ***family_size status*** no defininte inference can be found for imputation.\n",
    "\n",
    "> 2.) For ***age_range*** vs ***no_of_children***, we will use the 2nd plot to impute 'no_of_children' feature according to maximum present values."
   ]
  },
  {
   "cell_type": "code",
   "execution_count": 38,
   "metadata": {},
   "outputs": [],
   "source": [
    "# Feature imputation according to the maximum occurences of the 'age_range' class values in 'marital_status'=Null and 'no_of_children'= null:\n",
    "\n",
    "# Where 'marital_status'=NaN & 'no_of_children'=NaN, we look by 'age_range' & 'no_of_children' feature (2nd plot): \n",
    "\n",
    "\n",
    "customer_demographs.ix[(customer_demographs['no_of_children']=='NaN') & \n",
    "                        (customer_demographs['marital_status']=='NaN')& \n",
    "                        (customer_demographs['age_range']=='70+'), 'no_of_children'] = '1'  \n",
    "\n",
    "customer_demographs.ix[(customer_demographs['no_of_children']=='NaN') & \n",
    "                        (customer_demographs['marital_status']=='NaN')& \n",
    "                        (customer_demographs['age_range']=='46-55'), 'no_of_children'] = '1'\n",
    "\n",
    "customer_demographs.ix[(customer_demographs['no_of_children']=='NaN') & \n",
    "                        (customer_demographs['marital_status']=='NaN')& \n",
    "                        (customer_demographs['age_range']=='26-35'), 'no_of_children'] = '1'\n",
    "\n",
    "customer_demographs.ix[(customer_demographs['no_of_children']=='NaN') & \n",
    "                        (customer_demographs['marital_status']=='NaN')& \n",
    "                        (customer_demographs['age_range']=='36-45'), 'no_of_children'] = '1'\n",
    "\n",
    "customer_demographs.ix[(customer_demographs['no_of_children']=='NaN') & \n",
    "                        (customer_demographs['marital_status']=='NaN')& \n",
    "                        (customer_demographs['age_range']=='56-70'), 'no_of_children'] = '2'\n",
    "\n",
    "customer_demographs.ix[(customer_demographs['no_of_children']=='NaN') & \n",
    "                        (customer_demographs['marital_status']=='NaN')& \n",
    "                        (customer_demographs['age_range']=='18-25'), 'no_of_children'] = '1'"
   ]
  },
  {
   "cell_type": "markdown",
   "metadata": {},
   "source": [
    "> 1.) Where 'marital_status'=NotNull & 'no_of_children'=Null, imputation has been performed. \n",
    "\n",
    "> 2.) Where 'marital_status'=Null & 'no_of_children'=Null, imputation has been performed. \n",
    "\n",
    "> 3.) Where 'marital_status'=Null & 'no_of_children'=NotNull, imputation is now left. "
   ]
  },
  {
   "cell_type": "code",
   "execution_count": 39,
   "metadata": {},
   "outputs": [
    {
     "data": {
      "text/plain": [
       "329"
      ]
     },
     "execution_count": 39,
     "metadata": {},
     "output_type": "execute_result"
    }
   ],
   "source": [
    "# final imputation to perform where 'marital_status'=Null and 'no_of_children'=Not Null :\n",
    "\n",
    "len(customer_demographs[(customer_demographs['marital_status']=='NaN') & (customer_demographs['no_of_children']!='NaN')])"
   ]
  },
  {
   "cell_type": "code",
   "execution_count": 40,
   "metadata": {},
   "outputs": [
    {
     "data": {
      "text/plain": [
       "<matplotlib.axes._subplots.AxesSubplot at 0xd6d8f8488>"
      ]
     },
     "execution_count": 40,
     "metadata": {},
     "output_type": "execute_result"
    },
    {
     "data": {
      "image/png": "[encoded data removed]",
      "text/plain": [
       "<Figure size 1440x504 with 2 Axes>"
      ]
     },
     "metadata": {
      "needs_background": "light"
     },
     "output_type": "display_data"
    }
   ],
   "source": [
    "plt.figure(figsize=(20, 7))\n",
    "\n",
    "plt.subplot(1,2,1)\n",
    "sns.countplot(data=customer_demographs, x='marital_status', hue='age_range')\n",
    "\n",
    "plt.subplot(1,2,2)\n",
    "sns.countplot(data=customer_demographs, x='marital_status', hue='family_size')"
   ]
  },
  {
   "cell_type": "markdown",
   "metadata": {},
   "source": [
    ">  Since 1st plot does not reveal much for imputing the NaNs in the marital_status, hence we use the 2nd plot to impute the 'NaN' marital_status according to the presence of maximum occurence of values in marital_status : \n",
    "\n",
    "> + Where 'family_size'=1 and 'marital_status' is NaN, impute setting marital_status='Single'.\n",
    "\n",
    "> + Where 'family_size'=5 and 'marital_status' is NaN, impute setting marital_status='Married'.\n",
    "\n",
    "> + Where 'family_size'=4 and 'marital_status' is NaN, impute setting marital_status='Married'.\n",
    "\n",
    "> + Where 'family_size'=3 and 'marital_status' is NaN, impute setting marital_status='Married'.\n",
    "\n",
    "> + Where 'family_size'=2 and 'marital_status' is NaN, impute setting marital_status='Married'."
   ]
  },
  {
   "cell_type": "code",
   "execution_count": 41,
   "metadata": {},
   "outputs": [],
   "source": [
    "# Feature imputation according to the rules mentioned above for 'marital_status' only :\n",
    "\n",
    "customer_demographs.ix[(customer_demographs['family_size']=='1') & \n",
    "                        (customer_demographs['marital_status']=='NaN'), 'marital_status'] = 'Single'  \n",
    "\n",
    "customer_demographs.ix[(customer_demographs['family_size']=='5+') & \n",
    "                        (customer_demographs['marital_status']=='NaN'), 'marital_status'] = 'Married'  \n",
    "\n",
    "customer_demographs.ix[(customer_demographs['family_size']=='4') & \n",
    "                        (customer_demographs['marital_status']=='NaN'), 'marital_status'] = 'Married'  \n",
    "\n",
    "customer_demographs.ix[(customer_demographs['family_size']=='3') & \n",
    "                        (customer_demographs['marital_status']=='NaN'), 'marital_status'] = 'Married'  \n",
    "\n",
    "customer_demographs.ix[(customer_demographs['family_size']=='2') & \n",
    "                        (customer_demographs['marital_status']=='NaN'), 'marital_status'] = 'Married'"
   ]
  },
  {
   "cell_type": "code",
   "execution_count": 42,
   "metadata": {},
   "outputs": [
    {
     "data": {
      "text/plain": [
       "1     512\n",
       "2      97\n",
       "0      91\n",
       "3+     60\n",
       "Name: no_of_children, dtype: int64"
      ]
     },
     "execution_count": 42,
     "metadata": {},
     "output_type": "execute_result"
    }
   ],
   "source": [
    "# Value counts of customer_demographs 'no_of_children':\n",
    "\n",
    "customer_demographs.no_of_children.value_counts()"
   ]
  },
  {
   "cell_type": "code",
   "execution_count": 43,
   "metadata": {},
   "outputs": [
    {
     "data": {
      "text/plain": [
       "Married    463\n",
       "Single     297\n",
       "Name: marital_status, dtype: int64"
      ]
     },
     "execution_count": 43,
     "metadata": {},
     "output_type": "execute_result"
    }
   ],
   "source": [
    "# Value counts of customer_demographs 'marital_status':\n",
    "\n",
    "customer_demographs.marital_status.value_counts()"
   ]
  },
  {
   "cell_type": "markdown",
   "metadata": {},
   "source": [
    "#### *Imputation of the 'no_of_children' & 'marital_status' has been accomplished*"
   ]
  },
  {
   "cell_type": "markdown",
   "metadata": {},
   "source": [
    "### *Coupon_item_mapping & Item_Data :*"
   ]
  },
  {
   "cell_type": "code",
   "execution_count": 44,
   "metadata": {},
   "outputs": [
    {
     "data": {
      "text/html": [
       "<div>\n",
       "<style scoped>\n",
       "    .dataframe tbody tr th:only-of-type {\n",
       "        vertical-align: middle;\n",
       "    }\n",
       "\n",
       "    .dataframe tbody tr th {\n",
       "        vertical-align: top;\n",
       "    }\n",
       "\n",
       "    .dataframe thead th {\n",
       "        text-align: right;\n",
       "    }\n",
       "</style>\n",
       "<table border=\"1\" class=\"dataframe\">\n",
       "  <thead>\n",
       "    <tr style=\"text-align: right;\">\n",
       "      <th></th>\n",
       "      <th>coupon_id</th>\n",
       "      <th>item_id</th>\n",
       "    </tr>\n",
       "  </thead>\n",
       "  <tbody>\n",
       "    <tr>\n",
       "      <td>0</td>\n",
       "      <td>105</td>\n",
       "      <td>37</td>\n",
       "    </tr>\n",
       "    <tr>\n",
       "      <td>1</td>\n",
       "      <td>107</td>\n",
       "      <td>75</td>\n",
       "    </tr>\n",
       "    <tr>\n",
       "      <td>2</td>\n",
       "      <td>494</td>\n",
       "      <td>76</td>\n",
       "    </tr>\n",
       "    <tr>\n",
       "      <td>3</td>\n",
       "      <td>522</td>\n",
       "      <td>77</td>\n",
       "    </tr>\n",
       "    <tr>\n",
       "      <td>4</td>\n",
       "      <td>518</td>\n",
       "      <td>77</td>\n",
       "    </tr>\n",
       "  </tbody>\n",
       "</table>\n",
       "</div>"
      ],
      "text/plain": [
       "   coupon_id  item_id\n",
       "0        105       37\n",
       "1        107       75\n",
       "2        494       76\n",
       "3        522       77\n",
       "4        518       77"
      ]
     },
     "execution_count": 44,
     "metadata": {},
     "output_type": "execute_result"
    }
   ],
   "source": [
    "coupon_item_mapping.head()"
   ]
  },
  {
   "cell_type": "code",
   "execution_count": 45,
   "metadata": {},
   "outputs": [
    {
     "data": {
      "text/html": [
       "<div>\n",
       "<style scoped>\n",
       "    .dataframe tbody tr th:only-of-type {\n",
       "        vertical-align: middle;\n",
       "    }\n",
       "\n",
       "    .dataframe tbody tr th {\n",
       "        vertical-align: top;\n",
       "    }\n",
       "\n",
       "    .dataframe thead th {\n",
       "        text-align: right;\n",
       "    }\n",
       "</style>\n",
       "<table border=\"1\" class=\"dataframe\">\n",
       "  <thead>\n",
       "    <tr style=\"text-align: right;\">\n",
       "      <th></th>\n",
       "      <th>item_id</th>\n",
       "      <th>brand</th>\n",
       "      <th>brand_type</th>\n",
       "      <th>category</th>\n",
       "    </tr>\n",
       "  </thead>\n",
       "  <tbody>\n",
       "    <tr>\n",
       "      <td>0</td>\n",
       "      <td>1</td>\n",
       "      <td>1</td>\n",
       "      <td>Established</td>\n",
       "      <td>Grocery</td>\n",
       "    </tr>\n",
       "    <tr>\n",
       "      <td>1</td>\n",
       "      <td>2</td>\n",
       "      <td>1</td>\n",
       "      <td>Established</td>\n",
       "      <td>Miscellaneous</td>\n",
       "    </tr>\n",
       "    <tr>\n",
       "      <td>2</td>\n",
       "      <td>3</td>\n",
       "      <td>56</td>\n",
       "      <td>Local</td>\n",
       "      <td>Bakery</td>\n",
       "    </tr>\n",
       "    <tr>\n",
       "      <td>3</td>\n",
       "      <td>4</td>\n",
       "      <td>56</td>\n",
       "      <td>Local</td>\n",
       "      <td>Grocery</td>\n",
       "    </tr>\n",
       "    <tr>\n",
       "      <td>4</td>\n",
       "      <td>5</td>\n",
       "      <td>56</td>\n",
       "      <td>Local</td>\n",
       "      <td>Grocery</td>\n",
       "    </tr>\n",
       "  </tbody>\n",
       "</table>\n",
       "</div>"
      ],
      "text/plain": [
       "   item_id  brand   brand_type       category\n",
       "0        1      1  Established        Grocery\n",
       "1        2      1  Established  Miscellaneous\n",
       "2        3     56        Local         Bakery\n",
       "3        4     56        Local        Grocery\n",
       "4        5     56        Local        Grocery"
      ]
     },
     "execution_count": 45,
     "metadata": {},
     "output_type": "execute_result"
    }
   ],
   "source": [
    "item_data.head()"
   ]
  },
  {
   "cell_type": "code",
   "execution_count": 46,
   "metadata": {},
   "outputs": [],
   "source": [
    "coup_MERGED_item = coupon_item_mapping.merge(item_data, how='inner', on='item_id')"
   ]
  },
  {
   "cell_type": "code",
   "execution_count": 47,
   "metadata": {},
   "outputs": [
    {
     "data": {
      "text/html": [
       "<div>\n",
       "<style scoped>\n",
       "    .dataframe tbody tr th:only-of-type {\n",
       "        vertical-align: middle;\n",
       "    }\n",
       "\n",
       "    .dataframe tbody tr th {\n",
       "        vertical-align: top;\n",
       "    }\n",
       "\n",
       "    .dataframe thead th {\n",
       "        text-align: right;\n",
       "    }\n",
       "</style>\n",
       "<table border=\"1\" class=\"dataframe\">\n",
       "  <thead>\n",
       "    <tr style=\"text-align: right;\">\n",
       "      <th></th>\n",
       "      <th>coupon_id</th>\n",
       "      <th>item_id</th>\n",
       "      <th>brand</th>\n",
       "      <th>brand_type</th>\n",
       "      <th>category</th>\n",
       "    </tr>\n",
       "  </thead>\n",
       "  <tbody>\n",
       "    <tr>\n",
       "      <td>0</td>\n",
       "      <td>105</td>\n",
       "      <td>37</td>\n",
       "      <td>56</td>\n",
       "      <td>Local</td>\n",
       "      <td>Grocery</td>\n",
       "    </tr>\n",
       "    <tr>\n",
       "      <td>1</td>\n",
       "      <td>6</td>\n",
       "      <td>37</td>\n",
       "      <td>56</td>\n",
       "      <td>Local</td>\n",
       "      <td>Grocery</td>\n",
       "    </tr>\n",
       "    <tr>\n",
       "      <td>2</td>\n",
       "      <td>22</td>\n",
       "      <td>37</td>\n",
       "      <td>56</td>\n",
       "      <td>Local</td>\n",
       "      <td>Grocery</td>\n",
       "    </tr>\n",
       "    <tr>\n",
       "      <td>3</td>\n",
       "      <td>31</td>\n",
       "      <td>37</td>\n",
       "      <td>56</td>\n",
       "      <td>Local</td>\n",
       "      <td>Grocery</td>\n",
       "    </tr>\n",
       "    <tr>\n",
       "      <td>4</td>\n",
       "      <td>107</td>\n",
       "      <td>75</td>\n",
       "      <td>56</td>\n",
       "      <td>Local</td>\n",
       "      <td>Grocery</td>\n",
       "    </tr>\n",
       "  </tbody>\n",
       "</table>\n",
       "</div>"
      ],
      "text/plain": [
       "   coupon_id  item_id  brand brand_type category\n",
       "0        105       37     56      Local  Grocery\n",
       "1          6       37     56      Local  Grocery\n",
       "2         22       37     56      Local  Grocery\n",
       "3         31       37     56      Local  Grocery\n",
       "4        107       75     56      Local  Grocery"
      ]
     },
     "execution_count": 47,
     "metadata": {},
     "output_type": "execute_result"
    }
   ],
   "source": [
    "coup_MERGED_item.head()"
   ]
  },
  {
   "cell_type": "code",
   "execution_count": 48,
   "metadata": {},
   "outputs": [
    {
     "data": {
      "text/plain": [
       "Established    78759\n",
       "Local          13904\n",
       "Name: brand_type, dtype: int64"
      ]
     },
     "execution_count": 48,
     "metadata": {},
     "output_type": "execute_result"
    }
   ],
   "source": [
    "coup_MERGED_item.brand_type.value_counts()"
   ]
  },
  {
   "cell_type": "code",
   "execution_count": 49,
   "metadata": {},
   "outputs": [
    {
     "data": {
      "text/plain": [
       "Grocery                   36466\n",
       "Pharmaceutical            25061\n",
       "Natural Products           6819\n",
       "Meat                       6218\n",
       "Packaged Meat              6144\n",
       "Skin & Hair Care           4924\n",
       "Seafood                    2227\n",
       "Flowers & Plants           1963\n",
       "Dairy, Juices & Snacks     1867\n",
       "Garden                      286\n",
       "Prepared Food               240\n",
       "Miscellaneous               184\n",
       "Bakery                      100\n",
       "Salads                      100\n",
       "Travel                       44\n",
       "Vegetables (cut)             19\n",
       "Restauarant                   1\n",
       "Name: category, dtype: int64"
      ]
     },
     "execution_count": 49,
     "metadata": {},
     "output_type": "execute_result"
    }
   ],
   "source": [
    "coup_MERGED_item.category.value_counts()"
   ]
  },
  {
   "cell_type": "code",
   "execution_count": 50,
   "metadata": {},
   "outputs": [
    {
     "data": {
      "text/html": [
       "<div>\n",
       "<style scoped>\n",
       "    .dataframe tbody tr th:only-of-type {\n",
       "        vertical-align: middle;\n",
       "    }\n",
       "\n",
       "    .dataframe tbody tr th {\n",
       "        vertical-align: top;\n",
       "    }\n",
       "\n",
       "    .dataframe thead th {\n",
       "        text-align: right;\n",
       "    }\n",
       "</style>\n",
       "<table border=\"1\" class=\"dataframe\">\n",
       "  <thead>\n",
       "    <tr style=\"text-align: right;\">\n",
       "      <th></th>\n",
       "      <th>coupon_id</th>\n",
       "      <th>category</th>\n",
       "    </tr>\n",
       "  </thead>\n",
       "  <tbody>\n",
       "    <tr>\n",
       "      <td>0</td>\n",
       "      <td>1</td>\n",
       "      <td>39</td>\n",
       "    </tr>\n",
       "    <tr>\n",
       "      <td>1</td>\n",
       "      <td>2</td>\n",
       "      <td>2</td>\n",
       "    </tr>\n",
       "    <tr>\n",
       "      <td>2</td>\n",
       "      <td>3</td>\n",
       "      <td>17</td>\n",
       "    </tr>\n",
       "    <tr>\n",
       "      <td>3</td>\n",
       "      <td>4</td>\n",
       "      <td>24</td>\n",
       "    </tr>\n",
       "    <tr>\n",
       "      <td>4</td>\n",
       "      <td>5</td>\n",
       "      <td>7</td>\n",
       "    </tr>\n",
       "  </tbody>\n",
       "</table>\n",
       "</div>"
      ],
      "text/plain": [
       "   coupon_id  category\n",
       "0          1        39\n",
       "1          2         2\n",
       "2          3        17\n",
       "3          4        24\n",
       "4          5         7"
      ]
     },
     "execution_count": 50,
     "metadata": {},
     "output_type": "execute_result"
    }
   ],
   "source": [
    "coup_MERGED_item_groupBy = coup_MERGED_item.groupby('coupon_id').agg({'category':'count'})\n",
    "coup_MERGED_item_groupBy.reset_index(inplace=True)\n",
    "coup_MERGED_item_groupBy.head()"
   ]
  },
  {
   "cell_type": "markdown",
   "metadata": {},
   "source": [
    ">   One coupon (coupon_id) gets applied on more than one type of item_id and each item_id can have different **(brand_type+category)**"
   ]
  },
  {
   "cell_type": "markdown",
   "metadata": {},
   "source": [
    "### *Item_Data & Customer_Transaction_Data :*"
   ]
  },
  {
   "cell_type": "code",
   "execution_count": 51,
   "metadata": {},
   "outputs": [
    {
     "data": {
      "text/html": [
       "<div>\n",
       "<style scoped>\n",
       "    .dataframe tbody tr th:only-of-type {\n",
       "        vertical-align: middle;\n",
       "    }\n",
       "\n",
       "    .dataframe tbody tr th {\n",
       "        vertical-align: top;\n",
       "    }\n",
       "\n",
       "    .dataframe thead th {\n",
       "        text-align: right;\n",
       "    }\n",
       "</style>\n",
       "<table border=\"1\" class=\"dataframe\">\n",
       "  <thead>\n",
       "    <tr style=\"text-align: right;\">\n",
       "      <th></th>\n",
       "      <th>date</th>\n",
       "      <th>customer_id</th>\n",
       "      <th>item_id</th>\n",
       "      <th>quantity</th>\n",
       "      <th>selling_price</th>\n",
       "      <th>other_discount</th>\n",
       "      <th>coupon_discount</th>\n",
       "    </tr>\n",
       "  </thead>\n",
       "  <tbody>\n",
       "    <tr>\n",
       "      <td>0</td>\n",
       "      <td>2012-01-02</td>\n",
       "      <td>1501</td>\n",
       "      <td>26830</td>\n",
       "      <td>1</td>\n",
       "      <td>35.26</td>\n",
       "      <td>-10.69</td>\n",
       "      <td>0.0</td>\n",
       "    </tr>\n",
       "    <tr>\n",
       "      <td>1</td>\n",
       "      <td>2012-01-02</td>\n",
       "      <td>1501</td>\n",
       "      <td>54253</td>\n",
       "      <td>1</td>\n",
       "      <td>53.43</td>\n",
       "      <td>-13.89</td>\n",
       "      <td>0.0</td>\n",
       "    </tr>\n",
       "    <tr>\n",
       "      <td>2</td>\n",
       "      <td>2012-01-02</td>\n",
       "      <td>1501</td>\n",
       "      <td>31962</td>\n",
       "      <td>1</td>\n",
       "      <td>106.50</td>\n",
       "      <td>-14.25</td>\n",
       "      <td>0.0</td>\n",
       "    </tr>\n",
       "    <tr>\n",
       "      <td>3</td>\n",
       "      <td>2012-01-02</td>\n",
       "      <td>1501</td>\n",
       "      <td>33647</td>\n",
       "      <td>1</td>\n",
       "      <td>67.32</td>\n",
       "      <td>0.00</td>\n",
       "      <td>0.0</td>\n",
       "    </tr>\n",
       "    <tr>\n",
       "      <td>4</td>\n",
       "      <td>2012-01-02</td>\n",
       "      <td>1501</td>\n",
       "      <td>48199</td>\n",
       "      <td>1</td>\n",
       "      <td>71.24</td>\n",
       "      <td>-28.14</td>\n",
       "      <td>0.0</td>\n",
       "    </tr>\n",
       "  </tbody>\n",
       "</table>\n",
       "</div>"
      ],
      "text/plain": [
       "         date  customer_id  item_id  quantity  selling_price  other_discount  \\\n",
       "0  2012-01-02         1501    26830         1          35.26          -10.69   \n",
       "1  2012-01-02         1501    54253         1          53.43          -13.89   \n",
       "2  2012-01-02         1501    31962         1         106.50          -14.25   \n",
       "3  2012-01-02         1501    33647         1          67.32            0.00   \n",
       "4  2012-01-02         1501    48199         1          71.24          -28.14   \n",
       "\n",
       "   coupon_discount  \n",
       "0              0.0  \n",
       "1              0.0  \n",
       "2              0.0  \n",
       "3              0.0  \n",
       "4              0.0  "
      ]
     },
     "execution_count": 51,
     "metadata": {},
     "output_type": "execute_result"
    }
   ],
   "source": [
    "customer_transaction_data.head()"
   ]
  },
  {
   "cell_type": "code",
   "execution_count": 52,
   "metadata": {},
   "outputs": [
    {
     "data": {
      "text/plain": [
       "(1324566, 7)"
      ]
     },
     "execution_count": 52,
     "metadata": {},
     "output_type": "execute_result"
    }
   ],
   "source": [
    "customer_transaction_data.shape"
   ]
  },
  {
   "cell_type": "code",
   "execution_count": 53,
   "metadata": {},
   "outputs": [
    {
     "data": {
      "text/html": [
       "<div>\n",
       "<style scoped>\n",
       "    .dataframe tbody tr th:only-of-type {\n",
       "        vertical-align: middle;\n",
       "    }\n",
       "\n",
       "    .dataframe tbody tr th {\n",
       "        vertical-align: top;\n",
       "    }\n",
       "\n",
       "    .dataframe thead th {\n",
       "        text-align: right;\n",
       "    }\n",
       "</style>\n",
       "<table border=\"1\" class=\"dataframe\">\n",
       "  <thead>\n",
       "    <tr style=\"text-align: right;\">\n",
       "      <th></th>\n",
       "      <th>item_id</th>\n",
       "      <th>brand</th>\n",
       "      <th>brand_type</th>\n",
       "      <th>category</th>\n",
       "    </tr>\n",
       "  </thead>\n",
       "  <tbody>\n",
       "    <tr>\n",
       "      <td>0</td>\n",
       "      <td>1</td>\n",
       "      <td>1</td>\n",
       "      <td>Established</td>\n",
       "      <td>Grocery</td>\n",
       "    </tr>\n",
       "    <tr>\n",
       "      <td>1</td>\n",
       "      <td>2</td>\n",
       "      <td>1</td>\n",
       "      <td>Established</td>\n",
       "      <td>Miscellaneous</td>\n",
       "    </tr>\n",
       "    <tr>\n",
       "      <td>2</td>\n",
       "      <td>3</td>\n",
       "      <td>56</td>\n",
       "      <td>Local</td>\n",
       "      <td>Bakery</td>\n",
       "    </tr>\n",
       "    <tr>\n",
       "      <td>3</td>\n",
       "      <td>4</td>\n",
       "      <td>56</td>\n",
       "      <td>Local</td>\n",
       "      <td>Grocery</td>\n",
       "    </tr>\n",
       "    <tr>\n",
       "      <td>4</td>\n",
       "      <td>5</td>\n",
       "      <td>56</td>\n",
       "      <td>Local</td>\n",
       "      <td>Grocery</td>\n",
       "    </tr>\n",
       "  </tbody>\n",
       "</table>\n",
       "</div>"
      ],
      "text/plain": [
       "   item_id  brand   brand_type       category\n",
       "0        1      1  Established        Grocery\n",
       "1        2      1  Established  Miscellaneous\n",
       "2        3     56        Local         Bakery\n",
       "3        4     56        Local        Grocery\n",
       "4        5     56        Local        Grocery"
      ]
     },
     "execution_count": 53,
     "metadata": {},
     "output_type": "execute_result"
    }
   ],
   "source": [
    "item_data.head()"
   ]
  },
  {
   "cell_type": "code",
   "execution_count": 54,
   "metadata": {},
   "outputs": [
    {
     "data": {
      "text/plain": [
       "(74066, 4)"
      ]
     },
     "execution_count": 54,
     "metadata": {},
     "output_type": "execute_result"
    }
   ],
   "source": [
    "item_data.shape"
   ]
  },
  {
   "cell_type": "code",
   "execution_count": 55,
   "metadata": {},
   "outputs": [],
   "source": [
    "customer_transaction_data_groupBy.reset_index(inplace=True)"
   ]
  },
  {
   "cell_type": "code",
   "execution_count": 56,
   "metadata": {},
   "outputs": [
    {
     "data": {
      "text/html": [
       "<div>\n",
       "<style scoped>\n",
       "    .dataframe tbody tr th:only-of-type {\n",
       "        vertical-align: middle;\n",
       "    }\n",
       "\n",
       "    .dataframe tbody tr th {\n",
       "        vertical-align: top;\n",
       "    }\n",
       "\n",
       "    .dataframe thead tr th {\n",
       "        text-align: left;\n",
       "    }\n",
       "</style>\n",
       "<table border=\"1\" class=\"dataframe\">\n",
       "  <thead>\n",
       "    <tr>\n",
       "      <th></th>\n",
       "      <th>customer_id</th>\n",
       "      <th colspan=\"4\" halign=\"left\">selling_price</th>\n",
       "      <th colspan=\"4\" halign=\"left\">other_discount</th>\n",
       "      <th colspan=\"4\" halign=\"left\">coupon_discount</th>\n",
       "    </tr>\n",
       "    <tr>\n",
       "      <th></th>\n",
       "      <th></th>\n",
       "      <th>mean</th>\n",
       "      <th>max</th>\n",
       "      <th>min</th>\n",
       "      <th>sum</th>\n",
       "      <th>mean</th>\n",
       "      <th>max</th>\n",
       "      <th>min</th>\n",
       "      <th>sum</th>\n",
       "      <th>mean</th>\n",
       "      <th>max</th>\n",
       "      <th>min</th>\n",
       "      <th>sum</th>\n",
       "    </tr>\n",
       "  </thead>\n",
       "  <tbody>\n",
       "    <tr>\n",
       "      <td>0</td>\n",
       "      <td>1</td>\n",
       "      <td>94.001842</td>\n",
       "      <td>445.25</td>\n",
       "      <td>12.11</td>\n",
       "      <td>98513.93</td>\n",
       "      <td>-16.250382</td>\n",
       "      <td>0.0</td>\n",
       "      <td>-372.23</td>\n",
       "      <td>-17030.40</td>\n",
       "      <td>-2.019876</td>\n",
       "      <td>0.0</td>\n",
       "      <td>-106.86</td>\n",
       "      <td>-2116.83</td>\n",
       "    </tr>\n",
       "    <tr>\n",
       "      <td>1</td>\n",
       "      <td>2</td>\n",
       "      <td>102.864033</td>\n",
       "      <td>640.80</td>\n",
       "      <td>14.25</td>\n",
       "      <td>43100.03</td>\n",
       "      <td>-16.830430</td>\n",
       "      <td>0.0</td>\n",
       "      <td>-312.03</td>\n",
       "      <td>-7051.95</td>\n",
       "      <td>-0.595084</td>\n",
       "      <td>0.0</td>\n",
       "      <td>-89.05</td>\n",
       "      <td>-249.34</td>\n",
       "    </tr>\n",
       "    <tr>\n",
       "      <td>2</td>\n",
       "      <td>3</td>\n",
       "      <td>103.617404</td>\n",
       "      <td>862.00</td>\n",
       "      <td>8.90</td>\n",
       "      <td>73050.27</td>\n",
       "      <td>-22.714227</td>\n",
       "      <td>0.0</td>\n",
       "      <td>-463.06</td>\n",
       "      <td>-16013.53</td>\n",
       "      <td>-3.091546</td>\n",
       "      <td>0.0</td>\n",
       "      <td>-142.48</td>\n",
       "      <td>-2179.54</td>\n",
       "    </tr>\n",
       "    <tr>\n",
       "      <td>3</td>\n",
       "      <td>4</td>\n",
       "      <td>154.423727</td>\n",
       "      <td>1330.05</td>\n",
       "      <td>14.25</td>\n",
       "      <td>33973.22</td>\n",
       "      <td>-13.305409</td>\n",
       "      <td>0.0</td>\n",
       "      <td>-390.04</td>\n",
       "      <td>-2927.19</td>\n",
       "      <td>-0.404773</td>\n",
       "      <td>0.0</td>\n",
       "      <td>-89.05</td>\n",
       "      <td>-89.05</td>\n",
       "    </tr>\n",
       "    <tr>\n",
       "      <td>4</td>\n",
       "      <td>5</td>\n",
       "      <td>130.827146</td>\n",
       "      <td>1485.35</td>\n",
       "      <td>12.11</td>\n",
       "      <td>103615.10</td>\n",
       "      <td>-13.657917</td>\n",
       "      <td>0.0</td>\n",
       "      <td>-216.21</td>\n",
       "      <td>-10817.07</td>\n",
       "      <td>-0.114684</td>\n",
       "      <td>0.0</td>\n",
       "      <td>-71.24</td>\n",
       "      <td>-90.83</td>\n",
       "    </tr>\n",
       "  </tbody>\n",
       "</table>\n",
       "</div>"
      ],
      "text/plain": [
       "  customer_id selling_price                            other_discount       \\\n",
       "                       mean      max    min        sum           mean  max   \n",
       "0           1     94.001842   445.25  12.11   98513.93     -16.250382  0.0   \n",
       "1           2    102.864033   640.80  14.25   43100.03     -16.830430  0.0   \n",
       "2           3    103.617404   862.00   8.90   73050.27     -22.714227  0.0   \n",
       "3           4    154.423727  1330.05  14.25   33973.22     -13.305409  0.0   \n",
       "4           5    130.827146  1485.35  12.11  103615.10     -13.657917  0.0   \n",
       "\n",
       "                    coupon_discount                        \n",
       "      min       sum            mean  max     min      sum  \n",
       "0 -372.23 -17030.40       -2.019876  0.0 -106.86 -2116.83  \n",
       "1 -312.03  -7051.95       -0.595084  0.0  -89.05  -249.34  \n",
       "2 -463.06 -16013.53       -3.091546  0.0 -142.48 -2179.54  \n",
       "3 -390.04  -2927.19       -0.404773  0.0  -89.05   -89.05  \n",
       "4 -216.21 -10817.07       -0.114684  0.0  -71.24   -90.83  "
      ]
     },
     "execution_count": 56,
     "metadata": {},
     "output_type": "execute_result"
    }
   ],
   "source": [
    "customer_transaction_data_groupBy.head()"
   ]
  },
  {
   "cell_type": "code",
   "execution_count": 57,
   "metadata": {},
   "outputs": [
    {
     "data": {
      "text/plain": [
       "(1582, 13)"
      ]
     },
     "execution_count": 57,
     "metadata": {},
     "output_type": "execute_result"
    }
   ],
   "source": [
    "customer_transaction_data_groupBy.shape"
   ]
  },
  {
   "cell_type": "markdown",
   "metadata": {},
   "source": [
    "### *Preparing the train set :* "
   ]
  },
  {
   "cell_type": "code",
   "execution_count": 58,
   "metadata": {},
   "outputs": [
    {
     "data": {
      "text/plain": [
       "(78369, 8)"
      ]
     },
     "execution_count": 58,
     "metadata": {},
     "output_type": "execute_result"
    }
   ],
   "source": [
    "# train_latest = train + campaign_data :\n",
    "\n",
    "train_MERGED_campaign_data = train.merge(campaign_data, how='left', on='campaign_id')\n",
    "train_MERGED_campaign_data.shape"
   ]
  },
  {
   "cell_type": "code",
   "execution_count": 110,
   "metadata": {},
   "outputs": [
    {
     "data": {
      "text/plain": [
       "id                   0\n",
       "campaign_id          0\n",
       "coupon_id            0\n",
       "customer_id          0\n",
       "redemption_status    0\n",
       "campaign_type        0\n",
       "start_date           0\n",
       "end_date             0\n",
       "dtype: int64"
      ]
     },
     "execution_count": 110,
     "metadata": {},
     "output_type": "execute_result"
    }
   ],
   "source": [
    "train_MERGED_campaign_data.isnull().sum()"
   ]
  },
  {
   "cell_type": "code",
   "execution_count": 61,
   "metadata": {},
   "outputs": [
    {
     "data": {
      "text/plain": [
       "(78369, 9)"
      ]
     },
     "execution_count": 61,
     "metadata": {},
     "output_type": "execute_result"
    }
   ],
   "source": [
    "# train_latest = train_latest + coup_merged_item\n",
    "train_MERGED_campaign_data_MERGED_coupon = train_MERGED_campaign_data.merge(coup_MERGED_item_groupBy, how='left', on='coupon_id') \n",
    "train_MERGED_campaign_data_MERGED_coupon.shape"
   ]
  },
  {
   "cell_type": "code",
   "execution_count": 111,
   "metadata": {},
   "outputs": [
    {
     "data": {
      "text/plain": [
       "id                   0\n",
       "campaign_id          0\n",
       "coupon_id            0\n",
       "customer_id          0\n",
       "redemption_status    0\n",
       "campaign_type        0\n",
       "start_date           0\n",
       "end_date             0\n",
       "category             0\n",
       "dtype: int64"
      ]
     },
     "execution_count": 111,
     "metadata": {},
     "output_type": "execute_result"
    }
   ],
   "source": [
    "train_MERGED_campaign_data_MERGED_coupon.isnull().sum()"
   ]
  },
  {
   "cell_type": "code",
   "execution_count": 62,
   "metadata": {},
   "outputs": [
    {
     "data": {
      "text/plain": [
       "(78369, 15)"
      ]
     },
     "execution_count": 62,
     "metadata": {},
     "output_type": "execute_result"
    }
   ],
   "source": [
    "# train_latest = train_latest + customer_dempgraphs\n",
    "train_MERGED_campaign_data_MERGED_coupon_MERGED_customer_demographics = train_MERGED_campaign_data_MERGED_coupon.merge(customer_demographs, \n",
    "                                                                                                                      how='left', on='customer_id')\n",
    "train_MERGED_campaign_data_MERGED_coupon_MERGED_customer_demographics.shape                                                                        "
   ]
  },
  {
   "cell_type": "code",
   "execution_count": 112,
   "metadata": {},
   "outputs": [
    {
     "data": {
      "text/plain": [
       "id                       0\n",
       "campaign_id              0\n",
       "coupon_id                0\n",
       "customer_id              0\n",
       "redemption_status        0\n",
       "campaign_type            0\n",
       "start_date               0\n",
       "end_date                 0\n",
       "category                 0\n",
       "age_range            34708\n",
       "marital_status       34708\n",
       "rented               34708\n",
       "family_size          34708\n",
       "no_of_children       34708\n",
       "income_bracket       34708\n",
       "dtype: int64"
      ]
     },
     "execution_count": 112,
     "metadata": {},
     "output_type": "execute_result"
    }
   ],
   "source": [
    "train_MERGED_campaign_data_MERGED_coupon_MERGED_customer_demographics.isnull().sum()"
   ]
  },
  {
   "cell_type": "code",
   "execution_count": 63,
   "metadata": {},
   "outputs": [
    {
     "data": {
      "text/plain": [
       "(78369, 27)"
      ]
     },
     "execution_count": 63,
     "metadata": {},
     "output_type": "execute_result"
    }
   ],
   "source": [
    "# train_latest = train_latest + customer_transaction_data_merged_item_data\n",
    "train_MERGED_campaign_data_MERGED_coupon_MERGED_customer_demographics_MERGED_customer_transaction_data = train_MERGED_campaign_data_MERGED_coupon_MERGED_customer_demographics.merge(customer_transaction_data_groupBy, \n",
    "                                                                                                                      how='left', \n",
    "                                                                                                                      on='customer_id')\n",
    "train_MERGED_campaign_data_MERGED_coupon_MERGED_customer_demographics_MERGED_customer_transaction_data.shape"
   ]
  },
  {
   "cell_type": "code",
   "execution_count": 64,
   "metadata": {},
   "outputs": [
    {
     "data": {
      "text/html": [
       "<div>\n",
       "<style scoped>\n",
       "    .dataframe tbody tr th:only-of-type {\n",
       "        vertical-align: middle;\n",
       "    }\n",
       "\n",
       "    .dataframe tbody tr th {\n",
       "        vertical-align: top;\n",
       "    }\n",
       "\n",
       "    .dataframe thead th {\n",
       "        text-align: right;\n",
       "    }\n",
       "</style>\n",
       "<table border=\"1\" class=\"dataframe\">\n",
       "  <thead>\n",
       "    <tr style=\"text-align: right;\">\n",
       "      <th></th>\n",
       "      <th>id</th>\n",
       "      <th>campaign_id</th>\n",
       "      <th>coupon_id</th>\n",
       "      <th>customer_id</th>\n",
       "      <th>redemption_status</th>\n",
       "    </tr>\n",
       "  </thead>\n",
       "  <tbody>\n",
       "    <tr>\n",
       "      <td>0</td>\n",
       "      <td>1</td>\n",
       "      <td>13</td>\n",
       "      <td>27</td>\n",
       "      <td>1053</td>\n",
       "      <td>0</td>\n",
       "    </tr>\n",
       "    <tr>\n",
       "      <td>1</td>\n",
       "      <td>2</td>\n",
       "      <td>13</td>\n",
       "      <td>116</td>\n",
       "      <td>48</td>\n",
       "      <td>0</td>\n",
       "    </tr>\n",
       "    <tr>\n",
       "      <td>2</td>\n",
       "      <td>6</td>\n",
       "      <td>9</td>\n",
       "      <td>635</td>\n",
       "      <td>205</td>\n",
       "      <td>0</td>\n",
       "    </tr>\n",
       "    <tr>\n",
       "      <td>3</td>\n",
       "      <td>7</td>\n",
       "      <td>13</td>\n",
       "      <td>644</td>\n",
       "      <td>1050</td>\n",
       "      <td>0</td>\n",
       "    </tr>\n",
       "    <tr>\n",
       "      <td>4</td>\n",
       "      <td>9</td>\n",
       "      <td>8</td>\n",
       "      <td>1017</td>\n",
       "      <td>1489</td>\n",
       "      <td>0</td>\n",
       "    </tr>\n",
       "  </tbody>\n",
       "</table>\n",
       "</div>"
      ],
      "text/plain": [
       "   id  campaign_id  coupon_id  customer_id  redemption_status\n",
       "0   1           13         27         1053                  0\n",
       "1   2           13        116           48                  0\n",
       "2   6            9        635          205                  0\n",
       "3   7           13        644         1050                  0\n",
       "4   9            8       1017         1489                  0"
      ]
     },
     "execution_count": 64,
     "metadata": {},
     "output_type": "execute_result"
    }
   ],
   "source": [
    "train.head()"
   ]
  },
  {
   "cell_type": "code",
   "execution_count": 65,
   "metadata": {},
   "outputs": [
    {
     "data": {
      "text/plain": [
       "(78369, 27)"
      ]
     },
     "execution_count": 65,
     "metadata": {},
     "output_type": "execute_result"
    }
   ],
   "source": [
    "# final train_set :\n",
    "\n",
    "train_df = train_MERGED_campaign_data_MERGED_coupon_MERGED_customer_demographics_MERGED_customer_transaction_data\n",
    "train_df.shape"
   ]
  },
  {
   "cell_type": "code",
   "execution_count": 76,
   "metadata": {},
   "outputs": [
    {
     "data": {
      "text/plain": [
       "id                          0\n",
       "campaign_id                 0\n",
       "coupon_id                   0\n",
       "customer_id                 0\n",
       "redemption_status           0\n",
       "campaign_type               0\n",
       "start_date                  0\n",
       "end_date                    0\n",
       "category                    0\n",
       "age_range               34708\n",
       "marital_status          34708\n",
       "rented                  34708\n",
       "family_size             34708\n",
       "no_of_children          34708\n",
       "income_bracket          34708\n",
       "selling_price_mean          0\n",
       "selling_price_max           0\n",
       "selling_price_min           0\n",
       "selling_price_sum           0\n",
       "other_discount_mean         0\n",
       "other_discount_max          0\n",
       "other_discount_min          0\n",
       "other_discount_sum          0\n",
       "coupon_discount_mean        0\n",
       "coupon_discount_max         0\n",
       "coupon_discount_min         0\n",
       "coupon_discount_sum         0\n",
       "dtype: int64"
      ]
     },
     "execution_count": 76,
     "metadata": {},
     "output_type": "execute_result"
    }
   ],
   "source": [
    "train_df.isnull().sum()"
   ]
  },
  {
   "cell_type": "code",
   "execution_count": 94,
   "metadata": {},
   "outputs": [
    {
     "name": "stdout",
     "output_type": "stream",
     "text": [
      "<class 'pandas.core.frame.DataFrame'>\n",
      "Int64Index: 78369 entries, 0 to 78368\n",
      "Data columns (total 27 columns):\n",
      "id                      78369 non-null int64\n",
      "campaign_id             78369 non-null int64\n",
      "coupon_id               78369 non-null int64\n",
      "customer_id             78369 non-null int64\n",
      "redemption_status       78369 non-null int64\n",
      "campaign_type           78369 non-null object\n",
      "start_date              78369 non-null datetime64[ns]\n",
      "end_date                78369 non-null datetime64[ns]\n",
      "category                78369 non-null int64\n",
      "age_range               43661 non-null object\n",
      "marital_status          43661 non-null object\n",
      "rented                  43661 non-null float64\n",
      "family_size             43661 non-null object\n",
      "no_of_children          43661 non-null object\n",
      "income_bracket          43661 non-null float64\n",
      "selling_price_mean      78369 non-null float64\n",
      "selling_price_max       78369 non-null float64\n",
      "selling_price_min       78369 non-null float64\n",
      "selling_price_sum       78369 non-null float64\n",
      "other_discount_mean     78369 non-null float64\n",
      "other_discount_max      78369 non-null float64\n",
      "other_discount_min      78369 non-null float64\n",
      "other_discount_sum      78369 non-null float64\n",
      "coupon_discount_mean    78369 non-null float64\n",
      "coupon_discount_max     78369 non-null float64\n",
      "coupon_discount_min     78369 non-null float64\n",
      "coupon_discount_sum     78369 non-null float64\n",
      "dtypes: datetime64[ns](2), float64(14), int64(6), object(5)\n",
      "memory usage: 16.7+ MB\n"
     ]
    }
   ],
   "source": [
    "train_df.info()"
   ]
  },
  {
   "cell_type": "code",
   "execution_count": 73,
   "metadata": {},
   "outputs": [],
   "source": [
    "# Rectifying columns in train :\n",
    "\n",
    "feature_list_train = [str(each_train_col[0]+\"_\"+each_train_col[1]) if str(type(each_train_col))==\"<class 'tuple'>\" else each_train_col  for each_train_col in train_df.columns ]"
   ]
  },
  {
   "cell_type": "code",
   "execution_count": 75,
   "metadata": {},
   "outputs": [],
   "source": [
    "# rectifying column names :\n",
    "\n",
    "train_df.columns = feature_list_train"
   ]
  },
  {
   "cell_type": "markdown",
   "metadata": {},
   "source": [
    "### *Train set still contains Nulls  :*"
   ]
  },
  {
   "cell_type": "code",
   "execution_count": 93,
   "metadata": {},
   "outputs": [
    {
     "data": {
      "text/html": [
       "<div>\n",
       "<style scoped>\n",
       "    .dataframe tbody tr th:only-of-type {\n",
       "        vertical-align: middle;\n",
       "    }\n",
       "\n",
       "    .dataframe tbody tr th {\n",
       "        vertical-align: top;\n",
       "    }\n",
       "\n",
       "    .dataframe thead th {\n",
       "        text-align: right;\n",
       "    }\n",
       "</style>\n",
       "<table border=\"1\" class=\"dataframe\">\n",
       "  <thead>\n",
       "    <tr style=\"text-align: right;\">\n",
       "      <th></th>\n",
       "      <th>id</th>\n",
       "      <th>campaign_id</th>\n",
       "      <th>coupon_id</th>\n",
       "      <th>customer_id</th>\n",
       "      <th>redemption_status</th>\n",
       "      <th>campaign_type</th>\n",
       "      <th>start_date</th>\n",
       "      <th>end_date</th>\n",
       "      <th>category</th>\n",
       "      <th>age_range</th>\n",
       "      <th>...</th>\n",
       "      <th>selling_price_min</th>\n",
       "      <th>selling_price_sum</th>\n",
       "      <th>other_discount_mean</th>\n",
       "      <th>other_discount_max</th>\n",
       "      <th>other_discount_min</th>\n",
       "      <th>other_discount_sum</th>\n",
       "      <th>coupon_discount_mean</th>\n",
       "      <th>coupon_discount_max</th>\n",
       "      <th>coupon_discount_min</th>\n",
       "      <th>coupon_discount_sum</th>\n",
       "    </tr>\n",
       "  </thead>\n",
       "  <tbody>\n",
       "    <tr>\n",
       "      <td>0</td>\n",
       "      <td>1</td>\n",
       "      <td>13</td>\n",
       "      <td>27</td>\n",
       "      <td>1053</td>\n",
       "      <td>0</td>\n",
       "      <td>X</td>\n",
       "      <td>2013-05-19</td>\n",
       "      <td>2013-05-07</td>\n",
       "      <td>125</td>\n",
       "      <td>46-55</td>\n",
       "      <td>...</td>\n",
       "      <td>17.45</td>\n",
       "      <td>57120.75</td>\n",
       "      <td>-33.168935</td>\n",
       "      <td>0.0</td>\n",
       "      <td>-890.50</td>\n",
       "      <td>-10282.37</td>\n",
       "      <td>-0.287258</td>\n",
       "      <td>0.0</td>\n",
       "      <td>-89.05</td>\n",
       "      <td>-89.05</td>\n",
       "    </tr>\n",
       "    <tr>\n",
       "      <td>1</td>\n",
       "      <td>2</td>\n",
       "      <td>13</td>\n",
       "      <td>116</td>\n",
       "      <td>48</td>\n",
       "      <td>0</td>\n",
       "      <td>X</td>\n",
       "      <td>2013-05-19</td>\n",
       "      <td>2013-05-07</td>\n",
       "      <td>3</td>\n",
       "      <td>36-45</td>\n",
       "      <td>...</td>\n",
       "      <td>7.12</td>\n",
       "      <td>90185.10</td>\n",
       "      <td>-27.699169</td>\n",
       "      <td>0.0</td>\n",
       "      <td>-372.23</td>\n",
       "      <td>-10664.18</td>\n",
       "      <td>-3.215039</td>\n",
       "      <td>0.0</td>\n",
       "      <td>-213.72</td>\n",
       "      <td>-1237.79</td>\n",
       "    </tr>\n",
       "    <tr>\n",
       "      <td>2</td>\n",
       "      <td>6</td>\n",
       "      <td>9</td>\n",
       "      <td>635</td>\n",
       "      <td>205</td>\n",
       "      <td>0</td>\n",
       "      <td>Y</td>\n",
       "      <td>2013-11-03</td>\n",
       "      <td>2013-12-04</td>\n",
       "      <td>67</td>\n",
       "      <td>46-55</td>\n",
       "      <td>...</td>\n",
       "      <td>17.45</td>\n",
       "      <td>117461.66</td>\n",
       "      <td>-17.795660</td>\n",
       "      <td>0.0</td>\n",
       "      <td>-468.05</td>\n",
       "      <td>-17261.79</td>\n",
       "      <td>-2.212082</td>\n",
       "      <td>0.0</td>\n",
       "      <td>-89.05</td>\n",
       "      <td>-2145.72</td>\n",
       "    </tr>\n",
       "    <tr>\n",
       "      <td>3</td>\n",
       "      <td>7</td>\n",
       "      <td>13</td>\n",
       "      <td>644</td>\n",
       "      <td>1050</td>\n",
       "      <td>0</td>\n",
       "      <td>X</td>\n",
       "      <td>2013-05-19</td>\n",
       "      <td>2013-05-07</td>\n",
       "      <td>4</td>\n",
       "      <td>NaN</td>\n",
       "      <td>...</td>\n",
       "      <td>13.89</td>\n",
       "      <td>23291.42</td>\n",
       "      <td>-16.655570</td>\n",
       "      <td>0.0</td>\n",
       "      <td>-312.03</td>\n",
       "      <td>-3947.37</td>\n",
       "      <td>-0.751477</td>\n",
       "      <td>0.0</td>\n",
       "      <td>-89.05</td>\n",
       "      <td>-178.10</td>\n",
       "    </tr>\n",
       "    <tr>\n",
       "      <td>4</td>\n",
       "      <td>9</td>\n",
       "      <td>8</td>\n",
       "      <td>1017</td>\n",
       "      <td>1489</td>\n",
       "      <td>0</td>\n",
       "      <td>X</td>\n",
       "      <td>2013-02-16</td>\n",
       "      <td>2013-05-04</td>\n",
       "      <td>32</td>\n",
       "      <td>46-55</td>\n",
       "      <td>...</td>\n",
       "      <td>8.90</td>\n",
       "      <td>67797.49</td>\n",
       "      <td>-20.524733</td>\n",
       "      <td>0.0</td>\n",
       "      <td>-320.22</td>\n",
       "      <td>-11534.90</td>\n",
       "      <td>-0.471548</td>\n",
       "      <td>0.0</td>\n",
       "      <td>-53.43</td>\n",
       "      <td>-265.01</td>\n",
       "    </tr>\n",
       "  </tbody>\n",
       "</table>\n",
       "<p>5 rows × 27 columns</p>\n",
       "</div>"
      ],
      "text/plain": [
       "   id  campaign_id  coupon_id  customer_id  redemption_status campaign_type  \\\n",
       "0   1           13         27         1053                  0             X   \n",
       "1   2           13        116           48                  0             X   \n",
       "2   6            9        635          205                  0             Y   \n",
       "3   7           13        644         1050                  0             X   \n",
       "4   9            8       1017         1489                  0             X   \n",
       "\n",
       "  start_date   end_date  category age_range  ... selling_price_min  \\\n",
       "0 2013-05-19 2013-05-07       125     46-55  ...             17.45   \n",
       "1 2013-05-19 2013-05-07         3     36-45  ...              7.12   \n",
       "2 2013-11-03 2013-12-04        67     46-55  ...             17.45   \n",
       "3 2013-05-19 2013-05-07         4       NaN  ...             13.89   \n",
       "4 2013-02-16 2013-05-04        32     46-55  ...              8.90   \n",
       "\n",
       "   selling_price_sum other_discount_mean other_discount_max  \\\n",
       "0           57120.75          -33.168935                0.0   \n",
       "1           90185.10          -27.699169                0.0   \n",
       "2          117461.66          -17.795660                0.0   \n",
       "3           23291.42          -16.655570                0.0   \n",
       "4           67797.49          -20.524733                0.0   \n",
       "\n",
       "   other_discount_min  other_discount_sum  coupon_discount_mean  \\\n",
       "0             -890.50           -10282.37             -0.287258   \n",
       "1             -372.23           -10664.18             -3.215039   \n",
       "2             -468.05           -17261.79             -2.212082   \n",
       "3             -312.03            -3947.37             -0.751477   \n",
       "4             -320.22           -11534.90             -0.471548   \n",
       "\n",
       "   coupon_discount_max  coupon_discount_min  coupon_discount_sum  \n",
       "0                  0.0               -89.05               -89.05  \n",
       "1                  0.0              -213.72             -1237.79  \n",
       "2                  0.0               -89.05             -2145.72  \n",
       "3                  0.0               -89.05              -178.10  \n",
       "4                  0.0               -53.43              -265.01  \n",
       "\n",
       "[5 rows x 27 columns]"
      ]
     },
     "execution_count": 93,
     "metadata": {},
     "output_type": "execute_result"
    }
   ],
   "source": [
    "# Feature engineering timedelta(days) from campaign_start and end_dates for train and test sets :\n",
    "\n",
    "train_df['Gap_days_campaign'] = train['end_date'] - train['start_date'] \n",
    "test_df['Gap_days_campaign'] = test['end_date'] - test['start_date'] \n",
    "\n",
    "# train_df.head()"
   ]
  },
  {
   "cell_type": "code",
   "execution_count": null,
   "metadata": {},
   "outputs": [],
   "source": []
  },
  {
   "cell_type": "code",
   "execution_count": null,
   "metadata": {},
   "outputs": [],
   "source": []
  },
  {
   "cell_type": "code",
   "execution_count": null,
   "metadata": {},
   "outputs": [],
   "source": []
  },
  {
   "cell_type": "markdown",
   "metadata": {},
   "source": [
    "### *Preparing the test set :* "
   ]
  },
  {
   "cell_type": "code",
   "execution_count": null,
   "metadata": {},
   "outputs": [],
   "source": [
    "# test_latest = test + campaign_data \n",
    "\n",
    "test_MERGED_campaign_data = test.merge(campaign_data, how='left', on='campaign_id')\n",
    "test_MERGED_campaign_data.shape\n",
    "\n",
    "# test_latest = test_latest + coup_merged_item\n",
    "test_MERGED_campaign_data_MERGED_coupon = test_MERGED_campaign_data.merge(coup_MERGED_item_groupBy, how='left', on='coupon_id') \n",
    "test_MERGED_campaign_data_MERGED_coupon.shape\n",
    "\n",
    "# test_latest = test_latest + customer_dempgraphs\n",
    "test_MERGED_campaign_data_MERGED_coupon_MERGED_customer_demographics = test_MERGED_campaign_data_MERGED_coupon.merge(customer_demographs, \n",
    "                                                                                                                      how='left', on='customer_id')\n",
    "test_MERGED_campaign_data_MERGED_coupon_MERGED_customer_demographics.shape                                                                        \n",
    "\n",
    "# test_latest = test_latest + customer_transaction_data_merged_item_data\n",
    "test_MERGED_campaign_data_MERGED_coupon_MERGED_customer_demographics_MERGED_customer_transaction_data = test_MERGED_campaign_data_MERGED_coupon_MERGED_customer_demographics.merge(customer_transaction_data_groupBy, \n",
    "                                                                                                                      how='left', \n",
    "                                                                                                                      on='customer_id')\n",
    "test_MERGED_campaign_data_MERGED_coupon_MERGED_customer_demographics_MERGED_customer_transaction_data.shape\n",
    "\n",
    "# final test_set :\n",
    "\n",
    "test_df = test_MERGED_campaign_data_MERGED_coupon_MERGED_customer_demographics_MERGED_customer_transaction_data\n",
    "test_df.shape"
   ]
  },
  {
   "cell_type": "code",
   "execution_count": null,
   "metadata": {},
   "outputs": [],
   "source": [
    "test_df.isnull().sum()"
   ]
  },
  {
   "cell_type": "code",
   "execution_count": null,
   "metadata": {},
   "outputs": [],
   "source": [
    "# Rectifying columns in test :\n",
    "\n",
    "feature_list_test = [str(each_test_col[0]+\"_\"+each_test_col[1]) if str(type(each_test_col))==\"<class 'tuple'>\" else each_test_col  for each_test_col in test.columns ]"
   ]
  },
  {
   "cell_type": "code",
   "execution_count": null,
   "metadata": {},
   "outputs": [],
   "source": [
    "# train set :\n",
    "\n",
    "train.shape"
   ]
  },
  {
   "cell_type": "code",
   "execution_count": null,
   "metadata": {},
   "outputs": [],
   "source": [
    "train.head()"
   ]
  },
  {
   "cell_type": "code",
   "execution_count": null,
   "metadata": {},
   "outputs": [],
   "source": [
    "# train set features :\n",
    "\n",
    "train.columns"
   ]
  },
  {
   "cell_type": "code",
   "execution_count": null,
   "metadata": {},
   "outputs": [],
   "source": [
    "# test set :\n",
    "test.shape"
   ]
  },
  {
   "cell_type": "code",
   "execution_count": null,
   "metadata": {},
   "outputs": [],
   "source": [
    "test.head()"
   ]
  },
  {
   "cell_type": "code",
   "execution_count": null,
   "metadata": {},
   "outputs": [],
   "source": []
  },
  {
   "cell_type": "code",
   "execution_count": 103,
   "metadata": {},
   "outputs": [
    {
     "data": {
      "text/plain": [
       "1428"
      ]
     },
     "execution_count": 103,
     "metadata": {},
     "output_type": "execute_result"
    }
   ],
   "source": [
    "train.customer_id.nunique()"
   ]
  },
  {
   "cell_type": "code",
   "execution_count": 105,
   "metadata": {},
   "outputs": [
    {
     "data": {
      "text/plain": [
       "760"
      ]
     },
     "execution_count": 105,
     "metadata": {},
     "output_type": "execute_result"
    }
   ],
   "source": [
    "customer_demographs.customer_id.nunique()"
   ]
  },
  {
   "cell_type": "code",
   "execution_count": 106,
   "metadata": {},
   "outputs": [],
   "source": [
    "sum = 0\n",
    "for each in train.customer_id.unique():\n",
    "    \n",
    "    if each in customer_demographs.customer_id.unique():\n",
    "        sum+=1"
   ]
  },
  {
   "cell_type": "code",
   "execution_count": 107,
   "metadata": {},
   "outputs": [
    {
     "data": {
      "text/plain": [
       "703"
      ]
     },
     "execution_count": 107,
     "metadata": {},
     "output_type": "execute_result"
    }
   ],
   "source": [
    "sum"
   ]
  },
  {
   "cell_type": "code",
   "execution_count": 108,
   "metadata": {},
   "outputs": [
    {
     "data": {
      "text/plain": [
       "725"
      ]
     },
     "execution_count": 108,
     "metadata": {},
     "output_type": "execute_result"
    }
   ],
   "source": [
    "1428-703"
   ]
  },
  {
   "cell_type": "code",
   "execution_count": 113,
   "metadata": {},
   "outputs": [
    {
     "data": {
      "text/html": [
       "<div>\n",
       "<style scoped>\n",
       "    .dataframe tbody tr th:only-of-type {\n",
       "        vertical-align: middle;\n",
       "    }\n",
       "\n",
       "    .dataframe tbody tr th {\n",
       "        vertical-align: top;\n",
       "    }\n",
       "\n",
       "    .dataframe thead th {\n",
       "        text-align: right;\n",
       "    }\n",
       "</style>\n",
       "<table border=\"1\" class=\"dataframe\">\n",
       "  <thead>\n",
       "    <tr style=\"text-align: right;\">\n",
       "      <th></th>\n",
       "      <th>id</th>\n",
       "      <th>campaign_id</th>\n",
       "      <th>coupon_id</th>\n",
       "      <th>customer_id</th>\n",
       "      <th>redemption_status</th>\n",
       "      <th>campaign_type</th>\n",
       "      <th>start_date</th>\n",
       "      <th>end_date</th>\n",
       "      <th>category</th>\n",
       "      <th>age_range</th>\n",
       "      <th>...</th>\n",
       "      <th>selling_price_min</th>\n",
       "      <th>selling_price_sum</th>\n",
       "      <th>other_discount_mean</th>\n",
       "      <th>other_discount_max</th>\n",
       "      <th>other_discount_min</th>\n",
       "      <th>other_discount_sum</th>\n",
       "      <th>coupon_discount_mean</th>\n",
       "      <th>coupon_discount_max</th>\n",
       "      <th>coupon_discount_min</th>\n",
       "      <th>coupon_discount_sum</th>\n",
       "    </tr>\n",
       "  </thead>\n",
       "  <tbody>\n",
       "    <tr>\n",
       "      <td>0</td>\n",
       "      <td>1</td>\n",
       "      <td>13</td>\n",
       "      <td>27</td>\n",
       "      <td>1053</td>\n",
       "      <td>0</td>\n",
       "      <td>X</td>\n",
       "      <td>2013-05-19</td>\n",
       "      <td>2013-05-07</td>\n",
       "      <td>125</td>\n",
       "      <td>46-55</td>\n",
       "      <td>...</td>\n",
       "      <td>17.45</td>\n",
       "      <td>57120.75</td>\n",
       "      <td>-33.168935</td>\n",
       "      <td>0.0</td>\n",
       "      <td>-890.50</td>\n",
       "      <td>-10282.37</td>\n",
       "      <td>-0.287258</td>\n",
       "      <td>0.0</td>\n",
       "      <td>-89.05</td>\n",
       "      <td>-89.05</td>\n",
       "    </tr>\n",
       "    <tr>\n",
       "      <td>1</td>\n",
       "      <td>2</td>\n",
       "      <td>13</td>\n",
       "      <td>116</td>\n",
       "      <td>48</td>\n",
       "      <td>0</td>\n",
       "      <td>X</td>\n",
       "      <td>2013-05-19</td>\n",
       "      <td>2013-05-07</td>\n",
       "      <td>3</td>\n",
       "      <td>36-45</td>\n",
       "      <td>...</td>\n",
       "      <td>7.12</td>\n",
       "      <td>90185.10</td>\n",
       "      <td>-27.699169</td>\n",
       "      <td>0.0</td>\n",
       "      <td>-372.23</td>\n",
       "      <td>-10664.18</td>\n",
       "      <td>-3.215039</td>\n",
       "      <td>0.0</td>\n",
       "      <td>-213.72</td>\n",
       "      <td>-1237.79</td>\n",
       "    </tr>\n",
       "    <tr>\n",
       "      <td>2</td>\n",
       "      <td>6</td>\n",
       "      <td>9</td>\n",
       "      <td>635</td>\n",
       "      <td>205</td>\n",
       "      <td>0</td>\n",
       "      <td>Y</td>\n",
       "      <td>2013-11-03</td>\n",
       "      <td>2013-12-04</td>\n",
       "      <td>67</td>\n",
       "      <td>46-55</td>\n",
       "      <td>...</td>\n",
       "      <td>17.45</td>\n",
       "      <td>117461.66</td>\n",
       "      <td>-17.795660</td>\n",
       "      <td>0.0</td>\n",
       "      <td>-468.05</td>\n",
       "      <td>-17261.79</td>\n",
       "      <td>-2.212082</td>\n",
       "      <td>0.0</td>\n",
       "      <td>-89.05</td>\n",
       "      <td>-2145.72</td>\n",
       "    </tr>\n",
       "    <tr>\n",
       "      <td>3</td>\n",
       "      <td>7</td>\n",
       "      <td>13</td>\n",
       "      <td>644</td>\n",
       "      <td>1050</td>\n",
       "      <td>0</td>\n",
       "      <td>X</td>\n",
       "      <td>2013-05-19</td>\n",
       "      <td>2013-05-07</td>\n",
       "      <td>4</td>\n",
       "      <td>NaN</td>\n",
       "      <td>...</td>\n",
       "      <td>13.89</td>\n",
       "      <td>23291.42</td>\n",
       "      <td>-16.655570</td>\n",
       "      <td>0.0</td>\n",
       "      <td>-312.03</td>\n",
       "      <td>-3947.37</td>\n",
       "      <td>-0.751477</td>\n",
       "      <td>0.0</td>\n",
       "      <td>-89.05</td>\n",
       "      <td>-178.10</td>\n",
       "    </tr>\n",
       "    <tr>\n",
       "      <td>4</td>\n",
       "      <td>9</td>\n",
       "      <td>8</td>\n",
       "      <td>1017</td>\n",
       "      <td>1489</td>\n",
       "      <td>0</td>\n",
       "      <td>X</td>\n",
       "      <td>2013-02-16</td>\n",
       "      <td>2013-05-04</td>\n",
       "      <td>32</td>\n",
       "      <td>46-55</td>\n",
       "      <td>...</td>\n",
       "      <td>8.90</td>\n",
       "      <td>67797.49</td>\n",
       "      <td>-20.524733</td>\n",
       "      <td>0.0</td>\n",
       "      <td>-320.22</td>\n",
       "      <td>-11534.90</td>\n",
       "      <td>-0.471548</td>\n",
       "      <td>0.0</td>\n",
       "      <td>-53.43</td>\n",
       "      <td>-265.01</td>\n",
       "    </tr>\n",
       "  </tbody>\n",
       "</table>\n",
       "<p>5 rows × 27 columns</p>\n",
       "</div>"
      ],
      "text/plain": [
       "   id  campaign_id  coupon_id  customer_id  redemption_status campaign_type  \\\n",
       "0   1           13         27         1053                  0             X   \n",
       "1   2           13        116           48                  0             X   \n",
       "2   6            9        635          205                  0             Y   \n",
       "3   7           13        644         1050                  0             X   \n",
       "4   9            8       1017         1489                  0             X   \n",
       "\n",
       "  start_date   end_date  category age_range  ... selling_price_min  \\\n",
       "0 2013-05-19 2013-05-07       125     46-55  ...             17.45   \n",
       "1 2013-05-19 2013-05-07         3     36-45  ...              7.12   \n",
       "2 2013-11-03 2013-12-04        67     46-55  ...             17.45   \n",
       "3 2013-05-19 2013-05-07         4       NaN  ...             13.89   \n",
       "4 2013-02-16 2013-05-04        32     46-55  ...              8.90   \n",
       "\n",
       "   selling_price_sum other_discount_mean other_discount_max  \\\n",
       "0           57120.75          -33.168935                0.0   \n",
       "1           90185.10          -27.699169                0.0   \n",
       "2          117461.66          -17.795660                0.0   \n",
       "3           23291.42          -16.655570                0.0   \n",
       "4           67797.49          -20.524733                0.0   \n",
       "\n",
       "   other_discount_min  other_discount_sum  coupon_discount_mean  \\\n",
       "0             -890.50           -10282.37             -0.287258   \n",
       "1             -372.23           -10664.18             -3.215039   \n",
       "2             -468.05           -17261.79             -2.212082   \n",
       "3             -312.03            -3947.37             -0.751477   \n",
       "4             -320.22           -11534.90             -0.471548   \n",
       "\n",
       "   coupon_discount_max  coupon_discount_min  coupon_discount_sum  \n",
       "0                  0.0               -89.05               -89.05  \n",
       "1                  0.0              -213.72             -1237.79  \n",
       "2                  0.0               -89.05             -2145.72  \n",
       "3                  0.0               -89.05              -178.10  \n",
       "4                  0.0               -53.43              -265.01  \n",
       "\n",
       "[5 rows x 27 columns]"
      ]
     },
     "execution_count": 113,
     "metadata": {},
     "output_type": "execute_result"
    }
   ],
   "source": [
    "train_df.head()"
   ]
  },
  {
   "cell_type": "code",
   "execution_count": null,
   "metadata": {},
   "outputs": [],
   "source": []
  }
 ],
 "metadata": {
  "kernelspec": {
   "display_name": "Python 3",
   "language": "python",
   "name": "python3"
  },
  "language_info": {
   "codemirror_mode": {
    "name": "ipython",
    "version": 3
   },
   "file_extension": ".py",
   "mimetype": "text/x-python",
   "name": "python",
   "nbconvert_exporter": "python",
   "pygments_lexer": "ipython3",
   "version": "3.7.4"
  }
 },
 "nbformat": 4,
 "nbformat_minor": 2
}
